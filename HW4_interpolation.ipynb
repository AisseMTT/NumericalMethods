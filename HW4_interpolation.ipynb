{
 "cells": [
  {
   "cell_type": "markdown",
   "metadata": {},
   "source": [
    "Before you turn this problem in, make sure everything runs as expected. First, **restart the kernel** (in the menubar, select Kernel$\\rightarrow$Restart) and then **run all cells** (in the menubar, select Cell$\\rightarrow$Run All).\n",
    "\n",
    "Make sure you fill in any place that says `YOUR CODE HERE` or \"YOUR ANSWER HERE\", as well as your name and collaborators below:"
   ]
  },
  {
   "cell_type": "code",
   "execution_count": 1,
   "metadata": {},
   "outputs": [],
   "source": [
    "NAME = \"Aisse Torres Torres\"\n",
    "COLLABORATORS = \"Bruna Costa\""
   ]
  },
  {
   "cell_type": "markdown",
   "metadata": {},
   "source": [
    "---"
   ]
  },
  {
   "cell_type": "code",
   "execution_count": 2,
   "metadata": {},
   "outputs": [],
   "source": [
    "%matplotlib inline\n",
    "import numpy\n",
    "import matplotlib.pyplot as plt"
   ]
  },
  {
   "cell_type": "markdown",
   "metadata": {
    "deletable": false,
    "editable": false,
    "nbgrader": {
     "cell_type": "markdown",
     "checksum": "935818b1cc5498fcab64162ff74a4e0a",
     "grade": false,
     "grade_id": "cell-6537906896021329",
     "locked": true,
     "schema_version": 3,
     "solution": false
    }
   },
   "source": [
    "Before you turn this problem in, make sure everything runs as expected. First, restart the kernel (in the menubar, select Kernel $\\rightarrow$ Restart) and then run all cells (in the menubar, select Cell $\\rightarrow$ Run All).\n",
    "\n",
    "Make sure you fill in any place that says YOUR CODE HERE or \"YOUR ANSWER HERE\", as well as your name and collaborators below:"
   ]
  },
  {
   "cell_type": "markdown",
   "metadata": {
    "deletable": false,
    "editable": false,
    "nbgrader": {
     "cell_type": "markdown",
     "checksum": "05a90bc96a8a096843e665eea1de53c4",
     "grade": false,
     "grade_id": "cell-5502088417300118",
     "locked": true,
     "schema_version": 3,
     "solution": false
    }
   },
   "source": [
    "# HW 4:  Interpolation"
   ]
  },
  {
   "cell_type": "markdown",
   "metadata": {
    "deletable": false,
    "editable": false,
    "nbgrader": {
     "cell_type": "markdown",
     "checksum": "09aa3e7992cd994495709007184999f6",
     "grade": false,
     "grade_id": "cell-82472618555790",
     "locked": true,
     "schema_version": 3,
     "solution": false
    }
   },
   "source": [
    "## Question 1\n",
    "\n",
    "Consider data at three points $(x_0, y_0) = (0, 0)$, $(x_1, y_1) = (1, 2)$, and $(x_2, y_2) = (2, 2)$."
   ]
  },
  {
   "cell_type": "markdown",
   "metadata": {
    "deletable": false,
    "editable": false,
    "nbgrader": {
     "cell_type": "markdown",
     "checksum": "799b014772dda1fc15420594007c2ff0",
     "grade": false,
     "grade_id": "cell-8265701073131704",
     "locked": true,
     "schema_version": 3,
     "solution": false
    }
   },
   "source": [
    "**(a)** Analytically find coefficients of the interpolating  polynomial $P_2(x)$ that passes through these three points in the following bases\n",
    "1. Monomial: $P(x) = p_0 + p_1 x + p_2 x^2$\n",
    "1. Lagrange: $P(x) = \\sum^2_{k=0} y_k \\ell_k(x)$\n",
    "1. Newton: $P(x) = \\sum^2_{i=0} a_i n_i(x)$\n",
    "\n",
    "and show that, independent of basis it's always the same polynomial"
   ]
  },
  {
   "cell_type": "markdown",
   "metadata": {},
   "source": [
    "Monomial: \n",
    "\n",
    "$$ \\begin{vmatrix}\n",
    "1 & 0 & 0\\\\\n",
    "1 & 1 & 1\\\\\n",
    "1 & 2 & 4\n",
    "\\end{vmatrix}  \\begin{vmatrix}\n",
    "a1 \\\\\n",
    "a2 \\\\\n",
    "a3 \n",
    "\\end{vmatrix} = \\begin{vmatrix}\n",
    "0 \\\\\n",
    "2 \\\\\n",
    "2 \n",
    "\\end{vmatrix} $$\n",
    "\n",
    "    By solving we get: \n",
    "\n",
    "$$ \\begin{vmatrix}\n",
    "a1 \\\\\n",
    "a2 \\\\\n",
    "a3 \n",
    "\\end{vmatrix} = \\begin{vmatrix}\n",
    "0 \\\\\n",
    "3 \\\\\n",
    "-1 \\end{vmatrix} $$\n",
    "\n",
    "    Therefore: \n",
    "    \n",
    "$$ P(x) = p_0 + p_1 x + p_2 x^2 $$\n",
    "\n",
    "$$ P(x) = 3x - x^2 $$\n",
    "    \n"
   ]
  },
  {
   "cell_type": "markdown",
   "metadata": {
    "deletable": false,
    "nbgrader": {
     "cell_type": "markdown",
     "checksum": "62764ad9d796ac9fb93b82b1143785a6",
     "grade": true,
     "grade_id": "cell-3823725410153810",
     "locked": false,
     "points": 14,
     "schema_version": 3,
     "solution": true
    }
   },
   "source": [
    "Lagrange: \n",
    "\n",
    "$$ p_2(x) = y_0L_0(x) + y_1L_1(x) + y_2L_2(x) $$\n",
    "\n",
    "    Calculate L0:\n",
    "\n",
    "$$ L_0(x) = \\frac{(x-x_1)(x-x_2)}{(x_0 - x_1)(x_0-x_2)} $$\n",
    "\n",
    "$$ L_0(x) = \\frac{(x-1)(x-2)}{(0 - 1)(0-2)} $$\n",
    "\n",
    "$$ L_0(x) = \\frac{(x-1)(x-2)}{2} $$\n",
    "\n",
    "    Calculate L1:\n",
    "\n",
    "$$ L_1(x) = \\frac{(x-x_0)(x-x_2)}{(x_1 - x_0)(x_1-x_2)} $$\n",
    "\n",
    "$$ L_1(x) = \\frac{(x-0)(x-2)}{(1 - 0)(1-2)} $$\n",
    "\n",
    "$$ L_1(x) = \\frac{(x)(x-2)}{-1} $$\n",
    "\n",
    "$$ L_1(x) = \\frac{x^2 - 2x}{-1} $$\n",
    "\n",
    "    Calculate L2: \n",
    "\n",
    "$$ L_2(x) = \\frac{(x-x_0)(x-x_1)}{(x_2 - x_0)(x_2-x_1)} $$\n",
    "\n",
    "$$ L_2(x) = \\frac{(x-0)(x-1)}{(2 - 0)(2-1)} $$\n",
    "\n",
    "$$ L_2(x) = \\frac{(x)(x-1)}{2} $$\n",
    "\n",
    "$$ L_2(x) = \\frac{x^2-x}{2} $$\n",
    "\n",
    "    Therefore: \n",
    "\n",
    "$$ p_2(x) = (0) \\times \\frac{(x-1)(x-2)}{2} + (2) \\times \\frac{x^2 - 2x}{-1} + (2) \\times \\frac{x^2-x}{2} $$\n",
    "\n",
    "$$ p_2(x) = -(2) \\times \\frac{x^2 - 2x}{1} + x^2-x $$\n",
    "\n",
    "$$ p_2(x) = -(2) \\times (x^2 - 2x) + x^2-x $$\n",
    "\n",
    "$$ p_2(x) =-2x^2 + 4x + x^2-x $$\n",
    "\n",
    "$$ p_2(x) =-x^2 + 3x $$\n",
    "\n",
    "$$ p_2(x) = 3x -x^2 $$"
   ]
  },
  {
   "cell_type": "markdown",
   "metadata": {},
   "source": [
    "Newton\n",
    "    \n",
    "    We know: \n",
    "\n",
    "$$ P_2(x) = a_0 + a_1(x - x_0) + a_2(x-x_0)(x-x_1) $$ \n",
    "\n",
    "    Where: \n",
    "    \n",
    "$$ a_0 = y_0 $$\n",
    "\n",
    "$$ a_1 = \\frac{y_1 - y_0}{x_1 - x_0} $$\n",
    "\n",
    "$$ a_2 = \\frac{\\frac{y_2 - y_0}{x_2-x_0} - \\frac{y_1 - y_0}{x_1-x_0}}{x_2 - x_1} $$\n",
    "\n",
    "    Then: \n",
    "\n",
    "$$ a_0 = 0 $$\n",
    "\n",
    "$$ a_1 = \\frac{2 - 0}{1 - 0} = 2 $$\n",
    "\n",
    "$$ a_2 = \\frac{\\frac{2 - 0}{2-0} - \\frac{2 - 0}{1-0}}{2 - 1} = \\frac{1 - 2}{1} = -1 $$\n",
    "\n",
    "    Finally: \n",
    "    \n",
    "$$ P_2(x) = 0 + 2(x - 0) -1(x-0)(x-1) $$\n",
    "\n",
    "$$ P_2(x) = 2x -1(x^2-x) $$\n",
    "\n",
    "$$ P_2(x) = 2x -x^2 + x $$\n",
    "\n",
    "$$ P_2(x) = 3x - x^2 $$\n",
    "\n",
    "\n",
    "    \n",
    " \n"
   ]
  },
  {
   "cell_type": "markdown",
   "metadata": {},
   "source": [
    "As can be seen, we get the same polynomial despite using different bases"
   ]
  },
  {
   "cell_type": "markdown",
   "metadata": {
    "deletable": false,
    "editable": false,
    "nbgrader": {
     "cell_type": "markdown",
     "checksum": "4e2d3cf2d27854587525f957b16e191d",
     "grade": false,
     "grade_id": "cell-3903963456638398",
     "locked": true,
     "schema_version": 3,
     "solution": false
    }
   },
   "source": [
    "**(b)** Extra Credit: Repeat the exercise for the general quadratic through three points $(x_0,y_0)$, $(x_1, y_1)$, $(x_2, y_2)$. Note, this isn't hard but it's quite tedious.\n"
   ]
  },
  {
   "cell_type": "markdown",
   "metadata": {
    "deletable": false,
    "nbgrader": {
     "cell_type": "markdown",
     "checksum": "88b3567371e9de88d662efa72bb085c7",
     "grade": true,
     "grade_id": "cell-4d5f9cb992960b2e",
     "locked": false,
     "points": 0,
     "schema_version": 3,
     "solution": true,
     "task": false
    }
   },
   "source": [
    "YOUR ANSWER HERE"
   ]
  },
  {
   "cell_type": "markdown",
   "metadata": {
    "deletable": false,
    "editable": false,
    "nbgrader": {
     "cell_type": "markdown",
     "checksum": "861c7bc4a9bfe6aab38d661035f4a7f9",
     "grade": false,
     "grade_id": "cell-3903963456629954",
     "locked": true,
     "schema_version": 3,
     "solution": false
    }
   },
   "source": [
    "**(c)** Use the uniqueness of the interpolating polynomial to show that for general $N+1$ points that for a function $f(x) = c$ with $c \\in \\mathbb R$ that\n",
    "\n",
    "$$\\sum^N_{i=0} \\ell_i(x) = 1$$\n",
    "\n",
    "holds for any value of $x$.\n"
   ]
  },
  {
   "cell_type": "markdown",
   "metadata": {
    "deletable": false,
    "nbgrader": {
     "cell_type": "markdown",
     "checksum": "a45926dd69a036c2edfd6cf82189426c",
     "grade": true,
     "grade_id": "cell-5902170639545808",
     "locked": false,
     "points": 4,
     "schema_version": 3,
     "solution": true
    }
   },
   "source": [
    "    Lets make the following P(x) equation 1:\n",
    "    \n",
    "$$ P(x) = \\sum^2_{k=0} y_k \\ell_k(x)$$\n",
    "\n",
    "    From previous problem, we know that: \n",
    "    \n",
    "$$ \\ell_i(x) = \\prod_{j = 0, j \\neq i}^n \\frac{x - x_j}{x_i - x_j} $$\n",
    "\n",
    "    Therefore: \n",
    "    \n",
    "$$ \\ell_i(x) = \\frac{(x-x_0) \\dots (x - x_{j - 1}) (x - x_{j + 1}) \\dots (x - x_n)}{(x_i - x_0) \\dots (x_i - x_{i - 1}) (x_i - x_{i + 1}) \\dots (x_i - x_n)} $$\n",
    "\n",
    "    For this problem we are told f(x) = c, therefore each yi = x for all 0 <= i <= n. Furthermore, we know that ln(n) = c so we can put the values into equation 1 giving us: \n",
    "    \n",
    "$$ c = \\sum^N_{i=0} c\\ell_i(x) $$\n",
    "\n",
    "$$ c = c\\sum^N_{i=0} \\ell_i(x) $$\n",
    "\n",
    "$$ \\therefore \\sum^N_{i=0} \\ell_i(x) = 1$$"
   ]
  },
  {
   "cell_type": "markdown",
   "metadata": {
    "deletable": false,
    "editable": false,
    "nbgrader": {
     "cell_type": "markdown",
     "checksum": "de26cbdfc389a5634bf4dfd2fc55a00d",
     "grade": false,
     "grade_id": "cell-6806070912155660",
     "locked": true,
     "schema_version": 3,
     "solution": false
    }
   },
   "source": [
    "## Question 2\n",
    "\n",
    "The $n$th Chebyshev polynomial is characterized (up to a constant) by the identity\n",
    "\n",
    "$$T_n(\\cos \\theta) = \\cos (n \\theta)$$\n",
    "\n",
    "Use this identity to show that the Chebyshev polynomials are orthogonal on $x\\in[-1,1]$ with respect to the weight\n",
    "\n",
    "$$w(x) = \\frac{1}{\\sqrt{1 - x^2}}$$\n",
    "\n",
    "To do this you must prove that\n",
    "\n",
    "$$\\int^1_{-1} w(x) T_n(x) T_m(x) dx = \\left \\{ \\begin{aligned} \n",
    "a & ~ & m = n \\\\ \n",
    "0 & ~ & m \\neq n \n",
    "\\end{aligned} \\right .$$\n",
    "\n",
    "where $a$ is a finite constant (also find this coefficient).  Note that you may have multiple non-zero coefficients $a$.  Make sure to cover all these cases and list the conditions that you will find these values."
   ]
  },
  {
   "cell_type": "markdown",
   "metadata": {
    "deletable": false,
    "nbgrader": {
     "cell_type": "markdown",
     "checksum": "30fc92751374bb2710d4fe7648e32a75",
     "grade": true,
     "grade_id": "cell-8354694405440956",
     "locked": false,
     "points": 4,
     "schema_version": 3,
     "solution": true
    }
   },
   "source": [
    "    Lets call the following equation, eq1\n",
    "    \n",
    "$$ <T_n, T_m> = \\int_{1}^{-1} w(x) T_n(x) T_m(x) dx $$\n",
    "\n",
    "    List of trig identities to prove orthogonal polynomials \n",
    "\n",
    "$$ \\sin(A) = \\sqrt{1 - \\cos^2(A)} $$\n",
    "\n",
    "$$ \\cos^2(t) = \\frac{\\cos(2t) + 1}{2} $$\n",
    "\n",
    "$$ \\cos(A)\\cos(B) = \\frac{1}{2}[\\cos(A + B) + cos(A - B)] $$\n",
    "\n",
    "    Consider m != n: then we need to prove that eq1 is equal to: \n",
    "\n",
    "$$ <T_n, T_m> = \\int_{1}^{-1} \\frac{1}{\\sqrt{1 - x^2}} T_n(x) T_m(x) dx $$\n",
    "\n",
    "    Simplify polynomial by using a substitution: \n",
    "    \n",
    "$$ x = \\cos(\\theta) $$\n",
    "\n",
    "$$ \\frac{dx}{d\\theta} = -\\sin(\\theta) $$\n",
    "\n",
    "$$ dx = -\\sin(\\theta) d\\theta $$\n",
    "\n",
    "    Solve for new bounds: \n",
    "\n",
    "$$ x = \\cos(\\theta) = -1 \\therefore \\theta = \\pi $$\n",
    "\n",
    "$$ x = \\cos(\\theta) = 1 \\therefore \\theta = 0 $$\n",
    "\n",
    "    We get a new integral:\n",
    "    \n",
    "$$ <T_n, T_m> = \\int_{\\pi}^{0} - \\frac{1}{\\sqrt{1 - \\cos^2(\\theta)}} T_n(\\cos(\\theta)) T_m(\\cos(\\theta)) \\sin(\\theta) d\\theta $$\n",
    "\n",
    "    Consider: \n",
    "    \n",
    "$$ <T_n, T_m> = \\int_{\\pi}^{0} - \\frac{1}{\\sqrt{(sin^2(\\theta) + \\cos^2(\\theta)) - \\cos^2(\\theta)}} T_n(\\cos(\\theta)) T_m(\\cos(\\theta)) \\sin(\\theta) d\\theta $$\n",
    "\n",
    "$$ <T_n, T_m> = \\int_{\\pi}^{0} - \\frac{1}{\\sqrt{\\sin^2(\\theta)}} T_n(\\cos(\\theta)) T_m(\\cos(\\theta)) \\sin(\\theta) d\\theta $$\n",
    "\n",
    "$$ <T_n, T_m> = \\int_{\\pi}^{0} - \\frac{1}{\\sin(\\theta)} T_n(\\cos(\\theta)) T_m(\\cos(\\theta)) \\sin(\\theta) d\\theta $$\n",
    "\n",
    "    We can cancel out some terms:\n",
    "    \n",
    "$$ <T_n, T_m> = - \\int_{\\pi}^{0} T_n(\\cos(\\theta)) T_m(\\cos(\\theta)) d\\theta $$\n",
    "\n",
    "    Due to the identities given: \n",
    "\n",
    "$$ <T_n, T_m> = - \\int_{\\pi}^{0} T_n(\\cos (n \\theta)) T_m(\\cos(m \\theta)) d\\theta $$\n",
    "\n",
    "    Since m != n:\n",
    "\n",
    "$$ \\cos (n \\theta) \\cos(m \\theta) = \\frac{1}{2}[\\cos(m + n) + cos(m - n)] $$\n",
    "\n",
    "    Then we get the integral: \n",
    "    \n",
    "$$ <T_n, T_m> = - \\frac{1}{2} \\int_{\\pi}^{0} \\cos(m + n) + cos(m - n) d\\theta $$\n",
    "\n",
    "$$ <T_n, T_m> = - \\frac{1}{2} \\{ \\int_{\\pi}^{0} \\cos(m + n) d\\theta + \\int_{\\pi}^{0} cos(m - n) d\\theta \\}$$\n",
    "\n",
    "$$ <T_n, T_m> = - \\frac{1}{2} \\{ \\left[\\frac{\\sin(m + n) \\theta}{m + n}\\right]_\\pi^0 + \\left[\\frac{\\sin(m - n) \\theta}{m - n}\\right]_\\pi^0  \\}$$\n",
    "\n",
    "    Notice: \n",
    "    \n",
    "$$ \\sin(m + n)\\pi = 0 $$\n",
    "\n",
    "$$ \\sin(m - n)\\pi = 0 $$\n",
    "\n",
    "    Therefore when m != n != 0: \n",
    " \n",
    "$$ <T_n, T_m> = - \\frac{1}{2}(0) = 0 $$\n",
    "\n",
    "    Now lets have m = n:\n",
    "\n",
    "$$ <T_n, T_m> = - \\int_{\\pi}^{0} \\cos^2(n\\theta) d\\theta $$\n",
    "\n",
    "    Lets use the identity from earlier:\n",
    "\n",
    "$$ <T_n, T_m> = - \\frac{1}{2} \\int_{\\pi}^{0} \\cos(2n\\theta) + 1 \\enspace d\\theta $$\n",
    "\n",
    "$$ <T_n, T_m> = - \\frac{1}{2} \\{ \\int_{\\pi}^{0} \\cos(2n\\theta) d\\theta + \\int_{\\pi}^{0} 1 \\enspace d\\theta \\} $$\n",
    "\n",
    "$$ <T_n, T_m> = - \\frac{1}{2} \\{ \\left[\\frac{\\sin(2n\\theta)}{2n}\\right]_\\pi^0  + \\left[\\theta \\right]_\\pi^0 \\} $$\n",
    "\n",
    "    We know that sin(2 pi n) is always 0:\n",
    "    \n",
    "$$ <T_n, T_m> = - \\frac{1}{2}(0 + (-\\pi)) = 0 $$\n",
    "\n",
    "$$ <T_n, T_m> = \\frac{\\pi}{2} $$\n",
    "\n",
    "    Finally, lets check the case m = n = 0: \n",
    "    \n",
    "$$ <T_0, T_0> =  - \\int_{\\pi}^{0} d\\theta $$\n",
    "\n",
    "$$ <T_n, T_m> = - \\{ \\left[\\theta \\right]_\\pi^0 \\} $$\n",
    "\n",
    "$$ <T_n, T_m> = \\pi $$\n",
    "\n",
    "    Therefore: \n",
    "\n",
    "$$ <T_n, T_m> = \\int^1_{-1} w(x) T_n(x) T_m(x) dx = \\left \\{ \\begin{aligned} \n",
    "\\frac{\\pi}{2} & ~ & m = n \\neq 0 \\\\ \n",
    "\\pi & ~ & m = n = 0 \\\\ \n",
    "0 & ~ & m \\neq n \n",
    "\\end{aligned} \\right .$$\n",
    "\n",
    "    And therefore the polynomials are are orthogonal. \n",
    "    \n"
   ]
  },
  {
   "cell_type": "markdown",
   "metadata": {
    "deletable": false,
    "editable": false,
    "nbgrader": {
     "cell_type": "markdown",
     "checksum": "4c03e2b7bbe9122de703b89bd8e41077",
     "grade": false,
     "grade_id": "cell-7819290100903685",
     "locked": true,
     "schema_version": 3,
     "solution": false
    }
   },
   "source": [
    "## Question 3\n",
    "\n",
    "We discussed in class that equally spaced points are not optimal and in fact the Lagrange interpolants can vary considerably from 1 near the ends.  For these questions consider the interval $x\\in[-1, 1]$."
   ]
  },
  {
   "cell_type": "markdown",
   "metadata": {
    "deletable": false,
    "editable": false,
    "nbgrader": {
     "cell_type": "markdown",
     "checksum": "9e0a62420a2fff53fc196f81e8a8f64c",
     "grade": false,
     "grade_id": "cell-1974680948166026",
     "locked": true,
     "schema_version": 3,
     "solution": false
    }
   },
   "source": [
    "**(a)** For $N = 4$ find the position and value of the maximum value on $[-1,1]$ of $|\\ell_k(x)|$ analytically for $\\ell_2(x)$ using equi-spaced points (extra credit for finding them for all analytically)."
   ]
  },
  {
   "cell_type": "markdown",
   "metadata": {
    "deletable": false,
    "nbgrader": {
     "cell_type": "markdown",
     "checksum": "a48b754ef8113b75bbf504e058c5f1f6",
     "grade": true,
     "grade_id": "cell-1609100275099664",
     "locked": false,
     "points": 4,
     "schema_version": 3,
     "solution": true
    }
   },
   "source": [
    "There are a total of 5 points in the range |-1, 1|:\n",
    "\n",
    "$$ x_0 = -1 $$\n",
    "\n",
    "$$ x_1 = -\\frac{1}{2} $$\n",
    "\n",
    "$$ x_2 = 0 $$\n",
    "\n",
    "$$ x_1 = \\frac{1}{2} $$\n",
    "\n",
    "$$ x_0 = 1 $$\n",
    "\n",
    "    Consider: \n",
    "\n",
    "$$ \\ell_i(x) = \\prod_{j = 0, j \\neq i} \\frac{x-x_j}{x_i - x_j} $$ \n",
    "\n",
    "    Then we have: \n",
    "\n",
    "$$ \\ell_2(x) = (\\frac{x+1}{0 + 1})(\\frac{x+\\frac{1}{2}}{0 + \\frac{1}{2}})(\\frac{x-\\frac{1}{2}}{0 - \\frac{1}{2}})(\\frac{x-1}{0 - 1}) $$ \n",
    "\n",
    "$$ \\ell_2(x) = 4(x^2-1)(x^2-\\frac{1}{4}) $$ \n",
    "\n",
    "We need to find the roots of this function: \n",
    "\n",
    "$$ \\frac{d}{dx} 4(x^2-1)(x^2-\\frac{1}{4}) = 2x(8x^2-5)$$\n",
    "\n",
    "    Solve for d\\dx = 0\n",
    "    \n",
    "$$ 2x(8x^2-5) = 0 $$\n",
    "\n",
    "    Notice it can be split into two parts: \n",
    "    \n",
    "$$ 2x = 0 $$\n",
    "\n",
    "    Therefore x = 0 is one solution \n",
    "\n",
    "$$ 8x^2 - 5 = 0 $$\n",
    "\n",
    "$$ 8x^2 = 5 $$\n",
    "\n",
    "$$ x^2 = \\frac{5}{8} $$\n",
    "\n",
    "$$ x = \\pm \\frac{\\sqrt{10}}{4} = \\pm 0.79 $$\n",
    "\n",
    "Now we need to find the maximum and minimum, for this we will use the second derivative test\n",
    "\n",
    "\n",
    "$$ \\frac{d}{dx} 2x(8x^2-5)= 48x^2 - 10 $$\n",
    "\n",
    "    Now lets plug in our x values: \n",
    "    \n",
    "$$ \\ell''_2(0) = 10 $$\n",
    "\n",
    "$$ \\ell''_2(0.79) = 19.95 $$\n",
    "\n",
    "$$ \\ell''_2(-0.79) = 19.95 $$\n",
    "\n",
    "Therefore, we get that the value of the maximum is at $(0, 1)$ while the minimum is at $(0.79, -0.563)$ and $(-0.79, -0.563)$"
   ]
  },
  {
   "cell_type": "markdown",
   "metadata": {
    "deletable": false,
    "editable": false,
    "nbgrader": {
     "cell_type": "markdown",
     "checksum": "ccf929360de699b79c6a94cb32c72ea5",
     "grade": false,
     "grade_id": "cell-108742731508443",
     "locked": true,
     "schema_version": 3,
     "solution": false
    }
   },
   "source": [
    "**(b)** Estimate $\\max |\\ell_k(x)|$ for $N > 2$ by writing a function that returns the maximum absolute value of all Lagrange basis functions for $N$ evenly spaced points.  Note that $N$ is the polynomial order, not the number of points.  Use\n",
    "```python\n",
    "x = numpy.linspace(-1, 1, 100)\n",
    "```\n",
    "to evaluate the polynomial.  Also it may be helpful to plot the basis and the maximum found to check your answer:\n",
    "```python\n",
    "fig = plt.figure()\n",
    "axes = fig.add_subplot(1, 1, 1)\n",
    "axes.plot(x, lagrange_basis)\n",
    "axes.plot(x_max, lagrange_basis_max, 'ko')\n",
    "```"
   ]
  },
  {
   "cell_type": "code",
   "execution_count": 3,
   "metadata": {
    "deletable": false,
    "nbgrader": {
     "cell_type": "code",
     "checksum": "883e97a0b1b92e5301143cafc8747ce8",
     "grade": false,
     "grade_id": "cell-1846687567556877",
     "locked": false,
     "schema_version": 3,
     "solution": true
    }
   },
   "outputs": [],
   "source": [
    "def max_equal_basis(N):\n",
    "    r\"\"\"Compute the maximum amplitude of the Lagrange\n",
    "    polynomial basis of degree *N*\n",
    "    \n",
    "    \"\"\"\n",
    "    x = numpy.linspace(-1, 1, 100)\n",
    "    \n",
    "    xij = numpy.linspace(-1, 1, N + 1)\n",
    "    max_s = 0 \n",
    "    max_r = 0 \n",
    "    \n",
    "    for i in range(N + 1):\n",
    "        li = numpy.ones(x.shape)\n",
    "        for j in range(N + 1):\n",
    "            if i != j:\n",
    "                li[:] = li[:] * (x - xij[j]) / (xij[i] - xij[j])\n",
    "        max_s = numpy.max(numpy.abs(li))\n",
    "        max_r = numpy.max([max_r, max_s])\n",
    "        \n",
    "    return max_r"
   ]
  },
  {
   "cell_type": "code",
   "execution_count": 4,
   "metadata": {
    "deletable": false,
    "editable": false,
    "nbgrader": {
     "cell_type": "code",
     "checksum": "4e0f268eb7831439127594e044c7a5ab",
     "grade": true,
     "grade_id": "cell-4790850008223281",
     "locked": true,
     "points": 4,
     "schema_version": 3,
     "solution": false
    }
   },
   "outputs": [
    {
     "name": "stdout",
     "output_type": "stream",
     "text": [
      "Success!\n"
     ]
    }
   ],
   "source": [
    "N = [2, 4, 6, 8, 10, 12, 20, 30, 40]\n",
    "max_value = numpy.empty(len(N))\n",
    "for (i, n) in enumerate(N):\n",
    "    max_value[i] = max_equal_basis(n)\n",
    "numpy.testing.assert_allclose(max_value, [1.00000000e+00, 1.15204532e+00, 1.36216139e+00, \n",
    "                                          2.54889859e+00, 6.50684027e+00, 1.80407350e+01, \n",
    "                                          1.79785431e+03, 8.77912809e+05, 4.27506380e+08])\n",
    "\n",
    "print(\"Success!\")"
   ]
  },
  {
   "cell_type": "markdown",
   "metadata": {
    "deletable": false,
    "editable": false,
    "nbgrader": {
     "cell_type": "markdown",
     "checksum": "4301c2f33f0f9235a71250527f53aada",
     "grade": false,
     "grade_id": "cell-4319376963517508",
     "locked": true,
     "schema_version": 3,
     "solution": false
    }
   },
   "source": [
    "**(c)** Repeat part **b** but choose the sampling points $x_i$ to be the  Chebyshev points.  Note that these are Lagrangian basis functions using Chebyshev points (or nodes) rather than the Chebyshev polynomial basis.  Again use the plotting code above if you need to debug."
   ]
  },
  {
   "cell_type": "code",
   "execution_count": 5,
   "metadata": {
    "deletable": false,
    "nbgrader": {
     "cell_type": "code",
     "checksum": "977042cecd36427e1284c95a5e93d762",
     "grade": false,
     "grade_id": "cell-7014398607882874",
     "locked": false,
     "schema_version": 3,
     "solution": true
    }
   },
   "outputs": [],
   "source": [
    "def max_chebyshev_basis(N):\n",
    "    \"\"\"Using Chebyshev nodes and the corresponding Lagrangian basis\n",
    "    compute the maximum amplitude of the basis function of degree *N*.\n",
    "    \"\"\"\n",
    "    x = numpy.linspace(-1, 1, 100)\n",
    "    \n",
    "    cheb = numpy.cos((2.0 * numpy.arange(1, N + 2) - 1) * numpy.pi / (2.0 * (N + 1)))\n",
    "    cheb_max = 0\n",
    "    cheb_real_max = 0 \n",
    "    \n",
    "    for i in range(N + 1):\n",
    "        li = numpy.ones(x.shape)\n",
    "        for j in range(N + 1):\n",
    "            if i != j:\n",
    "                li[:] = li[:] * (x - cheb[j]) / (cheb[i] - cheb[j])\n",
    "        cheb_max = numpy.max(numpy.abs(li))\n",
    "        cheb_real_max = numpy.max([cheb_real_max, cheb_max])\n",
    "        \n",
    "\n",
    "    return cheb_real_max\n",
    "    \n",
    "    "
   ]
  },
  {
   "cell_type": "code",
   "execution_count": 6,
   "metadata": {
    "deletable": false,
    "editable": false,
    "nbgrader": {
     "cell_type": "code",
     "checksum": "de21116905d7e3b0d6dff784a13c3dea",
     "grade": true,
     "grade_id": "cell-4966796702486256",
     "locked": true,
     "points": 4,
     "schema_version": 3,
     "solution": false
    }
   },
   "outputs": [
    {
     "name": "stdout",
     "output_type": "stream",
     "text": [
      "Success!\n"
     ]
    }
   ],
   "source": [
    "N = [2, 4, 6, 8, 10, 12, 20, 30, 40]\n",
    "max_value = numpy.empty(len(N))\n",
    "for (i, n) in enumerate(N):\n",
    "    max_value[i] = max_chebyshev_basis(n)\n",
    "\n",
    "numpy.testing.assert_allclose(max_value, [1.24401694, 1.2627503, 1.26789221, 1.27000581, \n",
    "                                          1.27107518, 1.27169006, 1.27264584, 1.27296711,\n",
    "                                          1.2730838])\n",
    "\n",
    "print(\"Success!\")"
   ]
  },
  {
   "cell_type": "markdown",
   "metadata": {
    "deletable": false,
    "editable": false,
    "nbgrader": {
     "cell_type": "markdown",
     "checksum": "1e486699ba15d781fbdd9ced11af72d5",
     "grade": false,
     "grade_id": "cell-2867612339147590",
     "locked": true,
     "schema_version": 3,
     "solution": false
    }
   },
   "source": [
    "**(d)** Plot a comparison of the results (on the same plot) from part **b** and **c** using the same values of N.  Make sure to use a `semilogy` plot so that the values are vieable (at least for one of the series)."
   ]
  },
  {
   "cell_type": "code",
   "execution_count": 7,
   "metadata": {
    "deletable": false,
    "nbgrader": {
     "cell_type": "code",
     "checksum": "6f228b3b25bde552eba92f7897e6d10e",
     "grade": true,
     "grade_id": "cell-7707828088791371",
     "locked": false,
     "points": 4,
     "schema_version": 3,
     "solution": true
    }
   },
   "outputs": [
    {
     "data": {
      "image/png": "[encoded data removed]",
      "text/plain": [
       "<Figure size 432x288 with 1 Axes>"
      ]
     },
     "metadata": {
      "needs_background": "light"
     },
     "output_type": "display_data"
    }
   ],
   "source": [
    "N = [2, 4, 6, 8, 10, 12, 20, 30, 40]\n",
    "max_value_cheb = numpy.empty(len(N))\n",
    "max_value = numpy.empty(len(N))\n",
    "for (i, n) in enumerate(N):\n",
    "    max_value_cheb[i] = max_chebyshev_basis(n)\n",
    "    max_value[i] = max_equal_basis(n)\n",
    "    \n",
    "plt.semilogy(N[:], max_value[:], '-ro', label=\"Equidistant\")\n",
    "plt.semilogy(N[:], max_value_cheb[:],  '-bo', label=\"Chebyshev\")\n",
    "plt.xlabel(\"x\")\n",
    "plt.ylabel(\"y\")\n",
    "plt.legend()\n",
    "plt.show()\n",
    "    "
   ]
  },
  {
   "cell_type": "markdown",
   "metadata": {
    "deletable": false,
    "editable": false,
    "nbgrader": {
     "cell_type": "markdown",
     "checksum": "4abe82a033995318c709d39432061024",
     "grade": false,
     "grade_id": "cell-aacc4a58b6be2d10",
     "locked": true,
     "schema_version": 3,
     "solution": false,
     "task": false
    }
   },
   "source": [
    "## Question 4\n",
    "\n",
    "In lecture we constructed the system of equations we need to solve for each interval if we wanted to use a piece-wise cubic function and have an interpolant that is $C^1$.  This questions addresses the details of that derivation."
   ]
  },
  {
   "cell_type": "markdown",
   "metadata": {
    "deletable": false,
    "editable": false,
    "nbgrader": {
     "cell_type": "markdown",
     "checksum": "820a90975b4ccabca823058fb5388d03",
     "grade": false,
     "grade_id": "cell-481b6e0e419aeb45",
     "locked": true,
     "schema_version": 3,
     "solution": false,
     "task": false
    }
   },
   "source": [
    "**(a)** [4] Let $x \\in [x_k, x_{k+1}] = X$ and $s \\in [0, 1] = S$.  Write down the transformation we need to map the $X$ and $S$ to each other, i.e. $T:X \\rightarrow S$, along with its inverse $T^{-1}$."
   ]
  },
  {
   "cell_type": "markdown",
   "metadata": {
    "deletable": false,
    "nbgrader": {
     "cell_type": "markdown",
     "checksum": "4341897645a8aae83b01ad6df62aa2d3",
     "grade": true,
     "grade_id": "cell-37ac387132d31666",
     "locked": false,
     "points": 4,
     "schema_version": 3,
     "solution": true,
     "task": false
    }
   },
   "source": [
    "Given a segment between points $(x_k, y_k)$ and $(x_{k+1}, y_{k+1})$ we want to fit a cubic function between the two points.\n",
    "\n",
    "$$\\mathcal{P}_k(x) = p_0 + p_1 x + p_2 x^2 + p_3 x^3$$\n",
    "\n",
    "$$\\mathcal{P}_k(x_k) = y_k, \\quad \\mathcal{P}_k(x_{k+1}) = y_{k+1}$$\n",
    "\n",
    "Constraining the derivative at each interval end will lead to two new equations and therefore we can solve for the interpolant.\n",
    "\n",
    "$$\\frac{\\text{d}}{\\text{dx}} \\mathcal{P}_k(x_k) = d_k, \\quad \\frac{\\text{d}}{\\text{dx}} \\mathcal{P}_k(x_{k+1}) = d_{k+1}$$\n",
    "\n",
    "where we need to prescribe the $d_k$s.  Since we know the polynomial we can write these 4 equations as\n",
    "\n",
    "$$\\begin{aligned}\n",
    "p_0 + p_1 x_k + p_2 x_k^2 + p_3 x_k^3 &= y_k \\\\\n",
    "p_0 + p_1 x_{k+1} + p_2 x_{k+1}^2 + p_3 x_{k+1}^3 &= y_{k+1} \\\\\n",
    "p_1 +  2p_2 x_k + 3 p_3 x_k^2 &= d_k \\\\\n",
    "p_1 + 2 p_2 x_{k+1} + 3 p_3 x_{k+1}^2 &= d_{k+1}\n",
    "\\end{aligned}$$\n",
    "\n",
    "Lets fix these so that they match to the values that $x_k$ and $x_{k + 1}$ map to:\n",
    "    \n",
    "    Specifically we know that: \n",
    "    \n",
    "$$ x_k = 0 $$\n",
    "    \n",
    "    and\n",
    " \n",
    "$$ x_{k+1} = 1 $$\n",
    "\n",
    "    therefore: \n",
    "\n",
    "$$\\begin{aligned}\n",
    "p_0 = y_k \\\\\n",
    "p_0 + p_1 + p_2 + p_3 &= y_{k+1} \\\\\n",
    "p_1 &= d_k \\\\\n",
    "p_1 + 2 p_2 + 3 p_3 &= d_{k+1}\n",
    "\\end{aligned}$$\n",
    "\n",
    "We can now put these into a matrix so as to solve a system of equations: \n",
    "\n",
    "$$\\begin{bmatrix}\n",
    "    1 & 0 & 0 & 0 \\\\\n",
    "    1 & 1 & 1 & 1 \\\\\n",
    "    0 & 1 & 0 & 0 \\\\\n",
    "    0 & 1 & 2 & 3\n",
    "\\end{bmatrix} \\begin{bmatrix}\n",
    "p_0 \\\\ p_1 \\\\ p_2 \\\\ p_3\n",
    "\\end{bmatrix} = \\begin{bmatrix}\n",
    "y_k \\\\ y_{k+1} \\\\ d_k \\\\ d_{k+1}\n",
    "\\end{bmatrix}$$\n",
    "    \n",
    "    and:\n",
    "    \n",
    "$$ s = T(x) = \\frac{x - x_k}{x_{k+1} - x_k} $$\n",
    "\n",
    "Which gives us $T : X \\to S$\n",
    "\n",
    "    For the inverse we use the following: \n",
    "    \n",
    "$$ T^{-1}(s) = (x_{k+1}-x_k)s + x_k = x $$\n",
    "  \n",
    "\n"
   ]
  },
  {
   "cell_type": "markdown",
   "metadata": {},
   "source": [
    "**(b)** [4] After making the transformation of the equations we found that the system of equations that result are\n",
    "$$\\begin{bmatrix}\n",
    "    1 & 0 & 0 & 0 \\\\\n",
    "    1 & 1 & 1 & 1 \\\\\n",
    "    0 & 1 & 0 & 0 \\\\\n",
    "    0 & 1 & 2 & 3\n",
    "\\end{bmatrix} \\begin{bmatrix}\n",
    "p_0 \\\\ p_1 \\\\ p_2 \\\\ p_3\n",
    "\\end{bmatrix} = \\begin{bmatrix}\n",
    "y_k \\\\ y_{k+1} \\\\ d_k \\\\ d_{k+1}\n",
    "\\end{bmatrix}$$\n",
    "Show that the solution is\n",
    "$$\n",
    "    \\mathcal{P}(s) = (1-s)^2 (1 + 2s) y_k + s^2 (3 - 2 s) y_{k+1} + s (1 - s)^2 d_k - s^2 (1 - s)d_{k+1}\n",
    "$$"
   ]
  },
  {
   "cell_type": "markdown",
   "metadata": {
    "deletable": false,
    "nbgrader": {
     "cell_type": "markdown",
     "checksum": "89d001a3116d912a1d3dafbcfad3bfa7",
     "grade": true,
     "grade_id": "cell-cd0c565f9c40541b",
     "locked": false,
     "points": 4,
     "schema_version": 3,
     "solution": true,
     "task": false
    }
   },
   "source": [
    "    We can row reduce the system of equations to find that: \n",
    "\n",
    "$$ p_0 = y_k $$\n",
    "\n",
    "$$ p_1 = d_k $$\n",
    "\n",
    "$$ p_2 = 3y_{k+1} -3y_k -2d_k -d_{k+1} $$\n",
    "\n",
    "$$ p_3 = d_{k+1} +d_k +2y_k - 2y_{k+1} $$\n",
    "\n",
    "    We then subsitute s instead of x which would give us: \n",
    "\n",
    "$$ \\mathcal{P}_k(s) = p_0 + p_1 s + p_2 s^2 + p_3 s^3 \\\\ $$\n",
    "\n",
    "    substitute in solutions:  \n",
    "\n",
    "\n",
    "$$ \\mathcal{P}_k(s) = y_k + d_k s + (3y_{k+1} - 3y_k -2d_x - d_{k+1})s^2 + (d_{K+1} - d_k - 2(y_{k+1} - y_k - d_k)) s^3 $$\n",
    "\n",
    "    separate like terms: \n",
    "    \n",
    "\n",
    "$$ \\mathcal{P}_k(s) = (1 - 3s^2 + 2s^3) y_k + (s - 2s^2 - s^3 + 2s^3) d_k + (3s^2 - 2s^3)y_{k + 1} + (-s^2 + s^3)d_{k+1} $$\n",
    "\n",
    "    factor: \n",
    "\n",
    "$$ \\mathcal{P}(s) = (1-s)^2 (1 + 2s) y_k + s^2 (3 - 2 s) y_{k+1} + s (1 - s)^2 d_k - s^2 (1 - s)d_{k+1} $$\n",
    "\n"
   ]
  },
  {
   "cell_type": "markdown",
   "metadata": {
    "deletable": false,
    "editable": false,
    "nbgrader": {
     "cell_type": "markdown",
     "checksum": "434e019702736e31724dbc3d5f45f661",
     "grade": false,
     "grade_id": "cell-c4f4c621bcf3635d",
     "locked": true,
     "schema_version": 3,
     "solution": false,
     "task": false
    }
   },
   "source": [
    "**(c)** Use $T^{-1}$ to transform back to $X$ and write down the polynomial in terms of the original variable $x$."
   ]
  },
  {
   "cell_type": "markdown",
   "metadata": {},
   "source": [
    "    First we know that:\n",
    "\n",
    "$$ s = \\frac{x-x_k}{x_{k+1} - x_k} $$\n",
    "\n",
    "    because when we do affine mapping, we get x is made up of a scaling and shifting factor such as: \n",
    "\n",
    "$$ x = \\alpha s + \\beta $$\n",
    "\n",
    "    using the information we have (created): \n",
    "\n",
    "$$ x_k = 0 + \\beta $$\n",
    "\n",
    "$$ x_{k+1} = \\alpha + \\beta $$\n",
    "\n",
    "    furthermore: \n",
    "\n",
    "$$ \\alpha = x_{k + 1} - x_k $$\n",
    "\n",
    "$$ \\therefore \\alpha = \\Delta x_k $$\n",
    "\n",
    "    which makes the following relationship with x: \n",
    "\n",
    "$$ x =  \\Delta x_k s + x_k $$\n",
    "\n",
    "    solving for s we get: \n",
    "\n",
    "$$ s = \\frac{x-x_k}{x_{k+1} - x_k} $$\n",
    "\n",
    "    which is the linear lagrange form\n",
    "\n",
    "Subsituting $T^{-1}(x)$ in all s:\n",
    "\n",
    "$$ \\mathcal{P}(T^{-1}(s)) = (1-(x_{k+1}-x_k)s + x_k))^2 (1 + 2(x_{k+1}-x_k)s + x_k)) y_k + ((x_{k+1}-x_k)s + x_k)^2 (3 - 2 (x_{k+1}-x_k)s + x_k)) y_{k+1} + (x_{k+1}-x_k)s + x_k) (1 - (x_{k+1}-x_k)s + x_k))^2 d_k - (x_{k+1}-x_k)s + x_k)^2 (1 - (x_{k+1}-x_k)s + x_k))d_{k+1} $$\n",
    "\n",
    "    since\n",
    "    \n",
    "$$ s = T(x) = \\frac{x - x_k}{x_{k+1} - x_k} $$\n",
    "\n",
    "    then: \n",
    "\n",
    "$$ \\mathcal{P}(T^{-1}(s)) = \\mathcal{P}(x) = (1-(x_{k+1}-x_k)s + x_k))^2 (1 + 2(x_{k+1}-x_k)s + x_k)) y_k + ((x_{k+1}-x_k)s + x_k)^2 (3 - 2 (x_{k+1}-x_k)s + x_k)) y_{k+1} + (x_{k+1}-x_k)s + x_k) (1 - (x_{k+1}-x_k)s + x_k))^2 d_k - (x_{k+1}-x_k)s + x_k)^2 (1 - (x_{k+1}-x_k)s + x_k))d_{k+1} = p_0 + p_1 x + p_2 x^2 + p_3 x^3$$\n"
   ]
  },
  {
   "cell_type": "code",
   "execution_count": null,
   "metadata": {
    "deletable": false,
    "nbgrader": {
     "cell_type": "code",
     "checksum": "12cda56b0242994699548c24920963ff",
     "grade": true,
     "grade_id": "cell-9b2ba1a1789bbba3",
     "locked": false,
     "points": 4,
     "schema_version": 3,
     "solution": true,
     "task": false
    }
   },
   "outputs": [],
   "source": []
  }
 ],
 "metadata": {
  "kernelspec": {
   "display_name": "Python 3",
   "language": "python",
   "name": "python3"
  },
  "language_info": {
   "codemirror_mode": {
    "name": "ipython",
    "version": 3
   },
   "file_extension": ".py",
   "mimetype": "text/x-python",
   "name": "python",
   "nbconvert_exporter": "python",
   "pygments_lexer": "ipython3",
   "version": "3.7.3"
  },
  "latex_envs": {
   "bibliofile": "biblio.bib",
   "cite_by": "apalike",
   "current_citInitial": 1,
   "eqLabelWithNumbers": true,
   "eqNumInitial": 0
  }
 },
 "nbformat": 4,
 "nbformat_minor": 4
}
