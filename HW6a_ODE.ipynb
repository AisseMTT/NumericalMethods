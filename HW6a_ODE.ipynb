{
 "cells": [
  {
   "cell_type": "markdown",
   "metadata": {},
   "source": [
    "Before you turn this problem in, make sure everything runs as expected. First, **restart the kernel** (in the menubar, select Kernel$\\rightarrow$Restart) and then **run all cells** (in the menubar, select Cell$\\rightarrow$Run All).\n",
    "\n",
    "Make sure you fill in any place that says `YOUR CODE HERE` or \"YOUR ANSWER HERE\", as well as your name and collaborators below:"
   ]
  },
  {
   "cell_type": "code",
   "execution_count": 2,
   "metadata": {},
   "outputs": [],
   "source": [
    "NAME = \"Aisse Torres Torres\"\n",
    "COLLABORATORS = \"Bruna Costa\""
   ]
  },
  {
   "cell_type": "markdown",
   "metadata": {},
   "source": [
    "---"
   ]
  },
  {
   "cell_type": "code",
   "execution_count": 3,
   "metadata": {},
   "outputs": [],
   "source": [
    "from __future__ import print_function\n",
    "%matplotlib inline\n",
    "%precision 16\n",
    "import numpy\n",
    "import matplotlib.pyplot as plt\n",
    "from scipy.integrate import solve_ivp"
   ]
  },
  {
   "cell_type": "markdown",
   "metadata": {
    "deletable": false,
    "editable": false,
    "nbgrader": {
     "cell_type": "markdown",
     "checksum": "49d57ebf64a029476473660a85b86eb4",
     "grade": false,
     "grade_id": "cell-6282430347078978",
     "locked": true,
     "schema_version": 3,
     "solution": false
    }
   },
   "source": [
    "# HW 6a:  ODE Methods - Initial Value Problems\n",
    "\n",
    "These questions will use a mixture of scipy routines and hand-rolled ODE solver methods (which you can use from the notes)"
   ]
  },
  {
   "cell_type": "markdown",
   "metadata": {
    "deletable": false,
    "editable": false,
    "nbgrader": {
     "cell_type": "markdown",
     "checksum": "a4378a0e4fd8359b91a2776e8f3c21ef",
     "grade": false,
     "grade_id": "cell-97c426ce43130f77",
     "locked": true,
     "schema_version": 3,
     "solution": false,
     "task": false
    }
   },
   "source": [
    "## Question 1 - The SIR model for Infectious diseases\n",
    "\n",
    "ODE based models are a classical approach to understanding the spread of infectious diseases.\n",
    "\n",
    "One of the pioneering models is the SIR model of [Kermack and McKendrick, (1927)](https://royalsocietypublishing.org/doi/10.1098/rspa.1927.0118) which is a mean-field theory for large populations that assumes the general population can be divided into three subgroups\n",
    "\n",
    "* $S$: the number of susceptible patients\n",
    "* $I$: the number of infected patients\n",
    "* $R$: the number of recovered (or otherwise) patients\n",
    "\n",
    "Given these definitions, the simplest dynamical systems for the three populations can be written\n",
    "\n",
    "$$\n",
    "\\begin{aligned}\n",
    "\\frac{d S}{dt} &= -\\alpha SI \\\\\n",
    "\\frac{d I}{dt} &= \\alpha SI -\\beta I\\\\\n",
    "\\frac{d R}{dt} &= \\beta I \\\\\n",
    "\\end{aligned}\n",
    "$$\n",
    "\n",
    "where $\\alpha$ is the infection rate per person, and $\\beta$ is the recovery rate (hint: check the units) \n",
    "\n",
    "This is the original Kermack and McKendrick model.  We will discuss a host of themes and variations later.  If you are interested [Siettos and Russo, (2013)](https://doi.org/10.4161/viru.24041) provides a short overview of the much larger field of epidemiology modeling (although this paper has some significant mistakes with respect to the analysis of the Kermack and McKendrick model).\n",
    "\n",
    "We will explore this problem through a combination of Analysis and Numerical methods and to use it to test different methods for ODE solvers.\n"
   ]
  },
  {
   "cell_type": "markdown",
   "metadata": {
    "deletable": false,
    "editable": false,
    "nbgrader": {
     "cell_type": "markdown",
     "checksum": "9d56e0a3dcd650ebafd65482f9f8284c",
     "grade": false,
     "grade_id": "cell-d57d5cccd5fe437a",
     "locked": true,
     "schema_version": 3,
     "solution": false,
     "task": false
    }
   },
   "source": [
    "**(a)** [4] First try to explain in words,  what this system of ODE's describes"
   ]
  },
  {
   "cell_type": "markdown",
   "metadata": {
    "deletable": false,
    "hide_input": true,
    "nbgrader": {
     "cell_type": "markdown",
     "checksum": "3a50bb5fe5e3cea6be689f0f83eba3d5",
     "grade": true,
     "grade_id": "cell-78f1cbd4419916a6",
     "locked": false,
     "points": 4,
     "schema_version": 3,
     "solution": true,
     "task": false
    }
   },
   "source": [
    "The SIR model is used to estimate the number of people infected with a contagious illness over time. It assumes that there is a completely homogeneous population with a fixed size, instantaneous incubation period of the infecting agent and an equal length of the duration of infectivity. This model can be used to model the rise and fall of the number of infected people during an epidemic.\n",
    "\n",
    "The time span (T) of the contagious illness is defined as the number of secondary infections caused by a primary infection—meaning the number of people infected by contact with a single infected person before the patient's death or recovery.  The value of T is given by:\n",
    "\n",
    "$$\n",
    "T= \\frac {\\alpha S}{\\beta} \n",
    "$$\n",
    "\n",
    "When T < 1, the system says that each person who contracts the disease will infect fewer than one person before dying or recovering:\n",
    "\n",
    "$$ \\frac{d I}{dt} < 0$$ \n",
    "\n",
    "When T > 1, each person who gets the disease will infect more than one person, so spread of the disease can be modeled by:\n",
    "\n",
    "$$\\frac{d I}{dt} > 0$$"
   ]
  },
  {
   "cell_type": "markdown",
   "metadata": {
    "deletable": false,
    "editable": false,
    "nbgrader": {
     "cell_type": "markdown",
     "checksum": "3e7da362e36e2899edc51b912997f7fe",
     "grade": false,
     "grade_id": "cell-c02805feb94b785b",
     "locked": true,
     "schema_version": 3,
     "solution": false,
     "task": false
    }
   },
   "source": [
    "### Some analysis.  \n",
    "\n",
    "Here we will conduct some elementary dimensional analysis to reduce the parameter space.  More detailed analysis of this system can be found  Steve Strogatz' excellent text on [dynamical systems](https://smile.amazon.com/Nonlinear-Dynamics-Chaos-Applications-Nonlinearity/dp/0813349109/ref=dp_ob_image_bk)"
   ]
  },
  {
   "cell_type": "markdown",
   "metadata": {
    "deletable": false,
    "editable": false,
    "nbgrader": {
     "cell_type": "markdown",
     "checksum": "e0ff12772c25324e8cf54b989bfe15a1",
     "grade": false,
     "grade_id": "cell-28b8298c72a5a12c",
     "locked": true,
     "schema_version": 3,
     "solution": false,
     "task": false
    }
   },
   "source": [
    "**(b)** [2] Show that the SIR equations imply that   $S + I + R = N$  where $N$ is a constant (the total population of susceptible people that can all interact)"
   ]
  },
  {
   "cell_type": "markdown",
   "metadata": {
    "deletable": false,
    "nbgrader": {
     "cell_type": "markdown",
     "checksum": "f2f763bc3313b8cace5cadf627a502d3",
     "grade": true,
     "grade_id": "cell-0faef9786658c554",
     "locked": false,
     "points": 2,
     "schema_version": 3,
     "solution": true,
     "task": false
    }
   },
   "source": [
    "We are given the following information in the above problem space:\n",
    "\n",
    "$$ \\frac{dS}{dt} = -\\alpha SI $$\n",
    "\n",
    "$$ \\frac{dI}{dt} = \\alpha SI -\\beta I $$\n",
    "\n",
    "$$ \\frac{dR}{dt} = \\beta I \\\\ $$\n",
    "\n",
    "By solving the system of linear equations we get: \n",
    "\n",
    "$$ \\frac{dS}{dt} + \\frac{d I}{dt} + \\frac{d R}{dt} = -\\alpha SI + \\alpha SI -\\beta I + \\beta I $$\n",
    "\n",
    "$$ \\frac{d S}{dt} + \\frac{d I}{dt} + \\frac{d R}{dt} = 0 $$\n",
    "\n",
    "$$ \\frac{d}{dt}(S + I + R) = 0 $$\n",
    "\n",
    "By assumption: \n",
    "\n",
    "$$ S + I + R = N $$\n",
    "\n",
    "    Where N is a constant (the total population of susceptible people)."
   ]
  },
  {
   "cell_type": "markdown",
   "metadata": {
    "deletable": false,
    "editable": false,
    "nbgrader": {
     "cell_type": "markdown",
     "checksum": "3a58cb6d7898d03ebb9587b9b4fda4b1",
     "grade": false,
     "grade_id": "cell-b89ec7cd57121b35",
     "locked": true,
     "schema_version": 3,
     "solution": false,
     "task": false
    }
   },
   "source": [
    "**(c)**  [4] Show that under  the change of variables (linear scaling of the variables)\n",
    "\n",
    "$$\n",
    "\\begin{matrix}\n",
    "    S = N s, & I = Ni, & R = Nr, & t = \\tau\\frac{1}{\\alpha N} \\\\\n",
    "\\end{matrix}\n",
    "$$\n",
    "\n",
    "The original equations can be rewritten as the scaled equations \n",
    "\n",
    "$$\n",
    "\\begin{align}\n",
    "    \\frac{d s}{d\\tau} &= -si\\\\\n",
    "    \\frac{d i}{d\\tau} &= (s - s^*)i  \\\\\n",
    "    \\frac{d r}{d\\tau} & = s^* i \\\\\n",
    "\\end{align}\n",
    "$$\n",
    "\n",
    "where \n",
    "$$\n",
    "    s^* = \\frac{\\beta}{\\alpha N}\n",
    "$$\n",
    "\n",
    "\n",
    "\n",
    "**Notes**,  \n",
    "* if we write $s = S/N$ etc. then $s$ is simply the fraction of the total population that is susceptible.  \n",
    "* Also show that $s + i + r = 1$.\n",
    "* this scaling reduces a two-parameter problem to a one parameter problem where the only variable is $s^*$\n",
    "\n"
   ]
  },
  {
   "cell_type": "markdown",
   "metadata": {
    "deletable": false,
    "nbgrader": {
     "cell_type": "markdown",
     "checksum": "8c3c68b4bd0e77099fcee9fcae1a50a3",
     "grade": true,
     "grade_id": "cell-6f14e3bb8e908989",
     "locked": false,
     "points": 4,
     "schema_version": 3,
     "solution": true,
     "task": false
    }
   },
   "source": [
    "We are given the following in the problem space: \n",
    "\n",
    "$$ \\frac{dS}{dt} = -\\alpha SI $$ \n",
    "\n",
    "$$ \\frac{dI}{dt} = \\alpha SI -\\beta I $$\n",
    "\n",
    "$$ \\frac{d R}{dt} = \\beta I $$\n",
    "\n",
    "We can then substitue S, I, R and t with $ S = Ns, I = Ni, R = Nr, t = \\tau\\frac{1}{\\alpha N} $ respectively. Giving us: \n",
    "\n",
    "$$ \\frac{dS}{dt} = \\frac{Nds}{\\frac{1}{\\alpha N}d\\tau} \\therefore \\frac{dS}{dt} = \\alpha N^2 \\frac{ds}{d\\tau} $$\n",
    "\n",
    "$$ \\frac{dI}{dt} = \\frac{Ndi}{\\frac{1}{\\alpha N}d\\tau} \\therefore \\frac{dI}{dt} \\alpha N^2 \\frac{di}{d\\tau} $$\n",
    "\n",
    "$$ \\frac{dR}{dt} = \\frac{Ndr}{\\frac{1}{\\alpha N}d\\tau} \\therefore \\frac{dR}{dt} = \\alpha N^2 \\frac{dr}{d\\tau} $$\n",
    "\n",
    "Then also:\n",
    "\n",
    "$$ -\\alpha SI = -\\alpha Ns Ni = -\\alpha N^2 si $$ \n",
    "\n",
    "$$\\alpha SI -\\beta I = \\alpha N^2 si -\\beta Ni $$\n",
    "\n",
    "$$ \\beta I = \\beta Ni $$\n",
    "\n",
    "Then we are able to write the original system in the following way:\n",
    "\n",
    "$$ \\alpha N^2 \\frac{ds}{d\\tau} = -\\alpha N^2 si $$\n",
    "\n",
    "$$ \\alpha N^2 \\frac{di}{d\\tau} = \\alpha N^2 si -\\beta Ni $$\n",
    "\n",
    "$$ \\alpha N^2 \\frac{dr}{d\\tau} = \\beta Ni $$\n",
    "\n",
    "\n",
    "Now we can divide both sides by $\\alpha N^2$:\n",
    "\n",
    "$$ \\frac{\\alpha N^2 \\frac{ds}{d\\tau}}{\\alpha N^2} = \\frac{-\\alpha N^2 si}{\\alpha N^2} \\therefore \\frac{ds}{d\\tau} = -si $$\n",
    "\n",
    "$$ \\frac{\\alpha N^2 \\frac{di}{d\\tau}}{\\alpha N^2} = \\frac{\\alpha N^2 si}{\\alpha N^2} \\frac{-\\beta Ni}{\\alpha N^2} \\therefore \\frac{di}{d\\tau} =si - \\frac{-\\beta i}{\\alpha N} $$\n",
    "\n",
    "$$ \\frac{\\alpha N^2 \\frac{dr}{d\\tau}}{\\alpha N^2} = \\frac{\\beta Ni}{\\alpha N^2} \\therefore \\frac{dr}{d\\tau} = \\frac{\\beta i}{\\alpha N} $$\n",
    "\n",
    "Consider that $s^* = \\frac{\\beta}{\\alpha N} $. Hence we have:\n",
    "\n",
    "$$ \\frac{ds}{d\\tau} = -si $$\n",
    "\n",
    "$$ \\frac{di}{d\\tau} = (s - s^*)i $$\n",
    "\n",
    "\n",
    "$$ \\frac{dr}{d\\tau} =  s^* i $$"
   ]
  },
  {
   "cell_type": "markdown",
   "metadata": {
    "deletable": false,
    "editable": false,
    "nbgrader": {
     "cell_type": "markdown",
     "checksum": "17cba206e05e72a92b6b537e5e13f9f4",
     "grade": false,
     "grade_id": "cell-46af647b89cac330",
     "locked": true,
     "schema_version": 3,
     "solution": false,
     "task": false
    }
   },
   "source": [
    "**(d)**  [2] Given that $s^*$ is a constant that only depends on the infection rate per capita $\\alpha$, the recovery rate $\\beta$ and the total population $N$,  interpret the equation for the change in the number of infections\n",
    "\n",
    "$$\n",
    "    \\frac{d i}{d\\tau} = (s - s^*) i\n",
    "$$\n",
    "as a function of the susceptible fraction of the population $s$."
   ]
  },
  {
   "cell_type": "markdown",
   "metadata": {
    "deletable": false,
    "nbgrader": {
     "cell_type": "markdown",
     "checksum": "ab726ca04cc86cb954bcf52e38069414",
     "grade": true,
     "grade_id": "cell-40ede972a75cd41a",
     "locked": false,
     "points": 2,
     "schema_version": 3,
     "solution": true,
     "task": false
    }
   },
   "source": [
    "When  $s > s^* $ the ratio $ \\frac{di}{d\\tau} $ is increasing. This means that the number of infections is also increasing. However, when $ s < s^* $ the ratio $ \\frac{di}{d\\tau} $ is decreasing, which also suggests that the number of infections is decreasing. When $ s = s^* $, $ \\frac{di}{d\\tau} = i $, which denotes the maximum number of infections."
   ]
  },
  {
   "cell_type": "markdown",
   "metadata": {
    "deletable": false,
    "editable": false,
    "nbgrader": {
     "cell_type": "markdown",
     "checksum": "f14f45e92d83b36ddd331cadf0135ee5",
     "grade": false,
     "grade_id": "cell-4ecd957efe129fa5",
     "locked": true,
     "schema_version": 3,
     "solution": false,
     "task": false
    }
   },
   "source": [
    "### Numerical Methods\n",
    "\n",
    "we will now explore the behavior of this model numerically using a range of our basic algorithms by solving the scaled dynamical system\n",
    "\n",
    "$$\n",
    "    \\frac{d\\mathbf{u}}{dt} = \\mathbf{F}(t,\\mathbf{u}, s^*),\\quad\\mathbf{u}(0)=\\mathbf{u}_0\n",
    "$$\n",
    "\n",
    "where \n",
    "$$\n",
    "    \\mathbf{u} = \\begin{bmatrix} s \\\\ i \\\\ r \\\\ \\end{bmatrix}, \\quad \n",
    "    \\mathbf{F}(t,\\mathbf{u},s^*) = \\begin{bmatrix} -si \\\\ (s - s^*)i \\\\ s^*i \\\\ \\end{bmatrix}\n",
    "$$"
   ]
  },
  {
   "cell_type": "markdown",
   "metadata": {},
   "source": [
    "**(e)** [4] Write function to return the RHS of the scaled dynamical system $\\mathbf{F}(t,\\mathbf{u},s^*)$ as a numpy array"
   ]
  },
  {
   "cell_type": "code",
   "execution_count": 4,
   "metadata": {
    "deletable": false,
    "hide_input": false,
    "nbgrader": {
     "cell_type": "code",
     "checksum": "b148b3f286eff78dda504836f9a0b224",
     "grade": false,
     "grade_id": "cell-262f28b1e5913ee6",
     "locked": false,
     "schema_version": 3,
     "solution": true,
     "task": false
    }
   },
   "outputs": [],
   "source": [
    "def F(t, u, s_star):\n",
    "    \"\"\" RHS of scaled SIR model of Kermack and McKendrick\n",
    "    \n",
    "    parameters\n",
    "    ----------\n",
    "        t: float\n",
    "            time (just a dummy variable here because this is an autonomous system)\n",
    "        u: numpy array\n",
    "            array of scaled [ s, i, r ] values such that sum(u) = 1 \n",
    "            (and s,i, r are fractions of the total population N)\n",
    "        s_star: float\n",
    "            scaled critical susceptible population = \\beta/(\\alpha N)\n",
    "            \n",
    "    returns:\n",
    "        F(u): numpy array\n",
    "    \"\"\"\n",
    "    return numpy.array([-u[0] * u[1], (u[0] - s_star) * u[1], s_star * u[1]])"
   ]
  },
  {
   "cell_type": "code",
   "execution_count": 5,
   "metadata": {
    "deletable": false,
    "editable": false,
    "hide_input": false,
    "nbgrader": {
     "cell_type": "code",
     "checksum": "12fac581407142514fda702e3b5a978b",
     "grade": true,
     "grade_id": "cell-072d933c0fd03951",
     "locked": true,
     "points": 4,
     "schema_version": 3,
     "solution": false,
     "task": false
    }
   },
   "outputs": [
    {
     "name": "stdout",
     "output_type": "stream",
     "text": [
      "success!\n"
     ]
    }
   ],
   "source": [
    "# Let's assume the critical level of immunity is 60% of the total population\n",
    "s_star = 0.6\n",
    "\n",
    "# let there initially be .01 % infected cases and no recovered\n",
    "t = 0.\n",
    "i_0 = 1.e-4\n",
    "u_0 = numpy.array([1. - i_0, i_0, 0.0])\n",
    "answer = numpy.array([-9.999000000000001e-05,  3.999000000000001e-05, 6.000000000000000e-05])\n",
    "numpy.testing.assert_allclose(F(t, u_0, s_star), answer)\n",
    "print('success!')"
   ]
  },
  {
   "cell_type": "markdown",
   "metadata": {
    "deletable": false,
    "editable": false,
    "nbgrader": {
     "cell_type": "markdown",
     "checksum": "d088d59ce9dda59ab513f2e0809e93ec",
     "grade": false,
     "grade_id": "cell-4822191656183239434",
     "locked": true,
     "schema_version": 3,
     "solution": false
    }
   },
   "source": [
    "**(f)** [10] Use scipy.integrate.solve_ivp (imported above as solve_ivp),  to solve the scaled dynamical system above with for <font color=\"red\">$s^* = 0.6$</font> and initial condition\n",
    "\n",
    "$$\n",
    "    \\mathbf{u}_0 = \\begin{bmatrix} 1 - i_0\\\\ i_0 \\\\ 0\\\\ \\end{bmatrix}\n",
    "$$\n",
    "\n",
    "where $i_0=10^{-5}$ is the initially infected proportion of the available population $N$\n",
    "\n",
    "Integrate for $t\\in[0, 50]$ and make a plot showing the evolution of $s(t)$, $i(t)$, ${r}(t)$ vs. time \n",
    "\n",
    "**For full credit your plot should show the following**\n",
    "* show the actual time-steps chosen by the adaptive solver as well as a smooth solution (use dense_output=True) \n",
    "* the total cumulative number of cases at any tie\n",
    "* the time and infection level of the peak of the infection (hint: use the `events`, feature of solve_ivp)\n",
    "* the maximum fraction of people infected\n",
    "\n",
    "Explore the behavior of the solutions as a function of $s^*$ and $i_0$ and try to \"flatten the curve\" (we will try to make that more quantitative later). Also,  explore relative and absolute tolerances to convince yourself that your solutions are well resolved."
   ]
  },
  {
   "cell_type": "code",
   "execution_count": 8,
   "metadata": {
    "deletable": false,
    "hide_input": false,
    "nbgrader": {
     "cell_type": "code",
     "checksum": "f2bf5e8f1c26302e22265c386e195c9b",
     "grade": true,
     "grade_id": "cell-2d91985a44491d34",
     "locked": false,
     "points": 10,
     "schema_version": 3,
     "solution": true,
     "task": false
    }
   },
   "outputs": [
    {
     "data": {
      "image/png": "[encoded data removed]",
      "text/plain": [
       "<Figure size 720x576 with 1 Axes>"
      ]
     },
     "metadata": {
      "needs_background": "light"
     },
     "output_type": "display_data"
    }
   ],
   "source": [
    "# first calculating using solve_ivp\n",
    "t_span = (0., 50.)\n",
    "i_0 = 1.e-5\n",
    "u_0 = numpy.array([1. - i_0, i_0, 0.0])\n",
    "\n",
    "f = lambda t, u : F(t, u, s_star)\n",
    "event = lambda t, u: (u[0] - s_star)\n",
    "result = solve_ivp(f, t_span, u_0, method='RK45', dense_output=True, events=event, rtol=1.e-6, atol=1.e-8)\n",
    "tpeak = result.t_events[0][0]\n",
    "upeak = result.sol(tpeak)\n",
    "ipeak = upeak[1]\n",
    "\n",
    "# graphing \n",
    "\n",
    "fig = plt.figure(figsize=(10, 8))\n",
    "axes = fig.add_subplot(1, 1, 1)\n",
    "t = numpy.linspace(t_span[0], t_span[1], 100)\n",
    "\n",
    "axes.plot(result.t, result.y[0],'go-', label='Susceptible patients')\n",
    "axes.plot(result.t, result.y[1],'ro-', label='Infected patients')\n",
    "axes.plot(result.t, result.y[2],'bo-', label='Recovered patients')\n",
    "axes.plot(t, u_0[1] + u_0[0] - result.sol(t)[0],'k--', label='Total cases')\n",
    "axes.set_ylabel('Population Density', fontsize=16)\n",
    "axes.set_xlabel('Time', fontsize=16)\n",
    "axes.set_title('$s^* = {}$, $t_{{peak}}={:3.1f}$, $i_{{peak}}= {:3.2f}$, $r_{{peak}}={:3.2f}$'.format\n",
    "               (s_star, tpeak, ipeak, result.sol(t[-1])[2]), fontsize=16)\n",
    "legend = axes.legend()\n",
    "axes.grid()"
   ]
  },
  {
   "cell_type": "markdown",
   "metadata": {
    "deletable": false,
    "editable": false,
    "nbgrader": {
     "cell_type": "markdown",
     "checksum": "30d412ab682484e13aeb5dafe040b528",
     "grade": false,
     "grade_id": "cell-48221916561834547",
     "locked": true,
     "schema_version": 3,
     "solution": false
    }
   },
   "source": [
    "**(g)** [8] Write your own code to solve the same system using any constant step-size method we discussed in class that is higher than 2nd order (you can use or modify any of the example codes from the notes and make sure it works for vector valued functions.   Your code should be able to use your function $F$ defined above. Make sure to choose a method that will work for the non-linear right-hand-side. We will test it against the output from solve_ivp with N steps uniform steps in $t\\in[0,50]$.  What is the minimum number of steps does your routine take to pass the tests with a relative error of $10^{-4}$ and absolute error of $10^{-5}?.  You can control the number of steps taken with the `N=??` defined at the end of the cell.  **Extra Credit** determine the convergence rate of your method."
   ]
  },
  {
   "cell_type": "code",
   "execution_count": 9,
   "metadata": {
    "deletable": false,
    "hide_input": false,
    "nbgrader": {
     "cell_type": "code",
     "checksum": "13e09fcf965c1b3c41354c08f3f10977",
     "grade": false,
     "grade_id": "cell-918222306640123434",
     "locked": false,
     "schema_version": 3,
     "solution": true,
     "task": false
    }
   },
   "outputs": [],
   "source": [
    "def my_ode_solver(f, t_span, u0, N):\n",
    "    \"\"\" implement constant step size ODE integrator using a ________ method\n",
    "    \n",
    "    parameters\n",
    "    ----------\n",
    "        f: calleable\n",
    "            vector valued function with interface f(t,u) where u is the state vector\n",
    "        t_span: float list or array (or tuple)\n",
    "            array holding range of times to integrate over t_span = [ t_min, t_max]\n",
    "        u0:  numpy array\n",
    "            array of initial conditions\n",
    "        N: integer\n",
    "            number of time steps to take \n",
    "            \n",
    "    returns:\n",
    "    --------\n",
    "        t: numpy array\n",
    "            array of timesteps from t_min to t_max of length N\n",
    "        u: numpy array of shape (len(u0), len(t))\n",
    "            solution array,  the solution at timestep i should be u[:,i]\n",
    "    \"\"\"\n",
    "    \n",
    "    t = numpy.linspace(t_span[0], t_span[1], N)\n",
    "    delta_t = t[1] - t[0]\n",
    "    s_star = 0.6\n",
    "    \n",
    "    u = numpy.empty([len(u_0), len(t)])\n",
    "    u[:, 0] = u0\n",
    "    \n",
    "    for (n, t_n) in enumerate(t[1:]):\n",
    "        K_1 = delta_t * f(t_n, u[:,n])\n",
    "        K_2 = delta_t * f(t_n + delta_t/2., u[:,n] + K_1/2.)\n",
    "        K_3 = delta_t * f(t_n + delta_t/2., u[:,n] + K_2/2.)\n",
    "        K_4 = delta_t * f(t_n + delta_t, u[:,n] + K_3)\n",
    "        u[:,n+1] = u[:,n] + 1./6. * (K_1 + 2.*( K_2 + K_3) + K_4)\n",
    "        \n",
    "    return t, u \n",
    "\n",
    "# you can control the number of steps used here\n",
    "N = 100 \n"
   ]
  },
  {
   "cell_type": "code",
   "execution_count": 10,
   "metadata": {},
   "outputs": [
    {
     "name": "stdout",
     "output_type": "stream",
     "text": [
      "success!\n"
     ]
    }
   ],
   "source": [
    "s_star = 0.6\n",
    "f = lambda t, u: F(t, u, s_star)\n",
    "\n",
    "t_span = [0., 50.]\n",
    "i_0 = 1.e-5\n",
    "u_0 = numpy.array([1. - i_0, i_0, 0.0])\n",
    "\n",
    "\n",
    "t, u = my_ode_solver(f, t_span, u_0, N)\n",
    "\n",
    "sol = solve_ivp(f, t_span, u_0, method='RK45', dense_output=True, rtol=1.e-6, atol = 1.e-8)\n",
    "\n",
    "numpy.testing.assert_allclose(u, sol.sol(t), rtol=1.e-4, atol=1.e-5)\n",
    "print('success!')"
   ]
  },
  {
   "cell_type": "code",
   "execution_count": 11,
   "metadata": {
    "deletable": false,
    "editable": false,
    "hide_input": false,
    "nbgrader": {
     "cell_type": "code",
     "checksum": "02d48cabba835bb153b660ff9c27ac7d",
     "grade": true,
     "grade_id": "cell-918222306640124",
     "locked": true,
     "points": 8,
     "schema_version": 3,
     "solution": false,
     "task": false
    }
   },
   "outputs": [
    {
     "name": "stdout",
     "output_type": "stream",
     "text": [
      "success!\n"
     ]
    }
   ],
   "source": [
    "s_star = 0.6\n",
    "f = lambda t, u: F(t, u, s_star)\n",
    "\n",
    "t_span = [0., 50.]\n",
    "i_0 = 1.e-5\n",
    "u_0 = numpy.array([1. - i_0, i_0, 0.0])\n",
    "\n",
    "\n",
    "t, u = my_ode_solver(f, t_span, u_0, N)\n",
    "\n",
    "# There is a hidden line here implementing sol = solve_ivp to get the \"True\" solution\n",
    "\n",
    "numpy.testing.assert_allclose(u, sol.sol(t), rtol=1.e-4, atol=1.e-5)\n",
    "print('success!')"
   ]
  },
  {
   "cell_type": "markdown",
   "metadata": {
    "deletable": false,
    "editable": false,
    "nbgrader": {
     "cell_type": "markdown",
     "checksum": "206ea91d42a6ed18738f8eb5e410ac6a",
     "grade": false,
     "grade_id": "cell-72ea6dc8a2813be7",
     "locked": true,
     "schema_version": 3,
     "solution": false,
     "task": false
    }
   },
   "source": [
    "**(h)** [2] Reproduce your figure from the scipy version (without events)"
   ]
  },
  {
   "cell_type": "code",
   "execution_count": 23,
   "metadata": {
    "deletable": false,
    "hide_input": false,
    "nbgrader": {
     "cell_type": "code",
     "checksum": "c7fbad01da98f1196ea96430b8c5cf0e",
     "grade": true,
     "grade_id": "cell-9182223066423o434",
     "locked": false,
     "points": 2,
     "schema_version": 3,
     "solution": true,
     "task": false
    }
   },
   "outputs": [
    {
     "data": {
      "text/plain": [
       "<matplotlib.legend.Legend at 0x7f93f7c6d8d0>"
      ]
     },
     "execution_count": 23,
     "metadata": {},
     "output_type": "execute_result"
    },
    {
     "data": {
      "image/png": "[encoded data removed]",
      "text/plain": [
       "<Figure size 720x576 with 1 Axes>"
      ]
     },
     "metadata": {
      "needs_background": "light"
     },
     "output_type": "display_data"
    }
   ],
   "source": [
    "f = lambda t, u: F(t, u, s_star)\n",
    "\n",
    "N = 100\n",
    "t_span = (0., 50.)\n",
    "i_0 = 1.e-5\n",
    "u_0 = numpy.array([1. - i_0, i_0, 0.0])\n",
    "t, u = my_ode_solver(f, t_span, u_0, N)\n",
    "\n",
    "s = u[0]\n",
    "i = u[1]\n",
    "r = u[2]\n",
    "tnew = numpy.linspace(0, 50, N)\n",
    "\n",
    "fig = plt.figure(figsize=(10, 8))\n",
    "axes = fig.add_subplot(1, 1, 1)\n",
    "axes.plot(tnew, s,'ro-', label='Susceptible patients')\n",
    "axes.plot(tnew, i,'bo-', label='Infected patients')\n",
    "axes.plot(tnew, r,'go-', label='Recovered patients')\n",
    "axes.plot(t, u_0[1] + u_0[0] - result.sol(t)[0],'k--', label='Total cases')\n",
    "axes.set_xlabel('Time', fontsize=16)\n",
    "axes.set_ylabel('Population Density', fontsize=16)\n",
    "axes.set_title('$s^* = {}$, $r_{{peak}}={:3.2f}$'.format(s_star, result.sol(t[-1])[2]),fontsize=16)\n",
    "axes.grid()\n",
    "axes.legend()"
   ]
  },
  {
   "cell_type": "markdown",
   "metadata": {
    "deletable": false,
    "editable": false,
    "nbgrader": {
     "cell_type": "markdown",
     "checksum": "bd324c6581844059a69be9901af5bcdb",
     "grade": false,
     "grade_id": "cell-062d990b667d61f1",
     "locked": true,
     "schema_version": 3,
     "solution": false,
     "task": false
    }
   },
   "source": [
    "### Themes and Variations [15]\n",
    "\n",
    "The classical Kermack and McKendric model is only one of a vast set of models used to model the spread of infection disease but assumes homogeneous mixing across the entire population.  In addition there are lots of things  to explore with even the simplest SIR model.   Try one (or more) of the following problems or come up with your own problem.  You may work in groups\n",
    "\n",
    "* Choose a fixed value of $N$ for the maximum susceptible population. Assume that maximum hospital capacity is achieved when the number of infected patients reaches $i_{max}$.  Construct a root-finding problem to find the value of $s^*$ required to keep  the peak number of infected cases $i_{peak} <= i_{max}$. \n",
    "\n",
    "* Consider the possibility of re-infection (ugh!).  One model of this assumes that recovered patients can become susceptible again at some rate $\\lambda$.  Modify the original SIR model to include this possibility and construct a new scaled set of equations.  This will now be a 2 parameter dynamical system ($s^*$ and another parameter say $\\lambda^*$.  Explore the behavior of this new problem.\n",
    "\n",
    "* There are lots of data on aggregated cases by country, state, and county.  Find some time-series data and attempt to fit the two parameters $\\alpha N$ (which controls the time scale) and $\\beta$ which controls $s*$. (A good source of data and a thorough discussion of what we know and don't know  is [Our world in Data](https://ourworldindata.org/coronavirus).\n",
    "\n",
    "* Read [Siettos and Russo, (2013)](https://doi.org/10.4161/viru.24041)  which reviews a range of epidemiology models including Stochastic SIR models. Pick another model and propose how to implement it.  Better yet, implement it\n",
    "\n",
    "* Something Numerical: Write an adaptive time stepper built around any two single-step multi-stage schemes and compare your solution to solve_ivp.\n",
    "\n",
    "* Your own best ideas!\n",
    "\n"
   ]
  },
  {
   "cell_type": "code",
   "execution_count": 39,
   "metadata": {
    "deletable": false,
    "nbgrader": {
     "cell_type": "code",
     "checksum": "a79922008e56f4d1eafd0b64ccf61024",
     "grade": true,
     "grade_id": "cell-52d744104da718a8",
     "locked": false,
     "points": 15,
     "schema_version": 3,
     "solution": true,
     "task": false
    }
   },
   "outputs": [
    {
     "name": "stdout",
     "output_type": "stream",
     "text": [
      "s_star = 0.6242485442714641, peak_i = 0.09303348027194511, max_I = 9303\n"
     ]
    }
   ],
   "source": [
    "# solve ivp \n",
    "\n",
    "N = 1.e5\n",
    "i0 = 1.e-5\n",
    "u0 = numpy.array([1-i0, i0, 0])\n",
    "t = (0., 50.)\n",
    "tnew = numpy.linspace(0, 50)\n",
    "\n",
    "f = lambda t, u: F(t, u, s_star)\n",
    "\n",
    "sol = solve_ivp(f, t, u0, method='RK45', dense_output=True, rtol=1.e-6, atol = 1.e-8)\n",
    "solN = numpy.array(result.sol(tnew))\n",
    "s = solN[0]\n",
    "i = solN[1]\n",
    "r = solN[2]\n",
    "\n",
    "# finding max_i  \n",
    "\n",
    "i_peak = max(i)\n",
    "max_i = i.argmax()\n",
    "s_new = s[max_i]\n",
    "\n",
    "s_star = s_new\n",
    "max_I = int(N * i_peak)\n",
    "\n",
    "print('s_star = {}, peak_i = {}, max_I = {}'.format(s_star, i_peak, max_I))"
   ]
  },
  {
   "cell_type": "markdown",
   "metadata": {
    "deletable": false,
    "editable": false,
    "nbgrader": {
     "cell_type": "markdown",
     "checksum": "9c2a0a5820245cfcf6f63f7488fd70ad",
     "grade": false,
     "grade_id": "cell-74f9c58c7046a7cd",
     "locked": true,
     "schema_version": 3,
     "solution": false
    }
   },
   "source": [
    "## Question 2: Derivation of Adams-Moulton"
   ]
  },
  {
   "cell_type": "markdown",
   "metadata": {
    "deletable": false,
    "editable": false,
    "nbgrader": {
     "cell_type": "markdown",
     "checksum": "bd4a293d0162da5fdaa513c421593087",
     "grade": false,
     "grade_id": "cell-74f9c58c7a7cd",
     "locked": true,
     "schema_version": 3,
     "solution": false
    }
   },
   "source": [
    "**(a)** [15] Show that the Adams-Moulton 2-step method can be derived by considering conditions derived from the truncation error expression for multi-step methods"
   ]
  },
  {
   "cell_type": "markdown",
   "metadata": {
    "deletable": false,
    "nbgrader": {
     "cell_type": "markdown",
     "checksum": "e8d44f48e64aa1ebd5fafd4597ea7559",
     "grade": true,
     "grade_id": "cell-415a1f1008c1",
     "locked": false,
     "points": 15,
     "schema_version": 3,
     "solution": true
    }
   },
   "source": [
    "From Adams-Moulton 2-step method we have that $\\alpha_2 = \\alpha_1 = 1$ and $\\alpha_0 = 0$, satisfy the first condition:\n",
    "\n",
    "$$ \\sum_{j=0}^2 \\alpha_j = 0 $$\n",
    "\n",
    "Then the truncation error is used to solve for $\\beta_0, \\beta_1, \\beta_2$, therefore:\n",
    "\n",
    "$$ 0 = \\sum_{j=0}^2 \\frac{1}{q!} j^q \\alpha_j - \\frac{1}{(q-1)!} j^{q-1} \\beta_j $$\n",
    "\n",
    "By expanding: \n",
    "\n",
    "$$ 0 = \\sum_{j=0}^2 j \\alpha_j - \\beta_j = -\\beta_0 -\\beta_1 - \\beta_2 + \\alpha_1 + 2\\alpha_2 = -\\beta_0 -\\beta_1 - \\beta_2 + 1  $$\n",
    "\n",
    "$$ 0 = \\sum_{j=0}^2 \\frac{1}{2!} j^2 \\alpha_j - j\\beta_j = \\frac{3}{2} - \\beta_1 -2\\beta_2 $$\n",
    "\n",
    "$$ 0 = \\sum_{j=0}^2 \\frac{1}{3!} j^3 \\alpha_j - \\frac{1}{2!} j^2 \\beta_j = -\\frac{1}{2} \\beta_1 + \\frac{7}{6}  - 2\\beta_2 $$\n",
    "\n",
    "Now simplifying:\n",
    "\n",
    "$$ 1 = \\beta_0 +\\beta_1 + \\beta_2 $$\n",
    "\n",
    "$$ \\frac{3}{2} = \\beta_1 + 2\\beta_2 $$\n",
    "\n",
    "$$\\frac{7}{3} = \\beta_1 + 4\\beta_2 $$\n",
    "\n",
    "To solve for the third order, we reach q = 3: \n",
    "\n",
    "$$ \\beta_1 = \\frac{3}{2} - 2\\beta_2 $$\n",
    "\n",
    "$$ \\frac{7}{3} = \\frac{3}{2} - 2\\beta_2 + 2\\beta_2 \\rightarrow $$\n",
    "\n",
    "$$ \\beta_2 = \\frac{5}{12} $$\n",
    "\n",
    "$$ \\beta_1 = \\frac{2}{3} $$\n",
    "\n",
    "$$\\beta_0 = 1 - \\beta_1 - \\beta_2 = -\\frac{1}{12} $$\n",
    "\n",
    "Which gives us Adam's Method: \n",
    "\n",
    "$$ U_{n+2} = U_{n+1} + \\frac{\\delta t}{12} (-f_n +8f_{n+1} + 5f_{n+2}) $$\n",
    "\n"
   ]
  },
  {
   "cell_type": "markdown",
   "metadata": {
    "deletable": false,
    "editable": false,
    "nbgrader": {
     "cell_type": "markdown",
     "checksum": "0dc8aea1d224aa1723d194cfcbfb42ef",
     "grade": false,
     "grade_id": "cell-77046a7cd",
     "locked": true,
     "schema_version": 3,
     "solution": false
    }
   },
   "source": [
    "**(b)** [15] **Extra Credit** We can also derive linear multi-step methods more generally by approximating either the unknown function $u(t)$ or the right-hand side function $f(t, u)$ as an interpolating polynomial and integrating both sides of the resulting approximation to derive the method.  Using a quadratic polynomial derive the coefficients for Adams-Moulton 2-step.  Note that here we will assume when interpolating $f(t, u)$ that the interpolant is in terms of points $(t_i, f(t_i))$."
   ]
  },
  {
   "cell_type": "markdown",
   "metadata": {
    "deletable": false,
    "nbgrader": {
     "cell_type": "markdown",
     "checksum": "88ec8eb17ddf5543d1bee4c73b8a1bfb",
     "grade": true,
     "grade_id": "cell-4696d7f08fb3cce",
     "locked": false,
     "points": 15,
     "schema_version": 3,
     "solution": true
    }
   },
   "source": [
    "YOUR ANSWER HERE"
   ]
  }
 ],
 "metadata": {
  "kernelspec": {
   "display_name": "Python 3",
   "language": "python",
   "name": "python3"
  },
  "language_info": {
   "codemirror_mode": {
    "name": "ipython",
    "version": 3
   },
   "file_extension": ".py",
   "mimetype": "text/x-python",
   "name": "python",
   "nbconvert_exporter": "python",
   "pygments_lexer": "ipython3",
   "version": "3.7.3"
  },
  "latex_envs": {
   "bibliofile": "biblio.bib",
   "cite_by": "apalike",
   "current_citInitial": 1,
   "eqLabelWithNumbers": true,
   "eqNumInitial": 0
  }
 },
 "nbformat": 4,
 "nbformat_minor": 2
}
