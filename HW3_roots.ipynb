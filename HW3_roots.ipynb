{
 "cells": [
  {
   "cell_type": "markdown",
   "metadata": {},
   "source": [
    "Before you turn this problem in, make sure everything runs as expected. First, **restart the kernel** (in the menubar, select Kernel$\\rightarrow$Restart) and then **run all cells** (in the menubar, select Cell$\\rightarrow$Run All).\n",
    "\n",
    "Make sure you fill in any place that says `YOUR CODE HERE` or \"YOUR ANSWER HERE\", as well as your name and collaborators below:"
   ]
  },
  {
   "cell_type": "code",
   "execution_count": 1,
   "metadata": {},
   "outputs": [],
   "source": [
    "NAME = \"Aisse Torres\"\n",
    "COLLABORATORS = \"Bruna Costa\""
   ]
  },
  {
   "cell_type": "markdown",
   "metadata": {},
   "source": [
    "---"
   ]
  },
  {
   "cell_type": "code",
   "execution_count": 2,
   "metadata": {},
   "outputs": [],
   "source": [
    "from __future__ import print_function\n",
    "import numpy\n",
    "import matplotlib.pyplot as plt\n",
    "import warnings\n",
    "from scipy import optimize\n",
    "from scipy.special import factorial\n",
    "import math \n",
    "\n",
    "%matplotlib inline\n"
   ]
  },
  {
   "cell_type": "markdown",
   "metadata": {
    "deletable": false,
    "editable": false,
    "nbgrader": {
     "cell_type": "markdown",
     "checksum": "896aee8be036699e78bc884285e0b02f",
     "grade": false,
     "grade_id": "cell-7752050701682384",
     "locked": true,
     "schema_version": 3,
     "solution": false
    }
   },
   "source": [
    "# HW 3:  Root Finding and Optimization"
   ]
  },
  {
   "cell_type": "markdown",
   "metadata": {
    "deletable": false,
    "editable": false,
    "nbgrader": {
     "cell_type": "markdown",
     "checksum": "79deda1fff66c5437b0dc524ed7eb9a6",
     "grade": false,
     "grade_id": "cell-8382527651811313",
     "locked": true,
     "schema_version": 3,
     "solution": false
    }
   },
   "source": [
    "## Question 1 - Fun with Fixed Point iteration\n",
    "\n",
    "Let's say that we wanted to calculate $\\sqrt{M}$ given that $M \\in \\mathbb{R}$ and $M > 0$ and that we did not want to use the function `sqrt` directly.  Consider the function \n",
    "\n",
    "$$\n",
    "    f(x) = x^2 - M\n",
    "$$\n",
    "\n",
    "which has a positive root at at $x=\\sqrt{M}$.   Here we will try to solve this using  fixed point iteration\n",
    "\n",
    "$$\n",
    "    x_{k+1} = g(x_k)\n",
    "$$\n",
    "for several different iteration functions $g(x)$ (see below)\n",
    "\n",
    "For each function $g$:\n",
    "\n",
    "- Confirm analytically that $x=\\sqrt{M}$ is a fixed point of $g(x)$\n",
    "- Analyze the convergence behavior close to the fixed-point and determine the stability of the iterative scheme\n",
    "- Now set $M=3$  and $x_0 = 2$.  Make a nicely labeled convergence plot showing the log of the relative error as a function of iteration. How many iterations are required to reduce the relative error to machine precision (if it converges)?"
   ]
  },
  {
   "cell_type": "markdown",
   "metadata": {
    "deletable": false,
    "editable": false,
    "nbgrader": {
     "cell_type": "markdown",
     "checksum": "47d9ae565a714b67099b1500b01a4250",
     "grade": false,
     "grade_id": "cell-7408468548362671",
     "locked": true,
     "schema_version": 3,
     "solution": false
    }
   },
   "source": [
    "**(a)** [4] To help with the last part,  write a short python function to return N iterations of a fixed point iteration."
   ]
  },
  {
   "cell_type": "code",
   "execution_count": 3,
   "metadata": {
    "deletable": false,
    "nbgrader": {
     "cell_type": "code",
     "checksum": "ce6bb68ac251ae8857aeb9060c313a74",
     "grade": false,
     "grade_id": "cell-5217816963816529",
     "locked": false,
     "schema_version": 3,
     "solution": true
    }
   },
   "outputs": [],
   "source": [
    "def fixed_point(g, x0, N=5):\n",
    "    \"\"\"conduct N iterations of the fixed point iteration x_{k+1} = g(x_k)\n",
    "    \n",
    "    :Input:\n",
    "        - *g* (function) - The iteration function\n",
    "        - *x_0* (float) - Initial iterate\n",
    "        - *N* (int) - number of terms in iteration\n",
    "     \n",
    "    :Output:\n",
    "        x: numpy array (float)\n",
    "            array containing the iterations [ x0, x1, ... x_N ]\n",
    "    \"\"\"\n",
    "    e = 1.\n",
    "    n = 0\n",
    "    tol = 10e-8\n",
    "    \n",
    "    xp = [e]\n",
    "    \n",
    "    while(e > tol and n < N):\n",
    "        x = g(x0)      # fixed point equation\n",
    "        e = numpy.abs(x0 - x) # calculate error \n",
    "        x0 = x\n",
    "        xp.append(x0)  # save the solution of the current step\n",
    "        n += 1\n",
    "        \n",
    "    return xp"
   ]
  },
  {
   "cell_type": "code",
   "execution_count": 4,
   "metadata": {
    "deletable": false,
    "editable": false,
    "nbgrader": {
     "cell_type": "code",
     "checksum": "6688603955b612c29a55e747ca6a5060",
     "grade": true,
     "grade_id": "cell-5409919424122382",
     "locked": true,
     "points": 4,
     "schema_version": 3,
     "solution": false
    }
   },
   "outputs": [
    {
     "name": "stdout",
     "output_type": "stream",
     "text": [
      "success!\n"
     ]
    }
   ],
   "source": [
    "N = 5\n",
    "g = lambda x: numpy.cos(x)\n",
    "x0 = 1.\n",
    "answer = numpy.array([1., 0.54030231, 0.85755322, 0.65428979,\n",
    "                      0.79348036, 0.70136877])\n",
    "x_true = 0.7390851332153119\n",
    "\n",
    "x = fixed_point(g, x0, N )\n",
    "numpy.testing.assert_allclose(x, answer)\n",
    "x = fixed_point(g, x0, 1000)\n",
    "numpy.testing.assert_almost_equal(x[-1],x_true)\n",
    "print('success!')"
   ]
  },
  {
   "cell_type": "markdown",
   "metadata": {
    "deletable": false,
    "editable": false,
    "nbgrader": {
     "cell_type": "markdown",
     "checksum": "14b5f732f5aa0e3b5cfeac176c46d19c",
     "grade": false,
     "grade_id": "cell-2533433274902651",
     "locked": true,
     "schema_version": 3,
     "solution": false
    }
   },
   "source": [
    "**(b)** [6] analyze the problem with \n",
    "$$ g(x) = 1 + x - \\frac{x^2}{M}$$"
   ]
  },
  {
   "cell_type": "markdown",
   "metadata": {
    "deletable": false,
    "nbgrader": {
     "cell_type": "markdown",
     "checksum": "f8553ede2a496f25fd88744bab86b8fa",
     "grade": true,
     "grade_id": "cell-340019030337399",
     "locked": false,
     "points": 4,
     "schema_version": 3,
     "solution": true,
     "task": false
    }
   },
   "source": [
    "Check if fixed point \n",
    "\n",
    "$$\n",
    "    g(\\sqrt{M}) = 1 + \\sqrt{M} - \\frac{\\sqrt{M}^2}{M}\n",
    "$$\n",
    "\n",
    "$$\n",
    "    g(\\sqrt{M}) = 1 + \\sqrt{M} - 1\n",
    "$$\n",
    "\n",
    "$$\n",
    "    g(\\sqrt{M}) = \\sqrt{M}\n",
    "$$\n",
    "\n",
    "    It is a fixed point \n",
    "    \n",
    "Analyze the convergence behavior\n",
    "\n",
    "$$ \n",
    "    g'(x) = 1 - \\frac{2x}{M} \n",
    "$$\n",
    "\n",
    "$$ \n",
    "    g'(x) = 1 - \\frac{2\\sqrt{M}}{M} \n",
    "$$\n",
    "\n",
    "$$ \n",
    "    g'(x) = 1 - \\frac{2}{\\sqrt{M}} \n",
    "$$\n",
    "\n",
    "    This will only converge if:\n",
    "\n",
    "$$ \n",
    "   |1 - \\frac{2\\sqrt{M}}{M}| < 1\n",
    "$$\n",
    "\n",
    "    Otherwise it will be unstable and diverge \n",
    "\n"
   ]
  },
  {
   "cell_type": "code",
   "execution_count": 5,
   "metadata": {
    "deletable": false,
    "nbgrader": {
     "cell_type": "code",
     "checksum": "66593b36237eae76e22a265b4684604c",
     "grade": true,
     "grade_id": "cell-9ea67719fcf6c873",
     "locked": false,
     "points": 2,
     "schema_version": 3,
     "solution": true,
     "task": false
    }
   },
   "outputs": [
    {
     "data": {
      "image/png": "[encoded data removed]",
      "text/plain": [
       "<Figure size 432x288 with 1 Axes>"
      ]
     },
     "metadata": {
      "needs_background": "light"
     },
     "output_type": "display_data"
    }
   ],
   "source": [
    "g = lambda x: 1 + x - (x**2)/3\n",
    "x = fixed_point(g, 2, 50)\n",
    "rel_error = numpy.absolute((x - numpy.sqrt(3)) / numpy.sqrt(3))\n",
    "plt.semilogy(range(len(rel_error)), rel_error, '-o')\n",
    "plt.xlabel('N')\n",
    "plt.ylabel('Relative Error')\n",
    "plt.show()"
   ]
  },
  {
   "cell_type": "markdown",
   "metadata": {
    "deletable": false,
    "editable": false,
    "nbgrader": {
     "cell_type": "markdown",
     "checksum": "631a3e4c05e43db09ece645a93dd948c",
     "grade": false,
     "grade_id": "cell-2533433274adsfadf1",
     "locked": true,
     "schema_version": 3,
     "solution": false
    }
   },
   "source": [
    " **(c)** [6] analyze the problem with \n",
    "$$ g(x) = \\frac{M}{x}$$"
   ]
  },
  {
   "cell_type": "markdown",
   "metadata": {
    "deletable": false,
    "nbgrader": {
     "cell_type": "markdown",
     "checksum": "4b9b505f2509ac5d4d21866f8f8735d0",
     "grade": true,
     "grade_id": "cell-340019030h348fqoi",
     "locked": false,
     "points": 4,
     "schema_version": 3,
     "solution": true,
     "task": false
    }
   },
   "source": [
    "Check if fixed point \n",
    "\n",
    "$$\n",
    "    g(\\sqrt{M}) = \\frac{M}{\\sqrt{M}}\n",
    "$$\n",
    "\n",
    "$$\n",
    "    g(\\sqrt{M}) = M \\times M^{\\frac{-1}{2}}\n",
    "$$\n",
    "\n",
    "$$\n",
    "    g(\\sqrt{M}) = M^{\\frac{-1}{2} + 1}\n",
    "$$\n",
    "\n",
    "$$\n",
    "    g(\\sqrt{M}) = \\sqrt{M}\n",
    "$$\n",
    "\n",
    "    It is a fixed point \n",
    "    \n",
    "Analyze the convergence behavior\n",
    "\n",
    "$$ \n",
    "    g'(x) = \\frac{-M}{x^{2}}\n",
    "$$\n",
    "\n",
    "$$ \n",
    "    g'(\\sqrt{M}) = \\frac{-M}{\\sqrt{M}^{2}}\n",
    "$$\n",
    "\n",
    "$$ \n",
    "    g'(\\sqrt{M}) = \\frac{-M}{M}\n",
    "$$\n",
    "\n",
    "$$ \n",
    "    g'(\\sqrt{M}) = -1\n",
    "$$\n",
    "\n",
    "    This does not converge since the absolute value is equal to 1, and not less than one. Further, since the derivative is -1, the error will alternate between being positive and negative "
   ]
  },
  {
   "cell_type": "code",
   "execution_count": 6,
   "metadata": {
    "deletable": false,
    "nbgrader": {
     "cell_type": "code",
     "checksum": "6c9dca5ab2f0c288ab63abef4316b2d8",
     "grade": true,
     "grade_id": "cell-9ea67238r9y",
     "locked": false,
     "points": 2,
     "schema_version": 3,
     "solution": true,
     "task": false
    }
   },
   "outputs": [
    {
     "data": {
      "image/png": "[encoded data removed]",
      "text/plain": [
       "<Figure size 432x288 with 1 Axes>"
      ]
     },
     "metadata": {
      "needs_background": "light"
     },
     "output_type": "display_data"
    }
   ],
   "source": [
    "g = lambda x: 3 / x\n",
    "x = fixed_point(g, 2, 50)\n",
    "rel_error = numpy.absolute((x - numpy.sqrt(3)) / numpy.sqrt(3))\n",
    "plt.semilogy(range(len(rel_error)), rel_error, '-o')\n",
    "plt.xlabel('N')\n",
    "plt.ylabel('Relative Error')\n",
    "plt.ylim(1.32 * 10e-2, 1.57 * 10e-2)\n",
    "plt.show()"
   ]
  },
  {
   "cell_type": "markdown",
   "metadata": {
    "deletable": false,
    "editable": false,
    "nbgrader": {
     "cell_type": "markdown",
     "checksum": "521bc3485b0df7e70bafc0267d87be69",
     "grade": false,
     "grade_id": "cell-253343327982308ufu",
     "locked": true,
     "schema_version": 3,
     "solution": false
    }
   },
   "source": [
    "**(d)** [6] Newton's method\n",
    "$$ g(x) = x - \\frac{f}{f'}$$\n",
    "\n",
    "with $$ f = x^2 - M$$"
   ]
  },
  {
   "cell_type": "markdown",
   "metadata": {
    "deletable": false,
    "nbgrader": {
     "cell_type": "markdown",
     "checksum": "064fb95869cb3acd441daafd5640ee52",
     "grade": true,
     "grade_id": "cell-340019030oijq234roi",
     "locked": false,
     "points": 4,
     "schema_version": 3,
     "solution": true,
     "task": false
    }
   },
   "source": [
    "Check if fixed point\n",
    "\n",
    "$$ \n",
    "    g(\\sqrt{M}) = \\sqrt{M} - \\frac{\\sqrt{M}^{2}-M}{2\\sqrt{M}}\n",
    "$$\n",
    "\n",
    "$$ \n",
    "    g(\\sqrt{M}) = \\sqrt{M} - \\frac{M-M}{2\\sqrt{M}}\n",
    "$$\n",
    "\n",
    "$$ \n",
    "    g(\\sqrt{M}) = \\sqrt{M} - \\frac{0}{2\\sqrt{M}}\n",
    "$$\n",
    "\n",
    "$$ \n",
    "    g(\\sqrt{M}) = \\sqrt{M}\n",
    "$$\n",
    "\n",
    "    It is a fixed point \n",
    "\n",
    "Check if converges: \n",
    "\n",
    "$$ \n",
    "    g'(x) = 1 - \\frac{x^{2} + M}{2x^{2}}\n",
    "$$\n",
    "\n",
    "$$ \n",
    "    g'(\\sqrt{M}) = 1 - \\frac{\\sqrt{M}^{2} + M}{2\\sqrt{M}^{2}}\n",
    "$$\n",
    "\n",
    "$$ \n",
    "    g'(\\sqrt{M}) = 1 - \\frac{M + M}{2M}\n",
    "$$\n",
    "\n",
    "$$ \n",
    "    g'(\\sqrt{M}) = 1 - \\frac{2M}{2M}\n",
    "$$\n",
    "\n",
    "$$ \n",
    "    g'(\\sqrt{M}) = 1 - 1\n",
    "$$\n",
    "\n",
    "$$ \n",
    "    g'(\\sqrt{M}) = 0\n",
    "$$\n",
    "\n",
    "    g(x) will always converge \n",
    "\n"
   ]
  },
  {
   "cell_type": "code",
   "execution_count": 7,
   "metadata": {
    "deletable": false,
    "nbgrader": {
     "cell_type": "code",
     "checksum": "b795766d15cc991f6dc7ab679c1e4d50",
     "grade": true,
     "grade_id": "cell-9ea67719fouerouh",
     "locked": false,
     "points": 2,
     "schema_version": 3,
     "solution": true,
     "task": false
    }
   },
   "outputs": [
    {
     "data": {
      "image/png": "[encoded data removed]",
      "text/plain": [
       "<Figure size 432x288 with 1 Axes>"
      ]
     },
     "metadata": {
      "needs_background": "light"
     },
     "output_type": "display_data"
    }
   ],
   "source": [
    "g = lambda x: x - ((x**2 - 3) / (2*x))\n",
    "x = fixed_point(g, 2, 100)\n",
    "rel_error = numpy.absolute((x - numpy.sqrt(3)) / numpy.sqrt(3))\n",
    "plt.semilogy(range(len(rel_error)), rel_error, '-o')\n",
    "plt.xlabel('N')\n",
    "plt.ylabel('Relative Error')\n",
    "plt.show()"
   ]
  },
  {
   "cell_type": "markdown",
   "metadata": {
    "deletable": false,
    "editable": false,
    "nbgrader": {
     "cell_type": "markdown",
     "checksum": "12ab348d1c0c6d702bf45b47b04b77c1",
     "grade": false,
     "grade_id": "cell-5084202108adoiu923",
     "locked": true,
     "schema_version": 3,
     "solution": false
    }
   },
   "source": [
    "## Question 2 - Fun with Rootfinders and NewtSafe\n",
    "\n",
    "This problem will explore the behavior of a range of different rootfinding routines against  a more challenging rootfinding problem.  Feel free to use all of the routines presented in class which have been included through the convenience cell\n",
    "\n",
    "`%run rootfinding_optimization_schemes.ipynb`\n",
    "\n",
    "You need to have this notebook in the same directory with your homework for this notebook to validate"
   ]
  },
  {
   "cell_type": "code",
   "execution_count": 8,
   "metadata": {},
   "outputs": [
    {
     "name": "stdout",
     "output_type": "stream",
     "text": [
      "functions loaded correctly\n"
     ]
    }
   ],
   "source": [
    "#  Cell to load and test at least newton's method from class\n",
    "\n",
    "%run rootfinding_optimization_schemes.ipynb\n",
    "\n",
    "# set test function and it's derivative\n",
    "f = lambda x: numpy.cos(x) - x\n",
    "f_prime = lambda x: -numpy.sin(x) - 1.\n",
    "\n",
    "#set initial guess and call newton\n",
    "x0 = 1.\n",
    "x, x_array = newton(f, f_prime, x0,tol=1.e-12)\n",
    "\n",
    "# run tests\n",
    "answer = 0.7390851332151606\n",
    "N = 5\n",
    "numpy.testing.assert_almost_equal(x, answer)\n",
    "numpy.testing.assert_almost_equal(N, len(x_array))\n",
    "print(\"functions loaded correctly\")"
   ]
  },
  {
   "cell_type": "markdown",
   "metadata": {
    "deletable": false,
    "editable": false,
    "nbgrader": {
     "cell_type": "markdown",
     "checksum": "f4da7f37445b10e48b4905283ab46716",
     "grade": false,
     "grade_id": "cell-08d7aa7aa9d9d246",
     "locked": true,
     "schema_version": 3,
     "solution": false,
     "task": false
    }
   },
   "source": [
    "Consider the function \n",
    "\n",
    "$$\n",
    "    f(x) = \\cos(x) +  N(x, A, \\alpha, \\beta))\n",
    "$$\n",
    "where\n",
    "\n",
    "$$\n",
    "    N(x, A, \\alpha, \\beta) =  A\\left[\\sin(\\alpha x) + \\sin(\\beta x)\\right]\n",
    "$$\n",
    "\n",
    "is a function that adds smooth additive \"noise\" with fixed amplitude $A = 0.01$ and varying frequencies $\\alpha$ and $\\beta$"
   ]
  },
  {
   "cell_type": "markdown",
   "metadata": {
    "deletable": false,
    "editable": false,
    "nbgrader": {
     "cell_type": "markdown",
     "checksum": "8c78c1f5acea85f0f75d23bcae09ff55",
     "grade": false,
     "grade_id": "cell-fadb86c67ee671d2",
     "locked": true,
     "schema_version": 3,
     "solution": false,
     "task": false
    }
   },
   "source": [
    "**(a)** [4] Make a nicely labeled plot to showing the behavior of this function for \n",
    "* $\\alpha = 0.$, $\\beta =0.$\n",
    "* $\\alpha = 4.$, $\\beta =5.$\n",
    "* $\\alpha = 27$, $\\beta = 50$\n",
    "\n",
    "over the domain $x\\in[-2\\pi, 2\\pi]$. Make sure you have enough points to resolve the wiggles"
   ]
  },
  {
   "cell_type": "code",
   "execution_count": 9,
   "metadata": {
    "deletable": false,
    "nbgrader": {
     "cell_type": "code",
     "checksum": "edc7c9bcc180f7f6c5e68c36a482e7ba",
     "grade": true,
     "grade_id": "cell-fadb86c67ee67848gr",
     "locked": false,
     "points": 4,
     "schema_version": 3,
     "solution": true,
     "task": false
    }
   },
   "outputs": [
    {
     "data": {
      "image/png": "[encoded data removed]",
      "text/plain": [
       "<Figure size 576x432 with 1 Axes>"
      ]
     },
     "metadata": {
      "needs_background": "light"
     },
     "output_type": "display_data"
    }
   ],
   "source": [
    "x = numpy.linspace(-2 * numpy.pi, 2 * numpy.pi, 1000)\n",
    "fig = plt.figure(figsize=(8,6))\n",
    "axes = fig.add_subplot(1, 1, 1)\n",
    "axes.plot(x, numpy.cos(x) + 0.01 * (numpy.sin(0. * x)+ numpy.sin(0. * x)), 'r', label='Alpha = 0, Beta = 0')\n",
    "axes.plot(x, numpy.cos(x) + 0.01 * (numpy.sin(4. * x)+ numpy.sin(5. * x)), 'b', label='Alpha = 4., Beta = 5.')\n",
    "axes.plot(x, numpy.cos(x) + 0.01 * (numpy.sin(27 * x)+ numpy.sin(50 * x)), 'g', label='Alpha = 27, Beta = 50')\n",
    "axes.set_xlabel(\"x\",fontsize=16)\n",
    "axes.legend()\n",
    "plt.grid()\n",
    "plt.show()"
   ]
  },
  {
   "cell_type": "code",
   "execution_count": 10,
   "metadata": {},
   "outputs": [
    {
     "data": {
      "text/plain": [
       "Text(0.5, 1.0, 'Alpha = 0, Beta = 0')"
      ]
     },
     "execution_count": 10,
     "metadata": {},
     "output_type": "execute_result"
    },
    {
     "data": {
      "image/png": "[encoded data removed]",
      "text/plain": [
       "<Figure size 432x288 with 1 Axes>"
      ]
     },
     "metadata": {
      "needs_background": "light"
     },
     "output_type": "display_data"
    }
   ],
   "source": [
    "plt.plot(x, numpy.cos(x) + 0.01 * (numpy.sin(0. * x)+ numpy.sin(0. * x)), 'r')\n",
    "plt.title('Alpha = 0, Beta = 0')"
   ]
  },
  {
   "cell_type": "code",
   "execution_count": 11,
   "metadata": {
    "scrolled": true
   },
   "outputs": [
    {
     "data": {
      "text/plain": [
       "Text(0.5, 1.0, 'Alpha = 4., Beta = 5.')"
      ]
     },
     "execution_count": 11,
     "metadata": {},
     "output_type": "execute_result"
    },
    {
     "data": {
      "image/png": "[encoded data removed]",
      "text/plain": [
       "<Figure size 432x288 with 1 Axes>"
      ]
     },
     "metadata": {
      "needs_background": "light"
     },
     "output_type": "display_data"
    }
   ],
   "source": [
    "plt.plot(x, numpy.cos(x) + 0.01 * (numpy.sin(4. * x)+ numpy.sin(5. * x)), 'b',label='$x$')\n",
    "plt.title('Alpha = 4., Beta = 5.')"
   ]
  },
  {
   "cell_type": "code",
   "execution_count": 12,
   "metadata": {},
   "outputs": [
    {
     "data": {
      "text/plain": [
       "Text(0.5, 1.0, 'Alpha = 27, Beta = 50')"
      ]
     },
     "execution_count": 12,
     "metadata": {},
     "output_type": "execute_result"
    },
    {
     "data": {
      "image/png": "[encoded data removed]",
      "text/plain": [
       "<Figure size 432x288 with 1 Axes>"
      ]
     },
     "metadata": {
      "needs_background": "light"
     },
     "output_type": "display_data"
    }
   ],
   "source": [
    "plt.plot(x, numpy.cos(x) + 0.01 * (numpy.sin(27 * x)+ numpy.sin(50 * x)), 'g')\n",
    "plt.title('Alpha = 27, Beta = 50')"
   ]
  },
  {
   "cell_type": "markdown",
   "metadata": {
    "deletable": false,
    "editable": false,
    "nbgrader": {
     "cell_type": "markdown",
     "checksum": "7c45d25bd029e111f37fd76880111e74",
     "grade": false,
     "grade_id": "cell-cfeab33ec7437a33",
     "locked": true,
     "schema_version": 3,
     "solution": false,
     "task": false
    }
   },
   "source": [
    "**(b)** [4] Explore the behavior of the following rootfinding routines \n",
    "* bisection\n",
    "* newton\n",
    "* secant\n",
    "* scipy.optimize.brentq\n",
    "\n",
    "for finding a root of this function, given the bracket $x\\in[x_0, x_1]$ with $x_0 = 0.44$, $x_1 = 2.$ for each ($\\alpha, \\beta$) pair\n",
    "\n",
    "`params = [ (0., 0.), (4., 5.),  (27, 50.) ]`\n",
    "\n",
    "For each routine,  report\n",
    "* the root found $x^*$\n",
    "* the value of $f$ at the root $f(x^*$)\n",
    "* the number of iterations."
   ]
  },
  {
   "cell_type": "code",
   "execution_count": 13,
   "metadata": {
    "deletable": false,
    "nbgrader": {
     "cell_type": "code",
     "checksum": "e4da74b90e3a108cde24c50d129d4a41",
     "grade": true,
     "grade_id": "cell-3d03e0785ba74cee",
     "locked": false,
     "points": 4,
     "schema_version": 3,
     "solution": true,
     "task": false
    }
   },
   "outputs": [
    {
     "name": "stdout",
     "output_type": "stream",
     "text": [
      "root at r = 1.5707963347434997, f(r*) = -7.948603047810212e-09, 24 steps\n",
      "root at r = 1.5811989787220955, f(r*) = -2.143797738288211e-09, 27 steps\n",
      "root at r = 1.564195497632027, f(r*) = -1.1252934434963224e-10, 26 steps\n"
     ]
    }
   ],
   "source": [
    "# Bisection for Alpha = 0, Beta = 0 \n",
    "\n",
    "f = lambda x: numpy.cos(x) + 0.01 * (numpy.sin(0. * x)+ numpy.sin(0. * x))\n",
    "x0 = -0.44\n",
    "x1 = 2.\n",
    "\n",
    "r_star, r_array = bisection(f, x0, x1, tol=1e-8)\n",
    "print('root at r = {}, f(r*) = {}, {} steps'.format(r_star,f(r_star),len(r_array)))\n",
    "\n",
    "# Bisection for Alpha = 4., Beta = 5. \n",
    "\n",
    "f = lambda x: numpy.cos(x) + 0.01 * (numpy.sin(4. * x)+ numpy.sin(5. * x))\n",
    "x0 = -0.44\n",
    "x1 = 2.\n",
    "\n",
    "r_star, r_array = bisection(f, x0, x1, tol=1e-8)\n",
    "print('root at r = {}, f(r*) = {}, {} steps'.format(r_star,f(r_star),len(r_array)))\n",
    "\n",
    "# Bisection for Alpha = 4., Beta = 5. \n",
    "\n",
    "f = lambda x: numpy.cos(x) + 0.01 * (numpy.sin(27 * x)+ numpy.sin(50 * x))\n",
    "x0 = -0.44\n",
    "x1 = 2.\n",
    "\n",
    "r_star, r_array = bisection(f, x0, x1, tol=1e-8)\n",
    "print('root at r = {}, f(r*) = {}, {} steps'.format(r_star,f(r_star),len(r_array)))\n",
    "    "
   ]
  },
  {
   "cell_type": "code",
   "execution_count": 14,
   "metadata": {},
   "outputs": [
    {
     "name": "stdout",
     "output_type": "stream",
     "text": [
      "x = 1.570796326795021, f(x) = -1.2428374641806015e-13, steps = 6\n",
      "x = 1.5811989765596106, f(x) = -6.223304857555512e-11, steps = 6\n",
      "x = 1.5641954976506995, f(x) = -1.4092768965690006e-10, steps = 8\n"
     ]
    }
   ],
   "source": [
    "# Newton for Alpha = 0, Beta = 0 \n",
    "\n",
    "f = lambda x: numpy.cos(x) + 0.01 * (numpy.sin(0. * x)+ numpy.sin(0. * x))\n",
    "f_prime = lambda x: -numpy.sin(x) + 0.01 * (0. * numpy.cos(0. * x) + 0. * numpy.cos(0. * x))\n",
    "                                            \n",
    "x0 = 0.44\n",
    "x, x_array = newton(f, f_prime, x0, tol=1.e-8)\n",
    "print('x = {}, f(x) = {}, steps = {}'.format(x, f(x), len(x_array)))\n",
    "\n",
    "# Newton for Alpha = 4., Beta = 5. \n",
    "\n",
    "f = lambda x: numpy.cos(x) + 0.01 * (numpy.sin(4. * x)+ numpy.sin(5. * x))\n",
    "f_prime = lambda x: -numpy.sin(x) + 0.01 * (4. * numpy.cos(4. * x) + 5. * numpy.cos(5. * x))\n",
    "                                            \n",
    "x0 = 0.44\n",
    "x, x_array = newton(f, f_prime, x0, tol=1.e-8)\n",
    "print('x = {}, f(x) = {}, steps = {}'.format(x, f(x), len(x_array)))\n",
    "\n",
    "# Newton for Alpha = 27, Beta = 50. \n",
    "\n",
    "f = lambda x: numpy.cos(x) + 0.01 * (numpy.sin(27 * x)+ numpy.sin(50 * x))\n",
    "f_prime = lambda x: -numpy.sin(x) + 0.01 * (27 * numpy.cos(27 * x) + 50 * numpy.cos(50 * x))\n",
    "                                            \n",
    "x0 = 0.44\n",
    "x, x_array = newton(f, f_prime, x0, tol=1.e-8)\n",
    "print('x = {}, f(x) = {}, steps = {}'.format(x, f(x), len(x_array)))\n",
    "\n"
   ]
  },
  {
   "cell_type": "code",
   "execution_count": 15,
   "metadata": {},
   "outputs": [
    {
     "name": "stdout",
     "output_type": "stream",
     "text": [
      "x = 1.5707963268286453, f(x) = -3.3748720314820473e-11, steps = 6\n",
      "x = 1.5707963267948966, f(x) = 5.633375276077825e-17, steps = 6\n",
      "x = 1.5641954980050823, f(x) = -6.798937281227158e-10, steps = 7\n"
     ]
    }
   ],
   "source": [
    "# Secant for Alpha = 0, Beta = 0 \n",
    "\n",
    "f = lambda x: numpy.cos(x) + 0.01 * (numpy.sin(0. * x)+ numpy.sin(0. * x))\n",
    "x0 = -0.44\n",
    "x1 = 2.\n",
    "\n",
    "x, x_array = secant(f, x0, x1, tol= 1.e-8)\n",
    "print('x = {}, f(x) = {}, steps = {}'.format(x, f(x), len(x_array)))\n",
    "\n",
    "# Secant for Alpha = 4., Beta = 5. \n",
    "\n",
    "f = lambda x: numpy.cos(x) + 0.01 * (numpy.sin(4. * x)+ numpy.sin(4. * x))\n",
    "x0 = -0.44\n",
    "x1 = 2.\n",
    "\n",
    "x, x_array = secant(f, x0, x1, tol= 1.e-8)\n",
    "print('x = {}, f(x) = {}, steps = {}'.format(x, f(x), len(x_array)))\n",
    "\n",
    "# Secant for Alpha = 27, Beta = 50 \n",
    "\n",
    "f = lambda x: numpy.cos(x) + 0.01 * (numpy.sin(27 * x)+ numpy.sin(50 * x))\n",
    "x0 = -0.44\n",
    "x1 = 2.\n",
    "\n",
    "x, x_array = secant(f, x0, x1, tol= 1.e-8)\n",
    "print('x = {}, f(x) = {}, steps = {}'.format(x, f(x), len(x_array)))\n",
    "\n"
   ]
  },
  {
   "cell_type": "code",
   "execution_count": 16,
   "metadata": {},
   "outputs": [
    {
     "name": "stdout",
     "output_type": "stream",
     "text": [
      "x = 1.5707963267948966, f(x) = 6.123233995736766e-17, steps = 7\n",
      "x = 1.5811989764949583, f(x) = -5.377642775528102e-17, steps = 8\n",
      "x = 1.564195497558036, f(x) = 2.0383000842727483e-16, steps = 8\n"
     ]
    }
   ],
   "source": [
    "from scipy import optimize\n",
    "\n",
    "# scipy.optimize.brentq Alpha = 0, Beta = 0 \n",
    "\n",
    "f = lambda x: numpy.cos(x) + 0.01 * (numpy.sin(0. * x)+ numpy.sin(0. * x))\n",
    "x0 = -0.44\n",
    "x1 = 2.\n",
    "\n",
    "x, res = optimize.brentq(f, x0, x1, full_output=True)\n",
    "print('x = {}, f(x) = {}, steps = {}'.format(x, numpy.cos(x) + 0.01 * (numpy.sin(0. * x)+ numpy.sin(0. * x)),  \n",
    "                                             res.iterations))\n",
    "                                            \n",
    "\n",
    "# scipy.optimize.brentq Alpha = 4., Beta = 5. \n",
    "\n",
    "f = lambda x: numpy.cos(x) + 0.01 * (numpy.sin(4. * x)+ numpy.sin(5. * x))\n",
    "x0 = -0.44\n",
    "x1 = 2.\n",
    "\n",
    "x, res = optimize.brentq(f, x0, x1, full_output=True)\n",
    "print('x = {}, f(x) = {}, steps = {}'.format(x, numpy.cos(x) + 0.01 * (numpy.sin(4. * x)+ numpy.sin(5. * x)),  \n",
    "                                             res.iterations))\n",
    "\n",
    "# scipy.optimize.brentq Alpha = 27, Beta = 50 \n",
    "\n",
    "f = lambda x: numpy.cos(x) + 0.01 * (numpy.sin(27 * x)+ numpy.sin(50 * x))\n",
    "x0 = -0.44\n",
    "x1 = 2.\n",
    "\n",
    "x, res = optimize.brentq(f, x0, x1, full_output=True)\n",
    "print('x = {}, f(x) = {}, steps = {}'.format(x, numpy.cos(x) + 0.01 * (numpy.sin(27 * x)+ numpy.sin(50 * x)),  \n",
    "                                             res.iterations))\n"
   ]
  },
  {
   "cell_type": "markdown",
   "metadata": {
    "deletable": false,
    "editable": false,
    "nbgrader": {
     "cell_type": "markdown",
     "checksum": "b036b05cb2f912a1eb1d17b1c17fa9a9",
     "grade": false,
     "grade_id": "cell-d6c0204318b16a38",
     "locked": true,
     "schema_version": 3,
     "solution": false,
     "task": false
    }
   },
   "source": [
    "**(c)** [4] Make a convergence plot showing the relative error at each step for Newton's method for the same three parameter pairs and initial guess $x_0 = 0.44$."
   ]
  },
  {
   "cell_type": "code",
   "execution_count": 17,
   "metadata": {},
   "outputs": [
    {
     "data": {
      "image/png": "[encoded data removed]",
      "text/plain": [
       "<Figure size 1152x432 with 1 Axes>"
      ]
     },
     "metadata": {
      "needs_background": "light"
     },
     "output_type": "display_data"
    }
   ],
   "source": [
    "f = lambda r: numpy.cos(r) + 0.01 * (numpy.sin(0. * r)+ numpy.sin(0. * r))\n",
    "f_prime = lambda r: -numpy.sin(r) + 0.01 * (0. * numpy.cos(0. * r) + 0. * numpy.cos(0. * r))\n",
    "\n",
    "g = lambda r: numpy.cos(r) + 0.01 * (numpy.sin(4. * r)+ numpy.sin(5. * r))\n",
    "g_prime = lambda r: -numpy.sin(r) + 0.01 * (4. * numpy.cos(4. * r) + 5. * numpy.cos(5. * r))\n",
    "\n",
    "h = lambda r: numpy.cos(r) + 0.01 * (numpy.sin(27 * r)+ numpy.sin(50 * r))\n",
    "h_prime = lambda r: -numpy.sin(r) + 0.01 * (27 * numpy.cos(27 * r) + 50 * numpy.cos(50 * r))\n",
    "                                            \n",
    "x0 = 0.44\n",
    "x, x_array = newton(f, f_prime, x0, tol=1.e-8)\n",
    "\n",
    "y0 = 0.44\n",
    "y, y_array = newton(g, g_prime, y0, tol=1.e-8)\n",
    "\n",
    "z0 = 0.44\n",
    "z, z_array = newton(h, h_prime, z0, tol=1.e-8)\n",
    "\n",
    "r = numpy.linspace(0.05, 0.10, 100)\n",
    "\n",
    "# Setup figure to plot convergence\n",
    "fig = plt.figure(figsize=(16,6))\n",
    "\n",
    "axes = fig.add_subplot(1, 2, 2)\n",
    "axes.semilogy(numpy.arange(len(x_array)), numpy.abs(f(x_array)), 'o-', label= r'$Alpha = 0, Beta = 0$')\n",
    "axes.semilogy(numpy.arange(len(y_array)), numpy.abs(g(y_array)), 'o-', label= r'$Alpha = 4., Beta = 5.$')\n",
    "axes.semilogy(numpy.arange(len(z_array)), numpy.abs(h(z_array)), 'o-', label= r'$Alpha = 27, Beta = 50$')\n",
    "axes.grid()\n",
    "axes.set_xlabel('Iterations', fontsize=16)\n",
    "axes.set_ylabel('Residual $|f(r)|$', fontsize=16)\n",
    "axes.set_title('Convergence: Overlapped', fontsize=18)\n",
    "plt.legend()\n",
    "\n",
    "plt.show()\n",
    "                                            \n",
    "\n"
   ]
  },
  {
   "cell_type": "code",
   "execution_count": 18,
   "metadata": {
    "deletable": false,
    "nbgrader": {
     "cell_type": "code",
     "checksum": "712e8203de014a4d1bff6c5d3589f974",
     "grade": true,
     "grade_id": "cell-03e97ced4d02bc89",
     "locked": false,
     "points": 4,
     "schema_version": 3,
     "solution": true,
     "task": false
    }
   },
   "outputs": [
    {
     "data": {
      "image/png": "[encoded data removed]",
      "text/plain": [
       "<Figure size 1152x432 with 1 Axes>"
      ]
     },
     "metadata": {
      "needs_background": "light"
     },
     "output_type": "display_data"
    }
   ],
   "source": [
    "f = lambda r: numpy.cos(r) + 0.01 * (numpy.sin(0. * r)+ numpy.sin(0. * r))\n",
    "f_prime = lambda r: -numpy.sin(r) + 0.01 * (0. * numpy.cos(0. * r) + 0. * numpy.cos(0. * r))\n",
    "                                            \n",
    "x0 = 0.44\n",
    "x, x_array = newton(f, f_prime, x0, tol=1.e-8)\n",
    "\n",
    "r = numpy.linspace(0.05, 0.10, 100)\n",
    "\n",
    "# Setup figure to plot convergence\n",
    "fig = plt.figure(figsize=(16,6))\n",
    "\n",
    "axes = fig.add_subplot(1, 2, 2)\n",
    "axes.semilogy(numpy.arange(len(x_array)), numpy.abs(f(x_array)), 'o-')\n",
    "axes.grid()\n",
    "axes.set_xlabel('Iterations', fontsize=16)\n",
    "axes.set_ylabel('Residual $|f(r)|$', fontsize=16)\n",
    "axes.set_title('Convergence: Overlapped', fontsize=18)\n",
    "\n",
    "plt.show()"
   ]
  },
  {
   "cell_type": "code",
   "execution_count": 19,
   "metadata": {},
   "outputs": [
    {
     "data": {
      "image/png": "[encoded data removed]",
      "text/plain": [
       "<Figure size 1152x432 with 1 Axes>"
      ]
     },
     "metadata": {
      "needs_background": "light"
     },
     "output_type": "display_data"
    }
   ],
   "source": [
    "f = lambda r: numpy.cos(r) + 0.01 * (numpy.sin(4. * r)+ numpy.sin(5. * r))\n",
    "f_prime = lambda r: -numpy.sin(r) + 0.01 * (4. * numpy.cos(4. * r) + 5. * numpy.cos(5. * r))\n",
    "                                            \n",
    "x0 = 0.44\n",
    "x, x_array = newton(f, f_prime, x0, tol=1.e-8)\n",
    "\n",
    "r = numpy.linspace(0.05, 0.10, 100)\n",
    "\n",
    "# Setup figure to plot convergence\n",
    "fig = plt.figure(figsize=(16,6))\n",
    "\n",
    "axes = fig.add_subplot(1, 2, 2)\n",
    "axes.semilogy(numpy.arange(len(x_array)), numpy.abs(f(x_array)), 'o-')\n",
    "axes.grid()\n",
    "axes.set_xlabel('Iterations', fontsize=16)\n",
    "axes.set_ylabel('Residual $|f(r)|$', fontsize=16)\n",
    "axes.set_title('Convergence: Alpha = 4., Beta = 5.', fontsize=18)\n",
    "\n",
    "plt.show()"
   ]
  },
  {
   "cell_type": "code",
   "execution_count": 20,
   "metadata": {},
   "outputs": [
    {
     "data": {
      "image/png": "[encoded data removed]",
      "text/plain": [
       "<Figure size 1152x432 with 1 Axes>"
      ]
     },
     "metadata": {
      "needs_background": "light"
     },
     "output_type": "display_data"
    }
   ],
   "source": [
    "f = lambda r: numpy.cos(r) + 0.01 * (numpy.sin(27 * r)+ numpy.sin(50 * r))\n",
    "f_prime = lambda r: -numpy.sin(r) + 0.01 * (27 * numpy.cos(27 * r) + 50 * numpy.cos(50 * r))\n",
    "                                            \n",
    "x0 = 0.44\n",
    "x, x_array = newton(f, f_prime, x0, tol=1.e-8)\n",
    "\n",
    "r = numpy.linspace(0.05, 0.10, 100)\n",
    "\n",
    "# Setup figure to plot convergence\n",
    "fig = plt.figure(figsize=(16,6))\n",
    "\n",
    "axes = fig.add_subplot(1, 2, 2)\n",
    "axes.semilogy(numpy.arange(len(x_array)), numpy.abs(f(x_array)), 'o-')\n",
    "axes.grid()\n",
    "axes.set_xlabel('Iterations', fontsize=16)\n",
    "axes.set_ylabel('Residual $|f(r)|$', fontsize=16)\n",
    "axes.set_title('Convergence: Alpha = 27, Beta = 50', fontsize=18)\n",
    "\n",
    "plt.show()"
   ]
  },
  {
   "cell_type": "markdown",
   "metadata": {
    "deletable": false,
    "editable": false,
    "nbgrader": {
     "cell_type": "markdown",
     "checksum": "70fefc052f23433ee74c5a6a595fba1d",
     "grade": false,
     "grade_id": "cell-688d9772c0ee0353",
     "locked": true,
     "schema_version": 3,
     "solution": false,
     "task": false
    }
   },
   "source": [
    "**(d)** [4] Briefly explain your results so far.  Feel free to play with other initial parameters or to make additional plots.  "
   ]
  },
  {
   "cell_type": "markdown",
   "metadata": {
    "deletable": false,
    "nbgrader": {
     "cell_type": "markdown",
     "checksum": "2fd45f3d0ef415e1263944f18cb82175",
     "grade": true,
     "grade_id": "cell-0d30efbc8418cd82",
     "locked": false,
     "points": 4,
     "schema_version": 3,
     "solution": true,
     "task": false
    }
   },
   "source": [
    "It seems like the noise for Alpha = 27 and Beta = 50 creates a couple of iterations that actually increase the error as opposed to the error exponentially decreasing for all iterations. In particular, between the second and third iteration, we get a slight increase in error back to the same level as it was for the first iteration. This is probably when the one of the points actually increases in value despite the overall decreasing movement of the graph (due to the noise). "
   ]
  },
  {
   "cell_type": "markdown",
   "metadata": {
    "deletable": false,
    "editable": false,
    "nbgrader": {
     "cell_type": "markdown",
     "checksum": "9b3a3baccc553835c7d1de54b71de58d",
     "grade": false,
     "grade_id": "cell-6a13f75d54677dab",
     "locked": true,
     "schema_version": 3,
     "solution": false,
     "task": false
    }
   },
   "source": [
    "**(e)** [6] *Basins of Attraction* For the noisiest model $(\\alpha=27, \\beta=50)$, make a plot of the final root $x^*$ that Newton finds as a function of initial guess $x_0\\in [0.4, 2.]$ (hint plt.ylim is your friend).  Can you estimate the width of the smooth basin of attraction near the root $x^*\\approx\\pi/2$?"
   ]
  },
  {
   "cell_type": "code",
   "execution_count": 21,
   "metadata": {
    "deletable": false,
    "nbgrader": {
     "cell_type": "code",
     "checksum": "a6e26448c928f4a4d77389f6736c413f",
     "grade": true,
     "grade_id": "cell-342803285585956c",
     "locked": false,
     "points": 4,
     "schema_version": 3,
     "solution": true,
     "task": false
    }
   },
   "outputs": [
    {
     "data": {
      "image/png": "[encoded data removed]",
      "text/plain": [
       "<Figure size 576x432 with 2 Axes>"
      ]
     },
     "metadata": {
      "needs_background": "light"
     },
     "output_type": "display_data"
    }
   ],
   "source": [
    "x = numpy.linspace(-2 * numpy.pi, 2 * numpy.pi , 1000)\n",
    "f = lambda x: numpy.cos(x) + 0.01 * (numpy.sin(27 * x)+ numpy.sin(50 * x))\n",
    "f_prime = lambda x: -numpy.sin(x) + 0.01 * (27 * numpy.cos(27 * x) + 50 * numpy.cos(50 * x))\n",
    "xk = lambda x: x - f(x)/f_prime(x)\n",
    "\n",
    "x_root = numpy.zeros(x.shape)\n",
    "N_steps = numpy.zeros(x.shape)\n",
    "for i,xk in enumerate(x):\n",
    "    x_root[i], x_root_array = newton(f, f_prime, xk)\n",
    "    N_steps[i] = len(x_root_array)\n",
    "\n",
    "y = numpy.linspace(-2,2)\n",
    "X,Y = numpy.meshgrid(x,y)\n",
    "X_root = numpy.outer(numpy.ones(y.shape),x_root)\n",
    "\n",
    "plt.figure(figsize=(8, 6))\n",
    "plt.pcolor(X, Y, X_root,vmin=-5, vmax=5,cmap='seismic')\n",
    "cbar = plt.colorbar()\n",
    "cbar.set_label('$x_{root}$', fontsize=18)\n",
    "plt.plot(x, f(x), 'k-')\n",
    "plt.plot(x, numpy.zeros(x.shape),'k--', linewidth=0.5)\n",
    "plt.xlabel('x', fontsize=16)\n",
    "plt.title('Basins of Attraction: Alpha = 27, Beta = 50', fontsize=18)\n",
    "#plt.xlim(-2 * numpy.pi, 2 * numpy.pi)\n",
    "plt.ylim(-1,1)\n",
    "plt.show()"
   ]
  },
  {
   "cell_type": "code",
   "execution_count": 22,
   "metadata": {},
   "outputs": [
    {
     "data": {
      "image/png": "[encoded data removed]",
      "text/plain": [
       "<Figure size 576x432 with 2 Axes>"
      ]
     },
     "metadata": {
      "needs_background": "light"
     },
     "output_type": "display_data"
    }
   ],
   "source": [
    "# this for me to zoom in to try to find the basin of attraction \n",
    "\n",
    "x = numpy.linspace(-2 * numpy.pi, 2 * numpy.pi , 1000)\n",
    "f = lambda x: numpy.cos(x) + 0.01 * (numpy.sin(27 * x)+ numpy.sin(50 * x))\n",
    "f_prime = lambda x: -numpy.sin(x) + 0.01 * (27 * numpy.cos(27 * x) + 50 * numpy.cos(50 * x))\n",
    "xk = lambda x: x - f(x)/f_prime(x)\n",
    "\n",
    "x_root = numpy.zeros(x.shape)\n",
    "N_steps = numpy.zeros(x.shape)\n",
    "for i,xk in enumerate(x):\n",
    "    x_root[i], x_root_array = newton(f, f_prime, xk)\n",
    "    N_steps[i] = len(x_root_array)\n",
    "\n",
    "y = numpy.linspace(-2,2)\n",
    "X,Y = numpy.meshgrid(x,y)\n",
    "X_root = numpy.outer(numpy.ones(y.shape),x_root)\n",
    "\n",
    "plt.figure(figsize=(8, 6))\n",
    "plt.pcolor(X, Y, X_root,vmin=-5, vmax=5,cmap='seismic')\n",
    "cbar = plt.colorbar()\n",
    "cbar.set_label('$x_{root}$', fontsize=18)\n",
    "plt.plot(x, f(x), 'k-')\n",
    "plt.plot(x, numpy.zeros(x.shape),'k--', linewidth=0.5)\n",
    "plt.xlabel('x', fontsize=16)\n",
    "plt.title('Basins of Attraction: Alpha = 27, Beta = 50', fontsize=18)\n",
    "plt.xlim(1.4275, 2.13)\n",
    "plt.ylim(-1,1)\n",
    "plt.show()"
   ]
  },
  {
   "cell_type": "markdown",
   "metadata": {
    "deletable": false,
    "nbgrader": {
     "cell_type": "markdown",
     "checksum": "25542023eb0abaf0d7a822960bc8d01d",
     "grade": true,
     "grade_id": "cell-8c851327617cd6d4",
     "locked": false,
     "points": 2,
     "schema_version": 3,
     "solution": true,
     "task": false
    }
   },
   "source": [
    "Basin of attraction is between 1.4275 and 2.13 for the root at $\\pi/2$"
   ]
  },
  {
   "cell_type": "markdown",
   "metadata": {
    "deletable": false,
    "editable": false,
    "nbgrader": {
     "cell_type": "markdown",
     "checksum": "a8e0f8b89f1e80776e10fe87d31604f7",
     "grade": false,
     "grade_id": "cell-b46861a6140bb51d",
     "locked": true,
     "schema_version": 3,
     "solution": false,
     "task": false
    }
   },
   "source": [
    "**(e)** [6] Write a controlled Newton routine `NewtSafe`,  that finds a root with an initial bracket by combining newton steps with a bisection routine.  The basic algorithm is to first try Newton from the midpoint of the bracket.  If Newton predicts a solution outside of the bracket, ignore it and take a bisection step instead.  You can use and modify any of the rootfinding routines I presented in class, but write a decent docstring and raise appropriate exceptions as necessary. \n",
    "\n",
    "The routine should return the best estimate of the root and number of Newton Steps and the number of bisection steps\n",
    "\n",
    "x, N_newt, N_bisection = newtsafe(f, f_prime, a, b)"
   ]
  },
  {
   "cell_type": "code",
   "execution_count": 23,
   "metadata": {
    "deletable": false,
    "nbgrader": {
     "cell_type": "code",
     "checksum": "0e9201068ce8be5e660e87c3ce4a3e21",
     "grade": false,
     "grade_id": "cell-a20f6d1abec7c19d",
     "locked": false,
     "schema_version": 3,
     "solution": true,
     "task": false
    }
   },
   "outputs": [],
   "source": [
    "def newtsafe(f, f_prime, a, b, tol = 1.e-6, max_steps=1000):\n",
    "    \"\"\" Please improve this docstring\n",
    "        \n",
    "    \n",
    "    Parameters:\n",
    "    -----------\n",
    "    \n",
    "    f: function (float)\n",
    "        function giving f(x)\n",
    "    f_prime:  function (float)\n",
    "        function giving derivative of f with respect to x\n",
    "    a: float\n",
    "        left bracket a < x\n",
    "    b: float\n",
    "        right bracket x < b\n",
    "        \n",
    "        Note:  the signs of f(a) and f(b) must be different to insure a bracket\n",
    "    tol: float\n",
    "        tolerance.  Returns when |f((a+b)/2)| < tol\n",
    "    max_steps: int\n",
    "        maximum number of iteration steps\n",
    "        \n",
    "    Returns:\n",
    "    --------\n",
    "    x: float\n",
    "        midpoint of final bracket\n",
    "    n_newt:  number of newton steps for successful newton iteration\n",
    "    n_bisection: number of bisection steps\n",
    "        \n",
    "    Raises:\n",
    "    -------\n",
    "    ValueError:  \n",
    "        if initial bracket is invalid \n",
    "    Warning: \n",
    "        if number of iterations exceed MAX_STEPS\n",
    "    Prints warning if Newton exceeds the bracket\n",
    "    \n",
    "    \"\"\"\n",
    "    \n",
    "    max_itr = 200\n",
    "    tol = 1.e-6\n",
    "    \n",
    "    if (numpy.sign(a) == numpy.sign(b)):\n",
    "        raise ValueError('a and b need to be of opposite signs') \n",
    "    \n",
    "    h = b - a\n",
    "    fa = f(a)\n",
    "    fb = f(b)\n",
    "    \n",
    "    c = a + h / 2. \n",
    "    fc = f(c)\n",
    "    c_prime = f_prime(c)\n",
    "    xN = [c]\n",
    "    \n",
    "    n_newt = 0\n",
    "    n_bisection = 0\n",
    "    \n",
    "    \n",
    "    for i in range(max_itr):\n",
    "        \n",
    "        # first try newton\n",
    "        while(c < a and c > b):\n",
    "            c = x0\n",
    "            xN = [x0]\n",
    "            c = c  - f(c) / f_prime(c)\n",
    "            xN.append(c)\n",
    "            n_newt += 1           \n",
    "        \n",
    "        if numpy.abs(fc) < tol:\n",
    "            break\n",
    "\n",
    "        if numpy.sign(fa) != numpy.sign(fc):\n",
    "            b = c\n",
    "            fb = fc\n",
    "        else:\n",
    "            a = c\n",
    "            fa = fc\n",
    "        \n",
    "        print('Newton exceeds bracket')\n",
    "        \n",
    "        h = b - a\n",
    "        c = a + h / 2.0\n",
    "        fc = f(c)\n",
    "        xN.append(c)\n",
    "        n_bisection += 0 \n",
    "             \n",
    "    if i == max_itr:\n",
    "        warnings.warn('Maximum number of steps reached')\n",
    "        \n",
    "    return c, n_newt, n_bisection\n",
    "    \n",
    "            \n",
    "            \n",
    "            "
   ]
  },
  {
   "cell_type": "code",
   "execution_count": 24,
   "metadata": {},
   "outputs": [
    {
     "name": "stdout",
     "output_type": "stream",
     "text": [
      "Newton exceeds bracket\n",
      "Newton exceeds bracket\n",
      "Newton exceeds bracket\n",
      "Newton exceeds bracket\n",
      "Newton exceeds bracket\n",
      "Newton exceeds bracket\n",
      "Newton exceeds bracket\n",
      "Newton exceeds bracket\n",
      "Newton exceeds bracket\n",
      "Newton exceeds bracket\n",
      "Newton exceeds bracket\n",
      "Newton exceeds bracket\n",
      "Newton exceeds bracket\n",
      "Newton exceeds bracket\n",
      "Newton exceeds bracket\n",
      "Newton exceeds bracket\n",
      "Newton exceeds bracket\n",
      "Newton exceeds bracket\n",
      "Newton exceeds bracket\n",
      "Newton exceeds bracket\n",
      "Newton exceeds bracket\n",
      "Bracket  = [-0.68309670780092, 2.642524050776319]\n",
      "Newton   = 12.052997501142706,    N   = 200\n",
      "NewtSafe = 1.2719482632979389,    N_n = 0, N_b = 0\n",
      "brentq   = 1.2719484732512498,    N   = 9\n",
      "\n",
      "Newton exceeds bracket\n",
      "Newton exceeds bracket\n",
      "Newton exceeds bracket\n",
      "Newton exceeds bracket\n",
      "Newton exceeds bracket\n",
      "Newton exceeds bracket\n",
      "Newton exceeds bracket\n",
      "Newton exceeds bracket\n",
      "Newton exceeds bracket\n",
      "Newton exceeds bracket\n",
      "Newton exceeds bracket\n",
      "Newton exceeds bracket\n",
      "Newton exceeds bracket\n",
      "Newton exceeds bracket\n",
      "Newton exceeds bracket\n",
      "Newton exceeds bracket\n",
      "Newton exceeds bracket\n",
      "Newton exceeds bracket\n",
      "Newton exceeds bracket\n",
      "Newton exceeds bracket\n",
      "Bracket  = [-0.7104536143852529, 3.8152626763086603]\n",
      "Newton   = 1.088499606524573,    N   = 6\n",
      "NewtSafe = 1.0884993615406993,    N_n = 0, N_b = 0\n",
      "brentq   = 1.088499013515958,    N   = 13\n",
      "\n",
      "Newton exceeds bracket\n",
      "Newton exceeds bracket\n",
      "Newton exceeds bracket\n",
      "Newton exceeds bracket\n",
      "Newton exceeds bracket\n",
      "Newton exceeds bracket\n",
      "Newton exceeds bracket\n",
      "Newton exceeds bracket\n",
      "Newton exceeds bracket\n",
      "Newton exceeds bracket\n",
      "Newton exceeds bracket\n",
      "Newton exceeds bracket\n",
      "Newton exceeds bracket\n",
      "Newton exceeds bracket\n",
      "Newton exceeds bracket\n",
      "Newton exceeds bracket\n",
      "Newton exceeds bracket\n",
      "Newton exceeds bracket\n",
      "Newton exceeds bracket\n",
      "Newton exceeds bracket\n",
      "Bracket  = [-0.5236057894835726, 3.9067882124238986]\n",
      "Newton   = 1.1106145034417199,    N   = 10\n",
      "NewtSafe = 1.1106136647446174,    N_n = 0, N_b = 0\n",
      "brentq   = 1.1106142646873127,    N   = 11\n",
      "\n",
      "Newton exceeds bracket\n",
      "Newton exceeds bracket\n",
      "Newton exceeds bracket\n",
      "Newton exceeds bracket\n",
      "Newton exceeds bracket\n",
      "Newton exceeds bracket\n",
      "Newton exceeds bracket\n",
      "Newton exceeds bracket\n",
      "Newton exceeds bracket\n",
      "Newton exceeds bracket\n",
      "Newton exceeds bracket\n",
      "Newton exceeds bracket\n",
      "Newton exceeds bracket\n",
      "Newton exceeds bracket\n",
      "Newton exceeds bracket\n",
      "Newton exceeds bracket\n",
      "Newton exceeds bracket\n",
      "Newton exceeds bracket\n",
      "Newton exceeds bracket\n",
      "Newton exceeds bracket\n",
      "Newton exceeds bracket\n",
      "Bracket  = [-0.5275356434135271, 2.4988039593212776]\n",
      "Newton   = 8.943400174973013,    N   = 200\n",
      "NewtSafe = 1.3248590638854791,    N_n = 0, N_b = 0\n",
      "brentq   = 1.3248590968150393,    N   = 9\n",
      "\n",
      "Newton exceeds bracket\n",
      "Newton exceeds bracket\n",
      "Newton exceeds bracket\n",
      "Newton exceeds bracket\n",
      "Newton exceeds bracket\n",
      "Newton exceeds bracket\n",
      "Newton exceeds bracket\n",
      "Newton exceeds bracket\n",
      "Newton exceeds bracket\n",
      "Newton exceeds bracket\n",
      "Newton exceeds bracket\n",
      "Newton exceeds bracket\n",
      "Newton exceeds bracket\n",
      "Newton exceeds bracket\n",
      "Newton exceeds bracket\n",
      "Newton exceeds bracket\n",
      "Newton exceeds bracket\n",
      "Newton exceeds bracket\n",
      "Newton exceeds bracket\n",
      "Bracket  = [-0.3534683303763972, 3.9130408021252014]\n",
      "Newton   = 14.145648952501228,    N   = 64\n",
      "NewtSafe = 1.1473185405760344,    N_n = 0, N_b = 0\n",
      "brentq   = 1.1473182519138232,    N   = 9\n",
      "\n",
      "a and b need to be of opposite signs\n",
      "success!\n"
     ]
    },
    {
     "name": "stderr",
     "output_type": "stream",
     "text": [
      "/opt/conda/lib/python3.7/site-packages/ipykernel_launcher.py:40: UserWarning: Maximum number of steps exceeded\n"
     ]
    }
   ],
   "source": [
    "# copy and paste of the built in tester due to an issue where optimize.brentq was not called \n",
    "\n",
    "a = 27\n",
    "b = 50\n",
    "A = 0.3\n",
    "f = lambda x: numpy.cos(x) + A*(numpy.sin(a * x) + numpy.sin(b * x))\n",
    "f_prime = lambda x: -numpy.sin(x) + A*(a*numpy.sin(a * x) + b*numpy.sin(b * x))\n",
    "\n",
    "pi = numpy.pi\n",
    "\n",
    "brackets = [ \n",
    "            (-0.68309670780092, 2.642524050776319),\n",
    "            (-0.7104536143852529, 3.8152626763086603),\n",
    "            (-0.5236057894835726, 3.9067882124238986),\n",
    "            (-0.5275356434135271, 2.4988039593212776),\n",
    "            (-0.3534683303763972, 3.9130408021252014)\n",
    "           ]\n",
    "\n",
    "for bracket in brackets:\n",
    "    #a = numpy.random.uniform(low=-pi/4, high=pi/4)\n",
    "    #b = numpy.random.uniform(low=3*pi/4, high=5*pi/4)\n",
    "    a = bracket[0]\n",
    "    b = bracket[1]\n",
    "    x_n, x_array = newton(f, f_prime, (a + b)/2.)\n",
    "    x_ns, N_n, N_b = newtsafe(f, f_prime, a, b)\n",
    "    x_b, res = optimize.brentq(f, a, b, full_output=True)\n",
    "    print('Bracket  = [{}, {}]'.format(a, b))\n",
    "    print('Newton   = {},    N   = {}'.format(x_n, len(x_array)-1))\n",
    "    print('NewtSafe = {},    N_n = {}, N_b = {}'.format(x_ns, N_n, N_b))\n",
    "    print('brentq   = {},    N   = {}'.format(x_b, res.iterations))\n",
    "    print()\n",
    "    numpy.testing.assert_almost_equal(x_ns, x_b,decimal=6)\n",
    "    \n",
    "try:\n",
    "    x_ns, N_n, N_b = newtsafe(f, f_prime, 1.6, 2.0)\n",
    "except ValueError as err:\n",
    "    print(err)\n",
    "    pass\n",
    "\n",
    "print('success!')"
   ]
  },
  {
   "cell_type": "code",
   "execution_count": 25,
   "metadata": {
    "deletable": false,
    "editable": false,
    "nbgrader": {
     "cell_type": "code",
     "checksum": "300a3aa574777a0f0ef515829141c6dc",
     "grade": true,
     "grade_id": "cell-7cdbdbda9ca86f82",
     "locked": true,
     "points": 6,
     "schema_version": 3,
     "solution": false,
     "task": false
    }
   },
   "outputs": [
    {
     "name": "stdout",
     "output_type": "stream",
     "text": [
      "Newton exceeds bracket\n",
      "Newton exceeds bracket\n",
      "Newton exceeds bracket\n",
      "Newton exceeds bracket\n",
      "Newton exceeds bracket\n",
      "Newton exceeds bracket\n",
      "Newton exceeds bracket\n",
      "Newton exceeds bracket\n",
      "Newton exceeds bracket\n",
      "Newton exceeds bracket\n",
      "Newton exceeds bracket\n",
      "Newton exceeds bracket\n",
      "Newton exceeds bracket\n",
      "Newton exceeds bracket\n",
      "Newton exceeds bracket\n",
      "Newton exceeds bracket\n",
      "Newton exceeds bracket\n",
      "Newton exceeds bracket\n",
      "Newton exceeds bracket\n",
      "Newton exceeds bracket\n",
      "Newton exceeds bracket\n"
     ]
    },
    {
     "name": "stderr",
     "output_type": "stream",
     "text": [
      "/opt/conda/lib/python3.7/site-packages/ipykernel_launcher.py:40: UserWarning: Maximum number of steps exceeded\n"
     ]
    },
    {
     "ename": "NameError",
     "evalue": "name 'brentq' is not defined",
     "output_type": "error",
     "traceback": [
      "\u001b[0;31m---------------------------------------------------------------------------\u001b[0m",
      "\u001b[0;31mNameError\u001b[0m                                 Traceback (most recent call last)",
      "\u001b[0;32m<ipython-input-25-3f3f1bc85ab2>\u001b[0m in \u001b[0;36m<module>\u001b[0;34m\u001b[0m\n\u001b[1;32m     22\u001b[0m     \u001b[0mx_n\u001b[0m\u001b[0;34m,\u001b[0m \u001b[0mx_array\u001b[0m \u001b[0;34m=\u001b[0m \u001b[0mnewton\u001b[0m\u001b[0;34m(\u001b[0m\u001b[0mf\u001b[0m\u001b[0;34m,\u001b[0m \u001b[0mf_prime\u001b[0m\u001b[0;34m,\u001b[0m \u001b[0;34m(\u001b[0m\u001b[0ma\u001b[0m \u001b[0;34m+\u001b[0m \u001b[0mb\u001b[0m\u001b[0;34m)\u001b[0m\u001b[0;34m/\u001b[0m\u001b[0;36m2.\u001b[0m\u001b[0;34m)\u001b[0m\u001b[0;34m\u001b[0m\u001b[0;34m\u001b[0m\u001b[0m\n\u001b[1;32m     23\u001b[0m     \u001b[0mx_ns\u001b[0m\u001b[0;34m,\u001b[0m \u001b[0mN_n\u001b[0m\u001b[0;34m,\u001b[0m \u001b[0mN_b\u001b[0m \u001b[0;34m=\u001b[0m \u001b[0mnewtsafe\u001b[0m\u001b[0;34m(\u001b[0m\u001b[0mf\u001b[0m\u001b[0;34m,\u001b[0m \u001b[0mf_prime\u001b[0m\u001b[0;34m,\u001b[0m \u001b[0ma\u001b[0m\u001b[0;34m,\u001b[0m \u001b[0mb\u001b[0m\u001b[0;34m)\u001b[0m\u001b[0;34m\u001b[0m\u001b[0;34m\u001b[0m\u001b[0m\n\u001b[0;32m---> 24\u001b[0;31m     \u001b[0mx_b\u001b[0m\u001b[0;34m,\u001b[0m \u001b[0mres\u001b[0m \u001b[0;34m=\u001b[0m \u001b[0mbrentq\u001b[0m\u001b[0;34m(\u001b[0m\u001b[0mf\u001b[0m\u001b[0;34m,\u001b[0m \u001b[0ma\u001b[0m\u001b[0;34m,\u001b[0m \u001b[0mb\u001b[0m\u001b[0;34m,\u001b[0m \u001b[0mfull_output\u001b[0m\u001b[0;34m=\u001b[0m\u001b[0;32mTrue\u001b[0m\u001b[0;34m)\u001b[0m\u001b[0;34m\u001b[0m\u001b[0;34m\u001b[0m\u001b[0m\n\u001b[0m\u001b[1;32m     25\u001b[0m     \u001b[0mprint\u001b[0m\u001b[0;34m(\u001b[0m\u001b[0;34m'Bracket  = [{}, {}]'\u001b[0m\u001b[0;34m.\u001b[0m\u001b[0mformat\u001b[0m\u001b[0;34m(\u001b[0m\u001b[0ma\u001b[0m\u001b[0;34m,\u001b[0m \u001b[0mb\u001b[0m\u001b[0;34m)\u001b[0m\u001b[0;34m)\u001b[0m\u001b[0;34m\u001b[0m\u001b[0;34m\u001b[0m\u001b[0m\n\u001b[1;32m     26\u001b[0m     \u001b[0mprint\u001b[0m\u001b[0;34m(\u001b[0m\u001b[0;34m'Newton   = {},    N   = {}'\u001b[0m\u001b[0;34m.\u001b[0m\u001b[0mformat\u001b[0m\u001b[0;34m(\u001b[0m\u001b[0mx_n\u001b[0m\u001b[0;34m,\u001b[0m \u001b[0mlen\u001b[0m\u001b[0;34m(\u001b[0m\u001b[0mx_array\u001b[0m\u001b[0;34m)\u001b[0m\u001b[0;34m-\u001b[0m\u001b[0;36m1\u001b[0m\u001b[0;34m)\u001b[0m\u001b[0;34m)\u001b[0m\u001b[0;34m\u001b[0m\u001b[0;34m\u001b[0m\u001b[0m\n",
      "\u001b[0;31mNameError\u001b[0m: name 'brentq' is not defined"
     ]
    }
   ],
   "source": [
    "a = 27\n",
    "b = 50\n",
    "A = 0.3\n",
    "f = lambda x: numpy.cos(x) + A*(numpy.sin(a * x) + numpy.sin(b * x))\n",
    "f_prime = lambda x: -numpy.sin(x) + A*(a*numpy.sin(a * x) + b*numpy.sin(b * x))\n",
    "\n",
    "pi = numpy.pi\n",
    "\n",
    "brackets = [ \n",
    "            (-0.68309670780092, 2.642524050776319),\n",
    "            (-0.7104536143852529, 3.8152626763086603),\n",
    "            (-0.5236057894835726, 3.9067882124238986),\n",
    "            (-0.5275356434135271, 2.4988039593212776),\n",
    "            (-0.3534683303763972, 3.9130408021252014)\n",
    "           ]\n",
    "\n",
    "for bracket in brackets:\n",
    "    #a = numpy.random.uniform(low=-pi/4, high=pi/4)\n",
    "    #b = numpy.random.uniform(low=3*pi/4, high=5*pi/4)\n",
    "    a = bracket[0]\n",
    "    b = bracket[1]\n",
    "    x_n, x_array = newton(f, f_prime, (a + b)/2.)\n",
    "    x_ns, N_n, N_b = newtsafe(f, f_prime, a, b)\n",
    "    x_b, res = brentq(f, a, b, full_output=True)\n",
    "    print('Bracket  = [{}, {}]'.format(a, b))\n",
    "    print('Newton   = {},    N   = {}'.format(x_n, len(x_array)-1))\n",
    "    print('NewtSafe = {},    N_n = {}, N_b = {}'.format(x_ns, N_n, N_b))\n",
    "    print('brentq   = {},    N   = {}'.format(x_b, res.iterations))\n",
    "    print()\n",
    "    numpy.testing.assert_almost_equal(x_ns, x_b,decimal=6)\n",
    "    \n",
    "try:\n",
    "    x_ns, N_n, N_b = newtsafe(f, f_prime, 1.6, 2.0)\n",
    "except ValueError as err:\n",
    "    print(err)\n",
    "    pass\n",
    "\n",
    "print('success!')\n"
   ]
  },
  {
   "cell_type": "markdown",
   "metadata": {
    "deletable": false,
    "editable": false,
    "nbgrader": {
     "cell_type": "markdown",
     "checksum": "3f996b1f730e38a5fff4828d12937615",
     "grade": false,
     "grade_id": "cell-508420840igovo948yh23",
     "locked": true,
     "schema_version": 3,
     "solution": false
    }
   },
   "source": [
    "## Question 3 - Solve some \"real\" rootfinding problems\n",
    "\n",
    "Each of the following math problems will lead to a non-linear function of a single variable that will require solution by rootfinding.  For each problem, derive the non-linear function and use the rootfinding routine of your choice (or try several),  to determine the numerical solution."
   ]
  },
  {
   "cell_type": "markdown",
   "metadata": {
    "deletable": false,
    "editable": false,
    "nbgrader": {
     "cell_type": "markdown",
     "checksum": "85a5e97e3df0ce372ec5d7618d583bf7",
     "grade": false,
     "grade_id": "cell-3f4f0535e4abc84f",
     "locked": true,
     "schema_version": 3,
     "solution": false,
     "task": false
    }
   },
   "source": [
    "**(a)** [8] provide a numerical solution for the number of terms $n$ in the Taylor polynomial expansion of exp(x) (i.e. $T_N(x))$ such that the relative error is\n",
    "\n",
    "$$\n",
    "    r = \\left| \\frac{x^{n+1}}{(n + 1)!} \\right| \\approx \\epsilon_{mach}\n",
    "$$ \n",
    "\n",
    "Give solutions for x = 10,100, 709, 1000 and compare your numerical solution to the approximate solution given in last homework \n",
    "\n",
    "$$\n",
    "    n > e*x\n",
    "$$\n",
    "\n",
    "by calculating the relative error between the your numerical solution and your simpler estimate.\n",
    "\n",
    "Note: To make this problem easier, just use Stirling’s approximation $\\log(n!) \\approx n \\log n − n$. which will work quite well.  However, for a little bit of extra credit solve this for the full problem and compare solutions.\n"
   ]
  },
  {
   "cell_type": "markdown",
   "metadata": {
    "deletable": false,
    "nbgrader": {
     "cell_type": "markdown",
     "checksum": "b68b95d0b33a72562c80bc1c8831d3ac",
     "grade": true,
     "grade_id": "cell-8fc4ebbf43da6dff",
     "locked": false,
     "points": 4,
     "schema_version": 3,
     "solution": true,
     "task": false
    }
   },
   "source": [
    "    Equation Using Striling's Approximation: \n",
    "    \n",
    "$$ \n",
    "    f(n, x) = (n + 1)log(x) - (n + 1)log(n + 1) - (n + 1) - log(eps) = 0 \n",
    "$$\n",
    "\n",
    "    Equation: \n",
    "    \n",
    "$$ \n",
    "    f(n, x) = (n + 1)log(x) - log((n + 1)!) - log(eps) = 0 \n",
    "$$\n",
    "\n",
    "    To get these equations all you have to do is use the proof from Homework 2 and move everything to the left side \n",
    "     "
   ]
  },
  {
   "cell_type": "code",
   "execution_count": 26,
   "metadata": {},
   "outputs": [],
   "source": [
    "import math\n",
    "\n",
    "# these are the functions I had made for hw 2 with some alterations for log_fact_tree\n",
    "\n",
    "# helper method for factorial—trying to make a type of memoized solution to reduce runtime for large n \n",
    "def range_prod(lo, hi):\n",
    "    if lo + 1 < hi:\n",
    "        mid = (hi + lo) // 2\n",
    "        return(range_prod(lo, mid) * range_prod(mid + 1, hi))\n",
    "    if lo == hi:\n",
    "        return(lo)\n",
    "    return(lo * hi)\n",
    "\n",
    "# actual function that should be called to compute factorial of a number n \n",
    "def factorial_tree(n):\n",
    "    if n < 2:\n",
    "        return(1)\n",
    "    return(range_product(1, n))\n",
    "\n",
    "def log_fact_tree(n):\n",
    "    # mathematically the same values \n",
    "    f_log_fact = lambda n: numpy.log(numpy.array(range(1, int(n) + 1))).sum()\n",
    "    return f_log_fact(n)\n",
    "    \n",
    "def log_stirling(n):\n",
    "    fn = float(n)\n",
    "    fn = fn * math.log(fn) - fn\n",
    "    return(fn)\n",
    "                                            "
   ]
  },
  {
   "cell_type": "code",
   "execution_count": 27,
   "metadata": {},
   "outputs": [
    {
     "name": "stdout",
     "output_type": "stream",
     "text": [
      "x = 10, n_true     = 51.999999999999034, e*x = 27.18281828459045, r_true     = 0.9129730940914647\n",
      "x = 10, n_stirling = 52.39200282157358, e*x = 27.18281828459045, r_stirling = 0.9273940719853119\n",
      "\n",
      "x = 100, n_true     = 304.0000000000001, e*x = 271.8281828459045, r_true     = 0.11835350116118515\n",
      "x = 100, n_stirling = 304.8289018356016, e*x = 271.8281828459045, r_stirling = 0.12140286060185566\n",
      "\n",
      "x = 709, n_true     = 1958.0000000000014, e*x = 1927.261816377463, r_true     = 0.01594914783312355\n",
      "x = 709, n_stirling = 1961.9765738907581, e*x = 1927.261816377463, r_stirling = 0.018012476155702596\n",
      "\n",
      "x = 1000, n_true     = 2752.0, e*x = 2718.2818284590453, r_true     = 0.012404222103809245\n",
      "x = 1000, n_stirling = 2753.09065007091, e*x = 2718.2818284590453, r_stirling = 0.012805449842409288\n",
      "\n"
     ]
    }
   ],
   "source": [
    "from scipy.special import factorial \n",
    "\n",
    "eps = numpy.finfo(float).eps\n",
    "f_true = lambda n, x: (n + 1)*numpy.log(x) - log_fact_tree(n + 1) - numpy.log(eps)\n",
    "f_stirlng = lambda n, x: (n + 1)*numpy.log(x) - log_stirling(n + 1) - numpy.log(eps)\n",
    "\n",
    "for x in [10, 100, 709, 1000]:\n",
    "    est = x * numpy.exp(1)\n",
    "    b = est + 100\n",
    "    n_true, res_true = optimize.brentq(f_true, 1, b, full_output=True, args=x)\n",
    "    n_stirlng, res_stirlng = optimize.brentq(f_stirlng, 1, b, full_output=True, args=x)\n",
    "    r_true = abs(n_true - est)/abs(est)\n",
    "    r_stirlng = abs(n_stirlng - est)/abs(est)\n",
    "    print('x = {}, n_true     = {}, e*x = {}, r_true     = {}'.format(x, n_true, numpy.exp(1) * x, r_true))\n",
    "    print('x = {}, n_stirling = {}, e*x = {}, r_stirling = {}'.format(x, n_stirlng, numpy.exp(1) * x, r_stirlng))\n",
    "    print('')\n",
    "    \n",
    "    "
   ]
  },
  {
   "cell_type": "markdown",
   "metadata": {},
   "source": [
    "We can see that the inequality $ n > e * x $was definitely a good basis of comparison. This is because all of the roots found are in fact greater than $ e * x $ However, we also see that there is a sizaeble gap between knowing that $n$ must be greater than $ e * x $ and the actual value of $n$. The estimate given by $ e * x $ is off by around 30 in each instance. \n",
    "\n",
    "We can also note that stirling's approximation gives us a very good estimate of $n$. Baring $x = 709$, the approximation is off by just around 1 point.  "
   ]
  },
  {
   "cell_type": "code",
   "execution_count": null,
   "metadata": {
    "deletable": false,
    "nbgrader": {
     "cell_type": "code",
     "checksum": "11099c9f28135df32eed257aca68662a",
     "grade": true,
     "grade_id": "cell-963aac8426927a48",
     "locked": false,
     "points": 4,
     "schema_version": 3,
     "solution": true,
     "task": false
    }
   },
   "outputs": [],
   "source": []
  }
 ],
 "metadata": {
  "kernelspec": {
   "display_name": "Python 3",
   "language": "python",
   "name": "python3"
  },
  "language_info": {
   "codemirror_mode": {
    "name": "ipython",
    "version": 3
   },
   "file_extension": ".py",
   "mimetype": "text/x-python",
   "name": "python",
   "nbconvert_exporter": "python",
   "pygments_lexer": "ipython3",
   "version": "3.7.3"
  }
 },
 "nbformat": 4,
 "nbformat_minor": 2
}
