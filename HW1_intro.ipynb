{
 "cells": [
  {
   "cell_type": "markdown",
   "metadata": {},
   "source": [
    "Before you turn this problem in, make sure everything runs as expected. First, **restart the kernel** (in the menubar, select Kernel$\\rightarrow$Restart) and then **run all cells** (in the menubar, select Cell$\\rightarrow$Run All).\n",
    "\n",
    "Make sure you fill in any place that says `YOUR CODE HERE` or \"YOUR ANSWER HERE\", as well as your name and collaborators below:"
   ]
  },
  {
   "cell_type": "code",
   "execution_count": 1,
   "metadata": {},
   "outputs": [],
   "source": [
    "NAME = \"Aisse Torres Torres\"\n",
    "COLLABORATORS = \"Bruna Costa\""
   ]
  },
  {
   "cell_type": "markdown",
   "metadata": {},
   "source": [
    "---"
   ]
  },
  {
   "cell_type": "code",
   "execution_count": 2,
   "metadata": {},
   "outputs": [],
   "source": [
    "from __future__ import print_function\n",
    "%matplotlib inline\n",
    "%precision 16\n",
    "import numpy \n",
    "import matplotlib.pyplot as plt\n",
    "\n",
    "from pylab import rcParams\n",
    "from matplotlib.ticker import FuncFormatter"
   ]
  },
  {
   "cell_type": "markdown",
   "metadata": {
    "deletable": false,
    "editable": false,
    "nbgrader": {
     "cell_type": "markdown",
     "checksum": "5da3d6ae4a6d37e87ea88a8408508475",
     "grade": false,
     "grade_id": "cell8438889984008151",
     "locked": true,
     "schema_version": 3,
     "solution": false
    }
   },
   "source": [
    "# Homework 1:  Introduction"
   ]
  },
  {
   "cell_type": "markdown",
   "metadata": {
    "deletable": false,
    "editable": false,
    "nbgrader": {
     "cell_type": "markdown",
     "checksum": "c667879bcea53a67911245e81e8ecc09",
     "grade": false,
     "grade_id": "cell6823144658916374",
     "locked": true,
     "schema_version": 3,
     "solution": false
    }
   },
   "source": [
    "## Question 1 - Basic Linear Algebra\n",
    "\n",
    "Write out the solution (by-hand) to the following sets of equations.  **FULLY** justify your solution (do not just write the answer).\n",
    "\n",
    "If you want to review some of these concepts check out Strang's [Linear Algebra](https://clio.columbia.edu/catalog/10612929) text or for only the fundamentals check out Strang's [The Fundamental Theorem of Linear Algebra](http://www.jstor.org/stable/2324660?seq=1#page_scan_tab_contents)"
   ]
  },
  {
   "cell_type": "markdown",
   "metadata": {
    "deletable": false,
    "editable": false,
    "nbgrader": {
     "cell_type": "markdown",
     "checksum": "2ae27fff6a03b7de5ff2e2dc3b70cedc",
     "grade": false,
     "grade_id": "cell2016497183447183",
     "locked": true,
     "schema_version": 3,
     "solution": false
    }
   },
   "source": [
    "**(a)** (5) Solve $A x = \\mathbf{b}$ where\n",
    "$$\n",
    "    A = \\begin{bmatrix}\n",
    "        2 & 1 \\\\\n",
    "        1 & 3\n",
    "    \\end{bmatrix} ~~~~ \n",
    "    \\mathbf{b} = \\begin{bmatrix}\n",
    "        1 \\\\\n",
    "        -2\n",
    "    \\end{bmatrix}\n",
    "$$"
   ]
  },
  {
   "cell_type": "markdown",
   "metadata": {
    "deletable": false,
    "nbgrader": {
     "cell_type": "markdown",
     "checksum": "f74ae27d7e7de90898de4a3c30ba2e83",
     "grade": true,
     "grade_id": "cell1448053803160613",
     "locked": false,
     "points": 5,
     "schema_version": 3,
     "solution": true
    }
   },
   "source": [
    "    \n",
    "    Solution: \n",
    "$$ \n",
    "    \\begin{bmatrix}\n",
    "    2 & 1 \\\\\n",
    "    1 & 3 \n",
    "    \\end{bmatrix}\n",
    "    \\begin{bmatrix}\n",
    "    x_1 \\\\\n",
    "    x_2 \n",
    "    \\end{bmatrix}\n",
    "    = \n",
    "    \\begin{bmatrix}\n",
    "    1 \\\\\n",
    "    -2 \n",
    "    \\end{bmatrix}\n",
    "$$\n",
    "\n",
    "$$\n",
    "    x = A^{-1}b \n",
    "$$\n",
    "\n",
    "$$\n",
    "  \\begin{bmatrix}\n",
    "    x_1 \\\\\n",
    "    x_2 \n",
    "  \\end{bmatrix}\n",
    "    = \n",
    "    \\frac{1}{5}\n",
    "  \\begin{bmatrix}\n",
    "    3 & -1 \\\\\n",
    "   -1 & 2 \n",
    "  \\end{bmatrix}\n",
    "  \\begin{bmatrix}\n",
    "    1 \\\\\n",
    "    -2 \n",
    "  \\end{bmatrix}\n",
    "$$\n",
    "\n",
    "$$\n",
    "  \\begin{bmatrix}\n",
    "    x_1 \\\\\n",
    "    x_2 \n",
    "  \\end{bmatrix}\n",
    "    = \n",
    "    \\frac{1}{5}\n",
    "  \\begin{bmatrix}\n",
    "    \\frac{3}{5} & \\frac{-1}{5} \\\\\n",
    "    \\frac{-1}{5} & \\frac{2}{5} \n",
    "  \\end{bmatrix}\n",
    "  \\begin{bmatrix}\n",
    "    1 \\\\\n",
    "    -2 \n",
    "  \\end{bmatrix}\n",
    "$$\n",
    "\n",
    "$$\n",
    "   \\begin{bmatrix}\n",
    "    \\frac{3}{5} + \\frac{2}{5} \\\\\n",
    "    \\frac{-1}{5} - \\frac{4}{5} \n",
    "   \\end{bmatrix}\n",
    "$$\n",
    "\n",
    "$$\n",
    "    \\begin{bmatrix}\n",
    "    x_1 \\\\\n",
    "    x_2 \n",
    "    \\end{bmatrix}\n",
    "    = \n",
    "    \\begin{bmatrix}\n",
    "    1 \\\\\n",
    "    -1\n",
    "    \\end{bmatrix}\n",
    "$$"
   ]
  },
  {
   "cell_type": "markdown",
   "metadata": {
    "deletable": false,
    "editable": false,
    "nbgrader": {
     "cell_type": "markdown",
     "checksum": "04c1d84d159c07e51b85b05584426d9d",
     "grade": false,
     "grade_id": "cell5967828987159757",
     "locked": true,
     "schema_version": 3,
     "solution": false
    }
   },
   "source": [
    "**(b)** (5) Solve the system of equations:\n",
    "\\begin{align}\n",
    "    2x + 3y &= 1 \\\\\n",
    "    6x + 9y &= 3\n",
    "\\end{align}"
   ]
  },
  {
   "cell_type": "markdown",
   "metadata": {
    "deletable": false,
    "nbgrader": {
     "cell_type": "markdown",
     "checksum": "92141e837c28779faa0eacf9efc4bbdc",
     "grade": true,
     "grade_id": "cell9290127908697658",
     "locked": false,
     "points": 5,
     "schema_version": 3,
     "solution": true
    }
   },
   "source": [
    "$$ \n",
    "   \\begin{bmatrix}\n",
    "    2 & 3 & 1 \\\\\n",
    "    6 & 9 & 3 \n",
    "   \\end{bmatrix}\n",
    "$$\n",
    "\n",
    "    Divide first row by 2:\n",
    "\n",
    "$$ \n",
    "    \\begin{bmatrix}\n",
    "    1 & \\frac{3}{2} & \\frac{1}{2} \\\\\n",
    "    6 & 9 & 3 \n",
    "   \\end{bmatrix}\n",
    "$$\n",
    "\n",
    "    Subtract 6Row1 from Row2\n",
    "\n",
    "$$\n",
    "    \\begin{bmatrix}\n",
    "    1 & \\frac{3}{2} & \\frac{1}{2} \\\\\n",
    "    0 & 0 & 0 \n",
    "   \\end{bmatrix}\n",
    "$$\n",
    "\n",
    "$$\n",
    "    y = \\frac{1}{3} - \\frac{2}{3}x\n",
    "$$\n",
    "\n",
    "    Any x value will give a satisfactory solution"
   ]
  },
  {
   "cell_type": "markdown",
   "metadata": {
    "deletable": false,
    "editable": false,
    "nbgrader": {
     "cell_type": "markdown",
     "checksum": "1b5bd30d687fc5b3d357ac4c48a25188",
     "grade": false,
     "grade_id": "cell5933027027760471",
     "locked": true,
     "schema_version": 3,
     "solution": false
    }
   },
   "source": [
    "**(c)** (5) Why will I not be able to solve $A\\mathbf{x}=\\mathbf{b}$ for\n",
    "\n",
    "$$\n",
    "    A = \\begin{bmatrix}\n",
    "        2 & 1 \\\\\n",
    "        1 & 3 \\\\\n",
    "        0 & 4\n",
    "    \\end{bmatrix} ~~~~ \n",
    "    \\mathbf{b} = \\begin{bmatrix}\n",
    "        2 \\\\\n",
    "        0 \\\\\n",
    "        1\n",
    "    \\end{bmatrix}?\n",
    "$$\n",
    "\n",
    "Describe why this is a problem in terms of the column, row, left-null, and null spaces of $A$ and how that relates to the vector $\\mathbf{b}$."
   ]
  },
  {
   "cell_type": "markdown",
   "metadata": {
    "deletable": false,
    "nbgrader": {
     "cell_type": "markdown",
     "checksum": "a96870b6270e88853f17d3ff502d8cbf",
     "grade": true,
     "grade_id": "cell2638454345631698",
     "locked": false,
     "points": 5,
     "schema_version": 3,
     "solution": true
    }
   },
   "source": [
    "\n",
    "     For any vector b in R that’s not a linear combination of the columns of A, there is no solution to Ax = b. This is because all vectors of form Ax are linear combinations of columns of A. \n",
    "     We can see that b is not in the column space of A because b cannot be written as a linear combination of the two vectors which make up A (since b is linearly independent to the vectors of A). Hence, there is no solution. \n",
    "      "
   ]
  },
  {
   "cell_type": "markdown",
   "metadata": {
    "deletable": false,
    "editable": false,
    "nbgrader": {
     "cell_type": "markdown",
     "checksum": "17ff1e94ffc3803fe3856995b1b80c71",
     "grade": false,
     "grade_id": "cell4384914739699754",
     "locked": true,
     "schema_version": 3,
     "solution": false
    }
   },
   "source": [
    "## Question 2 -- a simple python function"
   ]
  },
  {
   "cell_type": "markdown",
   "metadata": {
    "deletable": false,
    "editable": false,
    "nbgrader": {
     "cell_type": "markdown",
     "checksum": "b1014fc20fac505bf86733dd30aa7857",
     "grade": false,
     "grade_id": "cell1244223495354736",
     "locked": true,
     "schema_version": 3,
     "solution": false
    }
   },
   "source": [
    "**(a)** (10) Write a function that computes\n",
    "$$\n",
    "    \\sum^\\infty_{n=1} \\frac{a^n}{b^{n-1}}\n",
    "$$\n",
    "until the difference between subsequent partial sums is less than the given tolerance $T$.  Return the computed sum.  Make sure to include a way for the function to exit if the partial sums do not satisfy the above criteria (the sum may not be convergent for instance)."
   ]
  },
  {
   "cell_type": "code",
   "execution_count": 3,
   "metadata": {
    "deletable": false,
    "nbgrader": {
     "cell_type": "code",
     "checksum": "20ae2dcfdc7388f9ee886485609f51fb",
     "grade": false,
     "grade_id": "cell3621925556728684",
     "locked": false,
     "schema_version": 3,
     "solution": true
    }
   },
   "outputs": [
    {
     "name": "stdout",
     "output_type": "stream",
     "text": [
      "-1.201217951072278\n",
      "-1.1999987638293212\n",
      "-1.1999999999854947\n",
      "-1.1999999999999995\n",
      "-1.1999999999999995\n"
     ]
    }
   ],
   "source": [
    "def compute_sum(a, b, tolerance=1e-5):\n",
    "    \"\"\"Compute the sum $\\sum^\\infty_{n=1} a^n / b^{n-1} until the partial sums are less than *tolerance*.\n",
    "    \n",
    "    Returns the computed sum and raises a *ValueError* if the sum appears to be diverging.\n",
    "    \"\"\"\n",
    "     \n",
    "    # By doing some traditional math, we can find that the sum only converges when (a/b) < 1 or (a/b) >= 1 \n",
    "    if abs(a / b) >= 1:\n",
    "        raise ValueError()\n",
    "    \n",
    "    n = 1\n",
    "    total_sum = 0\n",
    "    prev_sum = 0\n",
    "    \n",
    "    while True:\n",
    "        \n",
    "        # By doing some math, we can simplify the series into this form \n",
    "        current_sum = b * ((a / b) ** n)\n",
    "        total_sum += current_sum\n",
    "        \n",
    "        if abs(prev_sum - current_sum) < tolerance:\n",
    "            return total_sum\n",
    "        \n",
    "        prev_sum = current_sum\n",
    "        n += 1\n",
    "        \n",
    "\n",
    "\n",
    "print(compute_sum(-2.0, 3.0, 1e-2))\n",
    "print(compute_sum(-2.0, 3.0, 1e-5))\n",
    "print(compute_sum(-2.0, 3.0, 1e-10))\n",
    "print(compute_sum(-2.0, 3.0, 1e-15))\n",
    "print(compute_sum(-2.0, 3.0, 1e-30))\n",
    "\n",
    "        \n"
   ]
  },
  {
   "cell_type": "code",
   "execution_count": 4,
   "metadata": {
    "deletable": false,
    "editable": false,
    "nbgrader": {
     "cell_type": "code",
     "checksum": "9cdfbbb5ffc21daf532fe139133be6af",
     "grade": true,
     "grade_id": "cell5655123106444739",
     "locked": true,
     "points": 10,
     "schema_version": 3,
     "solution": false
    }
   },
   "outputs": [],
   "source": [
    "numpy.testing.assert_allclose(compute_sum(-2.0, 3.0, 1e-16), -1.2)\n",
    "numpy.testing.assert_allclose(compute_sum(1.0, 2.0, 1e-16), 2.0)\n",
    "try:\n",
    "    compute_sum(2.0, 1.0, 1e-16)\n",
    "except ValueError:\n",
    "    pass\n",
    "else:\n",
    "    assert False"
   ]
  },
  {
   "cell_type": "markdown",
   "metadata": {
    "deletable": false,
    "editable": false,
    "nbgrader": {
     "cell_type": "markdown",
     "checksum": "9b49fec14ea4e31b34245749c919fe9d",
     "grade": false,
     "grade_id": "cell6074787325159711",
     "locked": true,
     "schema_version": 3,
     "solution": false
    }
   },
   "source": [
    "**(b)** (5) Explore different tolerances for your function above for $a=-2$ and $b=3$.  Plot the value of the tolerance\n",
    "$$\n",
    "    \\left| ~ \\sum^\\infty_{n=1} \\frac{a^n}{b^{n-1}} - (-1.2) ~\\right |\n",
    "$$\n",
    "versus the difference.  The plotting command `loglog` may be useful to effectively visualize the problem.  What do you observe?\n",
    "\n",
    "Hint:  Try using tolerances in the range $T \\in [10^{-30}, 10^{-2}]$.  Use the functions `logspace` to generate well spaced points and `loglog` to plot the data."
   ]
  },
  {
   "cell_type": "code",
   "execution_count": 17,
   "metadata": {
    "deletable": false,
    "nbgrader": {
     "cell_type": "code",
     "checksum": "7bf34706375e686c04187e6c7ca7b8e3",
     "grade": true,
     "grade_id": "cell5235988218415515",
     "locked": false,
     "points": 4,
     "schema_version": 3,
     "solution": true
    }
   },
   "outputs": [
    {
     "data": {
      "image/png": "[encoded data removed]",
      "text/plain": [
       "<Figure size 1152x648 with 1 Axes>"
      ]
     },
     "metadata": {
      "needs_background": "light"
     },
     "output_type": "display_data"
    }
   ],
   "source": [
    "def compute_with_difference(a, b, tolerance=1e-5):\n",
    "     \n",
    "    # By doing some traditional math, we can find that the sum only converges when (a/b) < 1 or (a/b) >= 1 \n",
    "    if abs(a / b) >= 1:\n",
    "        raise ValueError()\n",
    "    \n",
    "    n = 1\n",
    "    total_sum = 0\n",
    "    prev_sum = 0\n",
    "    current_sum = 0\n",
    "    \n",
    "    while True:\n",
    "        \n",
    "        current_sum = (b * ((a / b) ** n)) + 1.2\n",
    "        total_sum += current_sum\n",
    "        \n",
    "        if numpy.absolute((prev_sum - current_sum)) < tolerance:\n",
    "            return total_sum\n",
    "        \n",
    "        prev_sum = current_sum\n",
    "        n += 1 \n",
    "\n",
    "tol = [1e-30, 1e-25, 1e-20, 1e-15, 1e-10, 1e-5, 1e-2]\n",
    "dif = [compute_with_difference(-2, 3, 1e-30), compute_with_difference(-2, 3, 1e-25), compute_with_difference(-2, 3, 1e-20), \n",
    "       compute_with_difference(-2, 3, 1e-15), compute_with_difference(-2, 3, 1e-10), compute_with_difference(-2, 3, 1e-5), \n",
    "       compute_with_difference(-2, 3, 1e-2)]\n",
    "plt.loglog(tol, dif, 'b--', linewidth=1)\n",
    "plt.ylabel('Difference')\n",
    "plt.xlabel('Tolerance')\n",
    "plt.title(\"Difference vs Tolerance\")\n",
    "plt.show()\n",
    "\n",
    "#tol = numpy.logspace(1e-30, 1e-2, 10000)\n",
    "#plt.loglog(tol, compute_with_difference(-2, 3, tol))\n",
    "#plt.show()\n",
    "\n",
    "\n"
   ]
  },
  {
   "cell_type": "markdown",
   "metadata": {
    "deletable": false,
    "nbgrader": {
     "cell_type": "markdown",
     "checksum": "20cd990f272495dc908b1210c6e7e0c0",
     "grade": true,
     "grade_id": "cell9513987934167870",
     "locked": false,
     "points": 1,
     "schema_version": 3,
     "solution": true
    }
   },
   "source": [
    "The smaller the tollerance, the bigger the difference is. Essentially, when we have a very small tolerance, the difference between partial sums is significant—essentially we have a greater error. When we have a higher tolerance, we get a smaller difference (smaller difference also means the series is approximating its limit) which gives us a more accurate sum.  "
   ]
  },
  {
   "cell_type": "markdown",
   "metadata": {
    "deletable": false,
    "editable": false,
    "nbgrader": {
     "cell_type": "markdown",
     "checksum": "3e85921a321fc81df2ab4b835e92f357",
     "grade": false,
     "grade_id": "cell4028669518644633",
     "locked": true,
     "schema_version": 3,
     "solution": false
    }
   },
   "source": [
    "## Question 3 - Taylor Series"
   ]
  },
  {
   "cell_type": "markdown",
   "metadata": {
    "deletable": false,
    "editable": false,
    "nbgrader": {
     "cell_type": "markdown",
     "checksum": "cd401fe02f2208894336118eeba221eb",
     "grade": false,
     "grade_id": "cell8219538542602342",
     "locked": true,
     "schema_version": 3,
     "solution": false
    }
   },
   "source": [
    "(7) Compute the first 3 terms of the Taylor series of the function\n",
    "$$\n",
    "    f(x) = e^{-x^2} \\sin( x - \\pi)\n",
    "$$\n",
    "centered at $x_0 = \\pi$."
   ]
  },
  {
   "cell_type": "markdown",
   "metadata": {
    "deletable": false,
    "nbgrader": {
     "cell_type": "markdown",
     "checksum": "584c9440793a332c83dbe65cd02c80d7",
     "grade": true,
     "grade_id": "cell5045118735142062",
     "locked": false,
     "points": 7,
     "schema_version": 3,
     "solution": true
    }
   },
   "source": [
    "    Taylor Series:\n",
    "$$ \n",
    "\\begin{equation*}\n",
    " f(x) = f(a) + \\frac{f'(a)}{1!}(x - a) + \\frac{f''(a)}{2!}(x - a)^{2} + \\frac{f'''(a)}{3!}(x-a)^{3}+\\dotsb = \\sum_{k=0}^\\infty \\frac{f^{\\left(k\\right)}(a)}{k!} x^k,\n",
    "\\end{equation*}\n",
    "$$\n",
    "\n",
    "    Solution: \n",
    "\n",
    "$$\n",
    "\\begin{equation*}\n",
    "    f(x) = e^{-x^2}sin(x - \\pi), \\quad f(\\pi) = e^{-\\pi^2}sin(\\pi - \\pi) = e^{-\\pi^2}sin(0) = 0 \n",
    "\\end{equation*}\n",
    "$$\n",
    "\n",
    "$$\n",
    "\\begin{equation*}\n",
    "    f'(x) = -e^{-x^2}(cos(x) - 2xsin(x)), \\quad f'(\\pi) = -e^{-\\pi^2}(cos(\\pi) - 2\\pi sin(\\pi)) = -e^{-\\pi^2}(-1) = e^{-\\pi^2}\n",
    "\\end{equation*}\n",
    "$$\n",
    "\n",
    "$$\n",
    "    f''(x) = -e^{-x^2}((4x^2-3)sin(x) - 4xcos(x)), \\quad f''(\\pi) = -e^{-\\pi^2}((4\\pi^2-3)sin(\\pi) - 4\\pi cos(\\pi))=-4\\pi e^{-\\pi^2}\n",
    "$$\n",
    "\n",
    "    First Three Terms:\n",
    "    \n",
    "$$\n",
    "    f(\\pi) + \\frac{f'(\\pi)}{1!}(x - \\pi) + \\frac{f''(\\pi)}{2!}(x - \\pi)^{2} = 0 + e^{-\\pi^2}(x - \\pi)  -2\\pi e^{-\\pi^2}(x - \\pi)^{2}\n",
    "$$"
   ]
  },
  {
   "cell_type": "markdown",
   "metadata": {
    "deletable": false,
    "editable": false,
    "nbgrader": {
     "cell_type": "markdown",
     "checksum": "22723c187775d8904032761e1d3a8c0f",
     "grade": false,
     "grade_id": "cell4028669518647563",
     "locked": true,
     "schema_version": 3,
     "solution": false
    }
   },
   "source": [
    "## Question 4 - Basic ODE's"
   ]
  },
  {
   "cell_type": "markdown",
   "metadata": {
    "deletable": false,
    "editable": false,
    "nbgrader": {
     "cell_type": "markdown",
     "checksum": "ce2bb620bb0ad12ef67816462648f710",
     "grade": false,
     "grade_id": "cell7388927421453205",
     "locked": true,
     "schema_version": 3,
     "solution": false
    }
   },
   "source": [
    "(8) Solve the ODE (by hand)\n",
    "$$\n",
    "    u'' + u' + \\frac{5}{4} u = 0\n",
    "$$\n",
    "with initial conditions $u(0) = 3$ and $u'(0) = 1$.  Comment on its behavior as $t \\rightarrow \\infty$."
   ]
  },
  {
   "cell_type": "markdown",
   "metadata": {
    "deletable": false,
    "nbgrader": {
     "cell_type": "markdown",
     "checksum": "67ee6d23eaf50a4d0631f602af13612d",
     "grade": true,
     "grade_id": "cell8510568627368116",
     "locked": false,
     "points": 6,
     "schema_version": 3,
     "solution": true
    }
   },
   "source": [
    "    Simplifying the Equation: \n",
    "$$ \n",
    "    D^{2} + D + \\frac{5}{4} = 0 \n",
    "$$\n",
    "\n",
    "    Getting rid of the Fraction: \n",
    "$$ \n",
    "    4D^{2} + 4D + 5 = 0\n",
    "$$\n",
    "\n",
    "    Using the Quadratic Formula: \n",
    "$$\n",
    "    D = \\frac{-4 \\pm \\sqrt{16 - 80}}{8}\n",
    "$$\n",
    "\n",
    "$$\n",
    "     = \\frac{-4 \\pm \\sqrt{-64}}{8}\n",
    "$$\n",
    "\n",
    "$$\n",
    "     = \\frac{-4 \\pm 8i}{8}\n",
    "$$\n",
    "\n",
    "$$\n",
    "     = \\frac{-1}{2} \\pm i\n",
    "$$\n",
    "\n",
    "    Now we have: \n",
    "    \n",
    "$$\n",
    "    u(x) = e^{\\alpha x}\\{ c_1 cos \\beta x + c_2 sin \\beta x \\}\n",
    "$$\n",
    "\n",
    "$$ \n",
    "    u(x) = e^{\\frac{-1}{2}x}\\{ c_1 cosx + c_2 sinx \\}, \\qquad c_1 = 3\n",
    "$$\n",
    "\n",
    "    Solving for c2:\n",
    "$$ \n",
    "    1 = c_2 - \\frac{1}{2} c_1\n",
    "$$\n",
    "\n",
    "$$ \n",
    "    1 = c_2 - \\frac{3}{2} \n",
    "$$\n",
    "\n",
    "$$ \n",
    "    c_2 = \\frac{5}{2}\n",
    "$$\n",
    "    \n",
    "    Final Solution: \n",
    "$$ \n",
    "    u(x) = e^{\\frac{-1}{2}t}\\{ 3cos(t) + \\frac{5}{2}sin(t) \\}\n",
    "$$\n",
    "\n"
   ]
  },
  {
   "cell_type": "markdown",
   "metadata": {
    "deletable": false,
    "editable": false,
    "nbgrader": {
     "cell_type": "markdown",
     "checksum": "e663752a161361fc627e39b35f0a2bd5",
     "grade": false,
     "grade_id": "cell-1b99ca0e971047fb",
     "locked": true,
     "schema_version": 3,
     "solution": false,
     "task": false
    }
   },
   "source": [
    "Plot the solution $u(t)$"
   ]
  },
  {
   "cell_type": "code",
   "execution_count": 6,
   "metadata": {
    "deletable": false,
    "nbgrader": {
     "cell_type": "code",
     "checksum": "c902aa23f1da8b332819e93ae85008a7",
     "grade": true,
     "grade_id": "cell9191289374012808",
     "locked": false,
     "points": 2,
     "schema_version": 3,
     "solution": true
    }
   },
   "outputs": [
    {
     "data": {
      "image/png": "[encoded data removed]",
      "text/plain": [
       "<Figure size 432x288 with 1 Axes>"
      ]
     },
     "metadata": {
      "needs_background": "light"
     },
     "output_type": "display_data"
    }
   ],
   "source": [
    "x = numpy.linspace(-15,15,100) \n",
    "y = (numpy.exp(-x / 2) * 3 * numpy.cos(x)) + (numpy.exp(-x / 2) * (5 / 2) * numpy.sin(x))\n",
    "\n",
    "plt.plot(x,y) \n",
    "plt.show() "
   ]
  },
  {
   "cell_type": "markdown",
   "metadata": {
    "deletable": false,
    "editable": false,
    "nbgrader": {
     "cell_type": "markdown",
     "checksum": "521ec6f40b3c9e3f90dddf9b3a6d0299",
     "grade": false,
     "grade_id": "cell3807292108265957",
     "locked": true,
     "schema_version": 3,
     "solution": false
    }
   },
   "source": [
    "## Question 5 - using matplotlib\n",
    "\n",
    "(5) Plot something \"fun\" making sure to label the axes and colorbar if appropriate.  Use the [matplotlib gallery](http://matplotlib.org/gallery.html) for inspiration."
   ]
  },
  {
   "cell_type": "code",
   "execution_count": 7,
   "metadata": {
    "deletable": false,
    "nbgrader": {
     "cell_type": "code",
     "checksum": "704de1896d27c6af92c761d1ece041e8",
     "grade": true,
     "grade_id": "cell2439477339694822",
     "locked": false,
     "points": 5,
     "schema_version": 3,
     "solution": true
    }
   },
   "outputs": [
    {
     "data": {
      "image/png": "[encoded data removed]",
      "text/plain": [
       "<Figure size 1152x648 with 1 Axes>"
      ]
     },
     "metadata": {
      "needs_background": "light"
     },
     "output_type": "display_data"
    }
   ],
   "source": [
    "\"\"\"Weierstrass Function: continuous everywhere, yet differentiable nowhere\"\"\"\n",
    "\n",
    "step = 0.0001 \n",
    "a = 0.25\n",
    "b = 30\n",
    "n = 200\n",
    "intervalBegin = 0\n",
    "intervalEnd = 1\n",
    "data = []\n",
    "for x in range(int((1 / step) * numpy.absolute(intervalEnd - intervalBegin))):\n",
    "    output = 0\n",
    "    for i in range(n):\n",
    "        output += numpy.power(a, i) * numpy.cos(pow(b, i) * i * x * step)\n",
    "    data.append(output)\n",
    "rcParams['figure.figsize'] = 16, 9\n",
    "plt.gca().xaxis.grid(True)\n",
    "plt.gca().yaxis.grid(True)\n",
    "plt.gca().get_xaxis().set_major_formatter(FuncFormatter(lambda x, p: format(x * step, ',')))\n",
    "plt.plot(data)\n",
    "plt.show()"
   ]
  },
  {
   "cell_type": "markdown",
   "metadata": {
    "deletable": false,
    "editable": false,
    "nbgrader": {
     "cell_type": "markdown",
     "checksum": "daa4b0633461223033e43917361d37f5",
     "grade": false,
     "grade_id": "cell-ade3b6426b1ed3ab",
     "locked": true,
     "schema_version": 3,
     "solution": false
    }
   },
   "source": [
    "## Question 6 - The Trouble with Tribbles\n",
    "\n",
    "**The Problem**\n",
    "The number of tribbles (furry animals from Star Trek) is modeled by Spock to be exponential.  Spock predicts that in a 3 day period that the tribbles will go from an initial population number of $N_0 = 1$ to $N(3) = 1,771,561$ tribbles.  The assumptions that Spock made are the following:\n",
    " - The tribbles reproduce every 12 hours.\n",
    " - Tribbles reproduce asexually so that 1 tribble will produce 10 more tribbles leading to a total of 11 tribbles.\n",
    "\n",
    "**(a)** (2) Write a function that confirms Spock's estimate"
   ]
  },
  {
   "cell_type": "code",
   "execution_count": 8,
   "metadata": {
    "deletable": false,
    "nbgrader": {
     "cell_type": "code",
     "checksum": "250009673351f7b4fa6f3f48f0a1cd92",
     "grade": false,
     "grade_id": "cell-ced77d94995c3603",
     "locked": false,
     "schema_version": 3,
     "solution": true,
     "task": false
    }
   },
   "outputs": [],
   "source": [
    "def N(t):\n",
    "    \"\"\" return the number of tribbles at time t (in days) given that 1 tribble will reproduce \n",
    "        asexually every 12 hours to produce 10 more tribbles.  N can be a real number\n",
    "    \"\"\"\n",
    "    intial_population = 1\n",
    "    growth = numpy.log(11) / 0.5 \n",
    "    return (intial_population * (numpy.e ** (growth * t)))\n"
   ]
  },
  {
   "cell_type": "code",
   "execution_count": 9,
   "metadata": {
    "deletable": false,
    "editable": false,
    "nbgrader": {
     "cell_type": "code",
     "checksum": "e7eda9b8f5be58396fba8a84f8c265ad",
     "grade": true,
     "grade_id": "cell-65deef82d8b7ce70",
     "locked": true,
     "points": 2,
     "schema_version": 3,
     "solution": false,
     "task": false
    }
   },
   "outputs": [],
   "source": [
    "assert(N(3) == 1771561)"
   ]
  },
  {
   "cell_type": "markdown",
   "metadata": {
    "deletable": false,
    "editable": false,
    "nbgrader": {
     "cell_type": "markdown",
     "checksum": "e5472c893d2dab0a969c1a7d1f47cb36",
     "grade": false,
     "grade_id": "cell-96c90a8b85fc8d48",
     "locked": true,
     "schema_version": 3,
     "solution": false,
     "task": false
    }
   },
   "source": [
    "**(b)** (3) Make a plot of N(t) for t=3 days (assuming it is a continous function), using the appropriate plot types making sure to adding labels, units, and titles.  Also refer to the [matplotlib gallery](http://matplotlib.org/gallery.html) to figure out how to plot some of what is asked."
   ]
  },
  {
   "cell_type": "code",
   "execution_count": 16,
   "metadata": {
    "deletable": false,
    "nbgrader": {
     "cell_type": "code",
     "checksum": "76ec33761ac54a988e1ce8908aa620de",
     "grade": true,
     "grade_id": "cell-ced77d94995c3605",
     "locked": false,
     "points": 4,
     "schema_version": 3,
     "solution": true
    }
   },
   "outputs": [
    {
     "data": {
      "text/plain": [
       "Text(0, 0.5, 'Number of Tribbles')"
      ]
     },
     "execution_count": 16,
     "metadata": {},
     "output_type": "execute_result"
    },
    {
     "data": {
      "image/png": "[encoded data removed]",
      "text/plain": [
       "<Figure size 1152x648 with 1 Axes>"
      ]
     },
     "metadata": {
      "needs_background": "light"
     },
     "output_type": "display_data"
    }
   ],
   "source": [
    "time = numpy.linspace(0, 4, 1000)\n",
    "plt.plot(time, N(time), 'b--', linewidth=1)\n",
    "plt.title(\"Growth of Tribbles\")\n",
    "plt.xlabel(\"Days\")\n",
    "plt.ylabel(\"Number of Tribbles\")\n"
   ]
  },
  {
   "cell_type": "markdown",
   "metadata": {
    "deletable": false,
    "editable": false,
    "nbgrader": {
     "cell_type": "markdown",
     "checksum": "920883a9b3fbf121fd6f04e92e1bf8a5",
     "grade": false,
     "grade_id": "cell-7564389d26c906c0",
     "locked": true,
     "schema_version": 3,
     "solution": false
    }
   },
   "source": [
    "**(c)** [5] Assuming that tribbles cannot stack themselves on top of each other perfectly we also would like to model and plot the spread of tribbles throughout our space ship.  Assume our space ship is a square use the following function to plot the population on our space ship of tribbles:\n",
    "$$\n",
    "    N(x, y) = N_0 e^{-r^2/\\sigma^2}\n",
    "$$\n",
    "where $N_0 = 1000$, $\\sigma = 0.1$ and $r$ is the distance from the middle of our space ship."
   ]
  },
  {
   "cell_type": "code",
   "execution_count": 15,
   "metadata": {
    "deletable": false,
    "nbgrader": {
     "cell_type": "code",
     "checksum": "fb6e8455cfcb141a659058fd1efd1ce5",
     "grade": true,
     "grade_id": "cell-57fc8ae3b01fafa8",
     "locked": false,
     "points": 5,
     "schema_version": 3,
     "solution": true
    }
   },
   "outputs": [
    {
     "data": {
      "image/png": "[encoded data removed]",
      "text/plain": [
       "<Figure size 1152x648 with 2 Axes>"
      ]
     },
     "metadata": {
      "needs_background": "light"
     },
     "output_type": "display_data"
    }
   ],
   "source": [
    "x = numpy.linspace(-1, 1, 100)\n",
    "y = numpy.linspace(-1, 1, 100)\n",
    "X, Y = numpy.meshgrid(x, y)\n",
    "F = 1000 * numpy.exp(-(numpy.square(X)+ numpy.square(Y)) / numpy.square(0.1)) \n",
    "plt.pcolor(X, Y, F)\n",
    "plt.colorbar(label=\"Distribution\")\n",
    "plt.title('Spread of Tribbles')\n",
    "plt.show()"
   ]
  },
  {
   "cell_type": "code",
   "execution_count": null,
   "metadata": {},
   "outputs": [],
   "source": []
  },
  {
   "cell_type": "code",
   "execution_count": null,
   "metadata": {},
   "outputs": [],
   "source": []
  }
 ],
 "metadata": {
  "kernelspec": {
   "display_name": "Python 3",
   "language": "python",
   "name": "python3"
  },
  "language_info": {
   "codemirror_mode": {
    "name": "ipython",
    "version": 3
   },
   "file_extension": ".py",
   "mimetype": "text/x-python",
   "name": "python",
   "nbconvert_exporter": "python",
   "pygments_lexer": "ipython3",
   "version": "3.7.3"
  }
 },
 "nbformat": 4,
 "nbformat_minor": 4
}
