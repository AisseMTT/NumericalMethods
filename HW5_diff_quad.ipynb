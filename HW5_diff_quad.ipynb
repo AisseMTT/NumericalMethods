{
 "cells": [
  {
   "cell_type": "markdown",
   "metadata": {},
   "source": [
    "Before you turn this problem in, make sure everything runs as expected. First, **restart the kernel** (in the menubar, select Kernel$\\rightarrow$Restart) and then **run all cells** (in the menubar, select Cell$\\rightarrow$Run All).\n",
    "\n",
    "Make sure you fill in any place that says `YOUR CODE HERE` or \"YOUR ANSWER HERE\", as well as your name and collaborators below:"
   ]
  },
  {
   "cell_type": "code",
   "execution_count": 15,
   "metadata": {},
   "outputs": [],
   "source": [
    "NAME = \"Aisse Torres Torres\"\n",
    "COLLABORATORS = \"Bruna Costa\""
   ]
  },
  {
   "cell_type": "markdown",
   "metadata": {},
   "source": [
    "---"
   ]
  },
  {
   "cell_type": "code",
   "execution_count": 16,
   "metadata": {},
   "outputs": [],
   "source": [
    "%matplotlib inline\n",
    "%precision 16\n",
    "import numpy\n",
    "from scipy.special import erf, fresnel\n",
    "import matplotlib.pyplot as plt\n",
    "import math "
   ]
  },
  {
   "cell_type": "markdown",
   "metadata": {
    "deletable": false,
    "editable": false,
    "nbgrader": {
     "cell_type": "markdown",
     "checksum": "501a1c819b64d93a63daffcf5dd3d042",
     "grade": false,
     "grade_id": "cell-3336298175051145",
     "locked": true,
     "schema_version": 3,
     "solution": false
    }
   },
   "source": [
    "Before you turn this problem in, make sure everything runs as expected. First, restart the kernel (in the menubar, select Kernel $\\rightarrow$ Restart) and then run all cells (in the menubar, select Cell $\\rightarrow$ Run All).\n",
    "\n",
    "Make sure you fill in any place that says YOUR CODE HERE or \"YOUR ANSWER HERE\", as well as your name and collaborators below:"
   ]
  },
  {
   "cell_type": "markdown",
   "metadata": {
    "deletable": false,
    "editable": false,
    "nbgrader": {
     "cell_type": "markdown",
     "checksum": "fcf3b2b91a8f7b24d4600bfa299d76bf",
     "grade": false,
     "grade_id": "cell-8922434501433849",
     "locked": true,
     "schema_version": 3,
     "solution": false
    }
   },
   "source": [
    "# HW 5:  Numerical Differentiation and Quadrature"
   ]
  },
  {
   "cell_type": "markdown",
   "metadata": {
    "deletable": false,
    "editable": false,
    "nbgrader": {
     "cell_type": "markdown",
     "checksum": "11c4dc7f495597dcf17512a1d25527ed",
     "grade": false,
     "grade_id": "cell-6862f9ce9923e1fc",
     "locked": true,
     "schema_version": 3,
     "solution": false,
     "task": false
    }
   },
   "source": [
    "## Question 1 - Basic  Quadrature Rules\n",
    "\n",
    "The Error Function $\\mathrm{erf}(x)$ is defined by the definite integral\n",
    "\n",
    "$$\n",
    "    \\mathrm{erf}(x) = \\frac{2}{\\pi}\\int_0^x e^{-t^2}dt\n",
    "$$ \n",
    "\n",
    "We will use this function to test and understand the different errors associated with a range of both single interval and extended quadrature rules.  \n",
    "\n",
    "Use the function definitions below to write a set of functions for approximating \n",
    "$$\n",
    " I[f] =  \\int_a^b f(x) dx\n",
    "$$ \n",
    "which we will use for testing against $\\mathrm{erf}(x)$"
   ]
  },
  {
   "cell_type": "markdown",
   "metadata": {
    "deletable": false,
    "editable": false,
    "nbgrader": {
     "cell_type": "markdown",
     "checksum": "7bbd4f1522583961de8457201d6b5b51",
     "grade": false,
     "grade_id": "cell-7394d01b84f7ad21",
     "locked": true,
     "schema_version": 3,
     "solution": false,
     "task": false
    }
   },
   "source": [
    "**(a)** [8] Single step quadrature rules\n",
    "\n",
    "Write short python functions for calculating $I[f]$ for the following newton-Cotes  quadrature rules on a single interval\n",
    "\n",
    "* Left-Rectangle rule\n",
    "* Mid-point rule\n",
    "* Trapezoidal rule\n",
    "* Simpson's Rule"
   ]
  },
  {
   "cell_type": "code",
   "execution_count": 17,
   "metadata": {
    "deletable": false,
    "nbgrader": {
     "cell_type": "code",
     "checksum": "9d83aaabf33a18b7fb3ebdc876ac8b3b",
     "grade": false,
     "grade_id": "cell-656f8ecff157e21f",
     "locked": false,
     "schema_version": 3,
     "solution": true,
     "task": false
    }
   },
   "outputs": [],
   "source": [
    "def I_left(f, a, b):\n",
    "    \"\"\" Left rectangle rule\"\"\"\n",
    "    \n",
    "    h = b - a\n",
    "    I = f(a) * h\n",
    "\n",
    "    return I\n",
    "    \n",
    "def I_midpoint(f, a, b):\n",
    "    \"\"\" Newton-Cotes Midpoint rule\"\"\"\n",
    "    \n",
    "    h = b - a\n",
    "    I = h * f(a + h/2.)\n",
    "    \n",
    "    return I\n",
    "    \n",
    "    \n",
    "def I_trapezoid(f, a, b):\n",
    "    \"\"\" Newton-Cotes Trapezoid rule\"\"\"\n",
    "    \n",
    "    h = b - a\n",
    "    I = h/2. * (f(a) + f(b))\n",
    "    \n",
    "    return I\n",
    "    \n",
    "def I_simpson(f, a, b):\n",
    "    \"\"\" Newton-Cotes Simpsons rule\"\"\"\n",
    "    \n",
    "    h = b - a \n",
    "    w = numpy.array([1./3., 4./3., 1./3.])\n",
    "    xi = numpy.array([-1., 0., 1.])\n",
    "    x = lambda xi: h/2. * xi + (b + a)/2.\n",
    "    I = h/2. * numpy.sum(w * f(x(xi)))\n",
    "    \n",
    "    return I\n",
    "\n",
    "\n",
    "    "
   ]
  },
  {
   "cell_type": "code",
   "execution_count": 18,
   "metadata": {
    "deletable": false,
    "editable": false,
    "nbgrader": {
     "cell_type": "code",
     "checksum": "805dea44cc0dd5b7acaba0f93a994a72",
     "grade": true,
     "grade_id": "cell-c9c5d610957c6e0d",
     "locked": true,
     "points": 8,
     "schema_version": 3,
     "solution": false,
     "task": false
    }
   },
   "outputs": [
    {
     "name": "stdout",
     "output_type": "stream",
     "text": [
      "x = 1.0, erf(x) = 0.8427007929497148\n",
      "\n",
      "success!\n"
     ]
    }
   ],
   "source": [
    "# test against erf(1.)\n",
    "\n",
    "x = 1.0\n",
    "I_true = erf(x)\n",
    "print('x = {}, erf(x) = {}\\n'.format(x,I_true))\n",
    "f = lambda x : 2./numpy.sqrt(numpy.pi) * numpy.exp(-x*x)\n",
    "\n",
    "I = numpy.zeros(4)\n",
    "I[0] = I_left(f, 0., x)\n",
    "I[1] = I_midpoint(f, 0., x)\n",
    "I[2] = I_trapezoid(f, 0., x)\n",
    "I[3] = I_simpson(f, 0., x)\n",
    "\n",
    "err = numpy.abs( I - I_true)/numpy.abs(I_true)\n",
    "answer = numpy.array([0.339003328982087,  0.0428168411464673,\n",
    "          0.084202437312641, 0.0004770816600977])\n",
    "numpy.testing.assert_allclose(err, answer)\n",
    "print('success!')"
   ]
  },
  {
   "cell_type": "markdown",
   "metadata": {
    "deletable": false,
    "editable": false,
    "nbgrader": {
     "cell_type": "markdown",
     "checksum": "713031b2a8b6bad3c6dee15b9e7569ae",
     "grade": false,
     "grade_id": "cell-9eb665d0310b8e47",
     "locked": true,
     "schema_version": 3,
     "solution": false,
     "task": false
    }
   },
   "source": [
    "**(b)** [8] Repeat the exercise for  3 point Gauss-Legendre Quadrature\n",
    "\n",
    "* First:  calculates the weights $w_i$, using the method of undetermined coefficients such that the quadrature rule exactly integrates the monomials $1, x, x^2$ over the interval $x\\in[-1,1]$.\n",
    "(hint:  the 3 quadrature points $x_i$ are the roots of \n",
    "\n",
    "$$\n",
    "    P_3(x) = (5x^3 - 3x)/2\n",
    "$$\n",
    "and this rule will exactly integrate polynomials up to order 5)."
   ]
  },
  {
   "cell_type": "markdown",
   "metadata": {
    "deletable": false,
    "nbgrader": {
     "cell_type": "markdown",
     "checksum": "7d826c95d35f6e9677e9e61b584dc3e8",
     "grade": true,
     "grade_id": "cell-07d167d661aa6223",
     "locked": false,
     "points": 4,
     "schema_version": 3,
     "solution": true,
     "task": false
    }
   },
   "source": [
    "Find roots of $P_3(x)$\n",
    "\n",
    "    Set inequality for roots: \n",
    "\n",
    "$$ \\frac{1}{2}(5x^3 - 3x) = 0 $$\n",
    "\n",
    "$$ 5x^3 - 3x = 0 $$\n",
    "\n",
    "$$ x(5x^2 - 3) = 0 $$\n",
    "\n",
    "    From here, we know x = 0 is a root \n",
    "    \n",
    "$$ 5x^2 = 3 $$\n",
    "\n",
    "$$ x^2 = \\frac{3}{5} $$\n",
    "\n",
    "$$ x = \\pm \\sqrt{\\frac{3}{5}} $$\n",
    "\n",
    "Therefore the roots $x_1, x_2, x_3$ are $ -\\sqrt{\\frac{3}{5}}, 0, \\sqrt{\\frac{3}{5}} $ respectively. \n",
    "\n",
    "Now we can find the weights:\n",
    "\n",
    "$$ c_1 = \\frac{2}{(1 - x_0^2)(P_3'(x_1))} = \\frac{2}{(\\frac{2}{5})(9)} = \\frac{5}{9} $$\n",
    "\n",
    "$$ c_2 = \\frac{2}{(1 - x_1^2)(P_3'(x_2))} = \\frac{2}{(\\frac{9}{4})} = \\frac{8}{9} $$\n",
    "\n",
    "$$ c_3 = \\frac{2}{(1 - x_3^2)(P_3'(x_3))} = \\frac{2}{(\\frac{2}{5})(9)} = \\frac{5}{9} $$\n",
    "\n"
   ]
  },
  {
   "cell_type": "markdown",
   "metadata": {
    "deletable": false,
    "editable": false,
    "nbgrader": {
     "cell_type": "markdown",
     "checksum": "f10979ca436557f45b2e46aab652d6f6",
     "grade": false,
     "grade_id": "cell-001440f37a3e160d",
     "locked": true,
     "schema_version": 3,
     "solution": false,
     "task": false
    }
   },
   "source": [
    "Next, implement your 3-point GL quadrature scheme to approximate \n",
    "\n",
    "$$\n",
    "    \\int_a^b f(x) dx\n",
    "$$\n",
    "for an arbitrary interval $x\\in [a,b]$ (remember the affine mapping). "
   ]
  },
  {
   "cell_type": "code",
   "execution_count": 19,
   "metadata": {
    "deletable": false,
    "nbgrader": {
     "cell_type": "code",
     "checksum": "608e6af5b3a81218a4e96ba9b244f979",
     "grade": false,
     "grade_id": "cell-094691d93b475d66",
     "locked": false,
     "schema_version": 3,
     "solution": true,
     "task": false
    }
   },
   "outputs": [],
   "source": [
    "def I_GL3(f, a, b):\n",
    "    \"\"\" 3 point Gauss-Legendre Quadrature rule\"\"\"\n",
    "    \n",
    "    h = b - a\n",
    "    weights = numpy.array([5/9., 8/9., 5/9.])\n",
    "    roots = numpy.array([-numpy.sqrt(3./5.), 0., numpy.sqrt(3./5.)])\n",
    "    x = lambda roots: h / 2. * roots + (b + a) / 2.\n",
    "    I = h / 2. * numpy.sum(weights * f(x(roots)))\n",
    "    \n",
    "    return I\n",
    "\n",
    "    "
   ]
  },
  {
   "cell_type": "code",
   "execution_count": 20,
   "metadata": {
    "deletable": false,
    "editable": false,
    "nbgrader": {
     "cell_type": "code",
     "checksum": "384646a064e7155b9ae1947f77fee12f",
     "grade": true,
     "grade_id": "cell-0a4061efa277bd8e",
     "locked": true,
     "points": 4,
     "schema_version": 3,
     "solution": false,
     "task": false
    }
   },
   "outputs": [
    {
     "name": "stdout",
     "output_type": "stream",
     "text": [
      "x = 1.0, erf(x) = 0.8427007929497148\n",
      "       I_GL3(x) = 0.8426900184845107, err=1.2785635535382798e-05\n",
      "\n",
      "success!\n"
     ]
    }
   ],
   "source": [
    "x = 1.0\n",
    "I_true = erf(x)\n",
    "f = lambda x : 2./numpy.sqrt(numpy.pi) * numpy.exp(-x*x)\n",
    "\n",
    "I = I_GL3(f, 0., x)\n",
    "err = numpy.abs( I - I_true)/numpy.abs(I_true)\n",
    "print('x = {}, erf(x) = {}'.format(x,I_true))\n",
    "print('       I_GL3(x) = {}, err={}\\n'.format(I,err))\n",
    "\n",
    "answer = 1.2785635535382798e-05\n",
    "numpy.testing.assert_allclose(err, answer)\n",
    "print('success!')"
   ]
  },
  {
   "cell_type": "markdown",
   "metadata": {},
   "source": [
    "**(c)** [8] Extended Quadrature rules. \n",
    "\n",
    "All of the above rules approximate the integral for a single \"panel\" over the interval $[a,b]$, but can be extended to calculate the quadrature of $N$ panels that subdivide the interval.  \n",
    "\n",
    "Write a function that computes\n",
    "\n",
    "$$\n",
    "    I_N[f] = \\int_a^b f(x) dx = \\sum_{n=1}^N I_{method}[f]_n\n",
    "$$\n",
    "\n",
    "\n",
    "where $I_{method}[f]_n$ is one of the quadrature methods used above. \n",
    "\n",
    "Note, this won't be the most efficient way to implement many of these methods,  but that's not really the issue here."
   ]
  },
  {
   "cell_type": "code",
   "execution_count": 21,
   "metadata": {
    "deletable": false,
    "nbgrader": {
     "cell_type": "code",
     "checksum": "3caa4c079bd69f6e6e15f2c59ea1ffb4",
     "grade": false,
     "grade_id": "cell-2773e3774b718b85",
     "locked": false,
     "schema_version": 3,
     "solution": true,
     "task": false
    }
   },
   "outputs": [],
   "source": [
    "def quadN(f, a, b, N, method=I_midpoint):\n",
    "    \"\"\" \n",
    "    integrate a function f over the interval x in [a,b] using \n",
    "    an extended quadrature rule that implements a single interval\n",
    "    quadrature rule over N panels of width (a - b)/N \n",
    "        \n",
    "    Parameters:\n",
    "    -----------\n",
    "        \n",
    "    f:  function f(x) (type real)\n",
    "    a: real\n",
    "        left boundary of interval\n",
    "    b: real\n",
    "        right boundary of interval\n",
    "    N: integer\n",
    "        number of panels to subdivide [a,b]\n",
    "    method:  quadrature function with interface I(f, x0, x1) (real)\n",
    "        returns quadrature approximation for subinterval [x0, x1]\n",
    "        defaults to a midpoint rule\n",
    "            \n",
    "    Returns:\n",
    "    --------\n",
    "    I_N:  extended quadrature approximation of \\int_a^b f(x) dx\n",
    "        \n",
    "    \"\"\"\n",
    "    \n",
    "    panels = numpy.linspace(a, b, N + 1)\n",
    "    I = 0\n",
    "    for n in range(N):\n",
    "        I += method(f, panels[n], panels[n + 1])\n",
    "        \n",
    "    return I\n",
    "        "
   ]
  },
  {
   "cell_type": "code",
   "execution_count": 22,
   "metadata": {
    "deletable": false,
    "editable": false,
    "nbgrader": {
     "cell_type": "code",
     "checksum": "b13dd600ef7de18144333d8ac0a0c098",
     "grade": true,
     "grade_id": "cell-1f6027bc9e4241f3",
     "locked": true,
     "points": 4,
     "schema_version": 3,
     "solution": false,
     "task": false
    }
   },
   "outputs": [
    {
     "name": "stdout",
     "output_type": "stream",
     "text": [
      "N = 1, I = 0.8787825789354448, err = 0.042816841146467305\n",
      "N = 2, I = 0.8514725992856609, err = 0.010409158754012854\n",
      "N = 4, I = 0.844870665048331, err = 0.00257490216785125\n",
      "N = 8, I = 0.843241789735697, err = 0.0006419796806984446\n",
      "N = 16, I = 0.8428359498722815, err = 0.00016038542232009014\n",
      "success!\n"
     ]
    }
   ],
   "source": [
    "# Let's test against erf(1)\n",
    "\n",
    "x = 1.\n",
    "I_true = erf(x)\n",
    "f = lambda x : 2./numpy.sqrt(numpy.pi) * numpy.exp(-x*x)\n",
    "\n",
    "# set the number of panels in a list\n",
    "N = [ 2**n for n in range (5)]\n",
    "\n",
    "# integrate using the extended mid-point scheme and calculate relative errors for each N\n",
    "err = numpy.zeros(len(N))\n",
    "for i,n in enumerate(N):\n",
    "    I = quadN(f, 0., x, n, method=I_midpoint)\n",
    "    err[i] = numpy.abs(I - I_true)/numpy.abs(I_true)\n",
    "    print('N = {}, I = {}, err = {}'.format(n, I, err[i]) )\n",
    "    \n",
    "answer = numpy.array([0.0428168411464673, 0.0104091587540129,\n",
    "                      0.0025749021678512, 0.0006419796806984,\n",
    "                      0.0001603854223201])\n",
    "numpy.testing.assert_allclose(answer,err)\n",
    "print('success!')\n",
    "                    "
   ]
  },
  {
   "cell_type": "markdown",
   "metadata": {},
   "source": [
    "**(d)** [10] Now *write a function* to make a plot that  compares the convergence behavior of all of the above methods (if you make it a function, you will be able to reuse it in the next  problem).\n",
    "\n",
    "This function should  make a beautiful log-log plot showing the convergence behavior of the *relative error* with respect to \n",
    "\n",
    "$$\n",
    "    I_{true} = \\mathrm{erf}(1) = 0.8427007929497148\n",
    "$$\n",
    "\n",
    "for all the different quadrature rules for \n",
    "\n",
    "$$\n",
    "    N = 2^n \\quad \\text{panels}\\quad \\text{for}\\, n=0,1,\\ldots,10\n",
    "$$\n",
    "\n",
    "remember to label all the curves with the methods.\n",
    "\n",
    "Hint 1: there are some nice python tricks for doing this relatively efficiently, e.g. you can loop over a list of methods and extract the name with \n",
    "\n",
    "`name = method.__name__`\n",
    "\n",
    "\n",
    "**Extra Credit** the rate of convergence of any scheme can be written as\n",
    "\n",
    "$$\n",
    "    |e| = C\\Delta x^p\n",
    "$$\n",
    "\n",
    "For each method calculate $C$ and $p$ and plot the best fit straight-line in $\\log(\\Delta x)-\\log(e)$ space (hint: `numpy.polyfit` is your friend). "
   ]
  },
  {
   "cell_type": "code",
   "execution_count": 23,
   "metadata": {
    "deletable": false,
    "nbgrader": {
     "cell_type": "code",
     "checksum": "7c671abfa500fc1dacee7f86cc6553c1",
     "grade": false,
     "grade_id": "cell-4660d6ac4039cdea",
     "locked": false,
     "schema_version": 3,
     "solution": true,
     "task": false
    }
   },
   "outputs": [],
   "source": [
    "def plot_quad_convergence(f, a, b, N, I_true, title=None):\n",
    "    \"\"\" create a convergence log-log plot that plots relative error of \n",
    "    various extended quadrature schemes vs panel spacing dx\n",
    "    \n",
    "    If really fancy, also calculates the best fit straight line in log-log space to estimate convergence\n",
    "    parameters\n",
    "    \n",
    "    Parameters:\n",
    "    -----------\n",
    "        \n",
    "    f:  function f(x) (type real)\n",
    "    a: real\n",
    "        left boundary of interval\n",
    "    b: real\n",
    "        right boundary of interval\n",
    "    N: List of integers \n",
    "        number of panels to subdivide [a,b]\n",
    "    I_true:  real\n",
    "        True solution to compute errors\n",
    "    title:  string\n",
    "        title of plot (if not None)\n",
    "            \n",
    "    Returns:\n",
    "    --------\n",
    "    Nothing but generates a pretty log-log plot all properly labeled\n",
    "    \n",
    "    \"\"\"\n",
    "    \n",
    "    h = (b - a) / numpy.array(N)\n",
    "    err = numpy.zeros(h.shape)\n",
    "    \n",
    "    fig = plt.figure(figsize=(10, 8))\n",
    "    axes = fig.add_subplot(1, 1, 1)\n",
    "    \n",
    "    cycle = plt.rcParams['axes.prop_cycle']\n",
    "    colors = cycle.by_key()['color']\n",
    "    \n",
    "    methods = [I_left, I_midpoint, I_trapezoid, I_simpson, I_GL3]\n",
    "    \n",
    "    for m, method in enumerate(methods):\n",
    "        name = method.__name__\n",
    "        for i, n in enumerate(N):\n",
    "            I = quadN(f, 0., x, n, method = method)\n",
    "            err[i] = numpy.abs(I - I_true) / numpy.abs(I_true)\n",
    "            if name is not 'I_GL3':\n",
    "                nMax = len(N)\n",
    "            else:\n",
    "                nMax = 7        \n",
    "        \n",
    "        p = numpy.polyfit(numpy.log(h[:nMax]), numpy.log(err[:nMax]), 1)\n",
    "        fit_err = numpy.exp(p[1]) * h ** p[0]\n",
    "        \n",
    "        axes.loglog(h, err, 'o', color = colors[m], label = '{}, p = {:.2f}'.format(name, p[0]))\n",
    "        axes.loglog(h, fit_err, '--', color = colors[m])\n",
    "        \n",
    "    axes.set_xlabel('$\\Delta x$')\n",
    "    axes.set_ylabel('relative error')\n",
    "    axes.legend()\n",
    "    \n",
    "    if title is not None:\n",
    "        axes.set_title(title)\n",
    "    \n",
    "    plt.show()\n",
    "    \n",
    "    "
   ]
  },
  {
   "cell_type": "code",
   "execution_count": 24,
   "metadata": {
    "deletable": false,
    "editable": false,
    "nbgrader": {
     "cell_type": "code",
     "checksum": "fcf225a54de7ce5c4d5c480d050c14e9",
     "grade": true,
     "grade_id": "cell-4660d6ac40234983",
     "locked": true,
     "points": 10,
     "schema_version": 3,
     "solution": false,
     "task": false
    }
   },
   "outputs": [
    {
     "data": {
      "image/png": "[encoded data removed]",
      "text/plain": [
       "<Figure size 720x576 with 1 Axes>"
      ]
     },
     "metadata": {
      "needs_background": "light"
     },
     "output_type": "display_data"
    }
   ],
   "source": [
    "#Let's test with erf(1) and a lot of points\n",
    "\n",
    "x = 1.\n",
    "I_true = erf(x)\n",
    "f = lambda x : 2./numpy.sqrt(numpy.pi) * numpy.exp(-x*x)    \n",
    "\n",
    "N = [ 2**n for n in range (11)]\n",
    "\n",
    "plot_quad_convergence(f, 0., 1., N, I_true, 'erf(1.)')"
   ]
  },
  {
   "cell_type": "markdown",
   "metadata": {
    "deletable": false,
    "editable": false,
    "nbgrader": {
     "cell_type": "markdown",
     "checksum": "7f29373a9532025bf4d3caa2d3650f7f",
     "grade": false,
     "grade_id": "cell-afe493064c8d3820",
     "locked": true,
     "schema_version": 3,
     "solution": false,
     "task": false
    }
   },
   "source": [
    "**(e)** [3] Estimate the number of function evaluations required to get a relative error $e \\approx 10^{-7}$ i.e. about 7 digits of precision for the schemes\n",
    "\n",
    "* Mid-point\n",
    "* Simpson's\n",
    "* 3-Pt GL quadrature\n"
   ]
  },
  {
   "cell_type": "markdown",
   "metadata": {
    "deletable": false,
    "nbgrader": {
     "cell_type": "markdown",
     "checksum": "6ac87dd21ab641341de4d3787e28ad44",
     "grade": true,
     "grade_id": "cell-8625e6a922cd3352",
     "locked": false,
     "points": 3,
     "schema_version": 3,
     "solution": true,
     "task": false
    }
   },
   "source": [
    "The graph for mid-point seems to point to needing around 1024 function evalutations.\n",
    "\n",
    "The graph for simpson points to needing 24 function evaluations. \n",
    "\n",
    "Meanwhile, it looks like GL Quadrature will take around 192 function evaluations. "
   ]
  },
  {
   "cell_type": "markdown",
   "metadata": {
    "deletable": false,
    "editable": false,
    "nbgrader": {
     "cell_type": "markdown",
     "checksum": "873062154e7804823aa04f2506934094",
     "grade": false,
     "grade_id": "cell-7913098871853593",
     "locked": true,
     "schema_version": 3,
     "solution": false
    }
   },
   "source": [
    "## Question 2\n",
    "\n",
    "Let's repeat the problem with a harder integral.\n",
    "\n",
    "Consider the scaled Fresnel integrals\n",
    "\n",
    "$$I_c = \\int^1_0 \\frac{\\cos x}{\\sqrt{x}} dx~~~~\\text{and}~~~~I_s = \\int^1_0 \\frac{\\sin x}{\\sqrt{x}} dx$$\n",
    "\n",
    "which have values\n",
    "\n",
    "$$I_c = \\sqrt{2 \\pi} \\cdot C\\left(\\sqrt{\\frac{2}{\\pi}}\\right) \\approx 1.8090484758005438$$\n",
    "\n",
    "$$I_s = \\sqrt{2 \\pi} \\cdot S\\left(\\sqrt{\\frac{2}{\\pi}}\\right) \\approx 0.62053660344676231$$\n",
    "\n",
    "where the functions $C(x)$ and $S(x)$ can be evaluated by `scipy.special.fresnel`.\n"
   ]
  },
  {
   "cell_type": "markdown",
   "metadata": {
    "deletable": false,
    "editable": false,
    "nbgrader": {
     "cell_type": "markdown",
     "checksum": "222f7d5236736b8a0776cb02ca1df5b4",
     "grade": false,
     "grade_id": "cell-8ebcf647bbb397eb",
     "locked": true,
     "schema_version": 3,
     "solution": false
    }
   },
   "source": [
    "**(a)** [2] Where do you imagine the problematic points of the integrals will be?"
   ]
  },
  {
   "cell_type": "markdown",
   "metadata": {
    "deletable": false,
    "nbgrader": {
     "cell_type": "markdown",
     "checksum": "43f6c40a1d1510407671a7fd52b23b89",
     "grade": true,
     "grade_id": "cell-52b455a70eeda752",
     "locked": false,
     "points": 2,
     "schema_version": 3,
     "solution": true
    }
   },
   "source": [
    "The problematic points will be when $x = 0$. This is because when $x = 0$ the functions $c$ and $s$ are discontinuous. "
   ]
  },
  {
   "cell_type": "markdown",
   "metadata": {
    "deletable": false,
    "editable": false,
    "nbgrader": {
     "cell_type": "markdown",
     "checksum": "90b26b9a2d890e91ad20980c2f8d454d",
     "grade": false,
     "grade_id": "cell-1280863455188854",
     "locked": true,
     "schema_version": 3,
     "solution": false
    }
   },
   "source": [
    "**(b)** [4] Use your convergence plotting routine to make  2 plots showing convergence behavior for all the extended quadrature rules for $I_c$ and $I_s$ "
   ]
  },
  {
   "cell_type": "code",
   "execution_count": 25,
   "metadata": {
    "deletable": false,
    "editable": false,
    "nbgrader": {
     "cell_type": "code",
     "checksum": "7ebf34615245a87bea24a1c1ba31976d",
     "grade": false,
     "grade_id": "cell-b8c9ff40cd5c59c5",
     "locked": true,
     "schema_version": 3,
     "solution": false,
     "task": false
    }
   },
   "outputs": [],
   "source": [
    "# Set the True solutions for reference\n",
    "Is_true, Ic_true = fresnel(numpy.sqrt(2.0 / numpy.pi))\n",
    "Is_true *= numpy.sqrt(2.0 * numpy.pi)\n",
    "Ic_true *= numpy.sqrt(2.0 * numpy.pi)"
   ]
  },
  {
   "cell_type": "code",
   "execution_count": 27,
   "metadata": {
    "deletable": false,
    "nbgrader": {
     "cell_type": "code",
     "checksum": "e0d01a567f26eec13643ac678addf4b8",
     "grade": true,
     "grade_id": "cell-4769111180699037",
     "locked": false,
     "points": 4,
     "schema_version": 3,
     "solution": true,
     "task": false
    }
   },
   "outputs": [
    {
     "name": "stderr",
     "output_type": "stream",
     "text": [
      "/opt/conda/lib/python3.7/site-packages/ipykernel_launcher.py:1: RuntimeWarning: divide by zero encountered in double_scalars\n",
      "  \"\"\"Entry point for launching an IPython kernel.\n",
      "/opt/conda/lib/python3.7/site-packages/ipykernel_launcher.py:1: RuntimeWarning: divide by zero encountered in true_divide\n",
      "  \"\"\"Entry point for launching an IPython kernel.\n"
     ]
    },
    {
     "data": {
      "image/png": "[encoded data removed]",
      "text/plain": [
       "<Figure size 720x576 with 1 Axes>"
      ]
     },
     "metadata": {
      "needs_background": "light"
     },
     "output_type": "display_data"
    },
    {
     "name": "stderr",
     "output_type": "stream",
     "text": [
      "/opt/conda/lib/python3.7/site-packages/ipykernel_launcher.py:2: RuntimeWarning: invalid value encountered in double_scalars\n",
      "  \n",
      "/opt/conda/lib/python3.7/site-packages/ipykernel_launcher.py:2: RuntimeWarning: invalid value encountered in true_divide\n",
      "  \n"
     ]
    },
    {
     "data": {
      "image/png": "[encoded data removed]",
      "text/plain": [
       "<Figure size 720x576 with 1 Axes>"
      ]
     },
     "metadata": {
      "needs_background": "light"
     },
     "output_type": "display_data"
    }
   ],
   "source": [
    "c = lambda x: numpy.cos(x)/numpy.sqrt(x)\n",
    "s = lambda x: numpy.sin(x)/numpy.sqrt(x)\n",
    "\n",
    "N = [2**n for n in range (11)]\n",
    "plot_quad_convergence(c, 0., 1., N, Ic_true, 'Ic')\n",
    "plot_quad_convergence(s, 0., 1., N, Is_true, 'Is')"
   ]
  },
  {
   "cell_type": "markdown",
   "metadata": {
    "deletable": false,
    "editable": false,
    "nbgrader": {
     "cell_type": "markdown",
     "checksum": "8f2038ab50a4c886d293dedb1a869c07",
     "grade": false,
     "grade_id": "cell-9da6810b250515c1",
     "locked": true,
     "schema_version": 3,
     "solution": false,
     "task": false
    }
   },
   "source": [
    "**(c)**  [4] Explain the results of your plots"
   ]
  },
  {
   "cell_type": "markdown",
   "metadata": {
    "deletable": false,
    "nbgrader": {
     "cell_type": "markdown",
     "checksum": "a757dade2565bc279dd29509dc7f7175",
     "grade": true,
     "grade_id": "cell-63c5719c37c551a7",
     "locked": false,
     "points": 4,
     "schema_version": 3,
     "solution": true,
     "task": false
    }
   },
   "source": [
    "Only the midpoint and GL3 method are able to actually approximate the integral. This because these two methods use middle points to caclulate the integral, thereby not ancountering the singularity at 0. The other methods sample the edge points at the singularity—which ends up returning an inf (and the rest of the points are adding to inf). \n",
    "\n",
    "The errors for Ic are much larger but both graphs show suboptimal rates of convergence. "
   ]
  },
  {
   "cell_type": "markdown",
   "metadata": {
    "deletable": false,
    "editable": false,
    "nbgrader": {
     "cell_type": "markdown",
     "checksum": "f34fc6440d2bf6c705a7f05f1851b890",
     "grade": false,
     "grade_id": "cell-4978686228436492",
     "locked": true,
     "schema_version": 3,
     "solution": false
    }
   },
   "source": [
    "**(d)** [4] show that the convergence and the quadrature schemes can be dramatically improved simply by tranforming the variable $x$ with $x=t^2$\n",
    "\n",
    "1. Show analytically what the transformed integral should be\n",
    "2. produce two more plots demonstrating convergence behaviour\n",
    "3. comment on the results"
   ]
  },
  {
   "cell_type": "markdown",
   "metadata": {
    "deletable": false,
    "nbgrader": {
     "cell_type": "markdown",
     "checksum": "35864666b5625c7e749afeac806160eb",
     "grade": true,
     "grade_id": "cell-497868628436492",
     "locked": false,
     "points": 4,
     "schema_version": 3,
     "solution": true
    }
   },
   "source": [
    "\n",
    "    Ic:\n",
    "    \n",
    "$$ I_c = \\int^1_0 \\frac{\\cos x}{\\sqrt{x}} dx $$\n",
    "\n",
    "Parametrize with $x = t^2$\n",
    "\n",
    "$$ I_c = \\int^1_0 \\frac{\\cos t^2}{\\sqrt{t^2}} 2t dt $$\n",
    "\n",
    "$$ I_c = \\int^1_0 \\frac{\\cos t^2}{t} 2t dt $$\n",
    "\n",
    "$$ I_c = \\int^1_0 2\\cos t^2 dt $$\n",
    "\n",
    "$$ I_c = 2\\int^1_0 \\cos t^2 dt $$\n",
    "\n",
    "    Is:\n",
    "\n",
    "$$ I_s = \\int^1_0 \\frac{\\sin x}{\\sqrt{x}} dx $$\n",
    "\n",
    "Parametrize with $x = t^2$\n",
    "\n",
    "$$ I_s = \\int^1_0 \\frac{\\sin t^2}{\\sqrt{t^2}} 2t dt $$\n",
    "\n",
    "$$ I_s = \\int^1_0 \\frac{\\sin t^2}{t} 2t dt $$\n",
    "\n",
    "$$ I_s = \\int^1_0 2\\sin t^2 dt $$\n",
    "\n",
    "$$ I_s = 2\\int^1_0 \\sin t^2 dt $$\n",
    "\n",
    "\n",
    "\n"
   ]
  },
  {
   "cell_type": "code",
   "execution_count": 28,
   "metadata": {
    "deletable": false,
    "nbgrader": {
     "cell_type": "code",
     "checksum": "a8dbac5be031598051fa0c34127ecd6f",
     "grade": true,
     "grade_id": "cell-eb376330eaf94f20",
     "locked": false,
     "points": 2,
     "schema_version": 3,
     "solution": true,
     "task": false
    }
   },
   "outputs": [
    {
     "data": {
      "image/png": "[encoded data removed]",
      "text/plain": [
       "<Figure size 720x576 with 1 Axes>"
      ]
     },
     "metadata": {
      "needs_background": "light"
     },
     "output_type": "display_data"
    },
    {
     "data": {
      "image/png": "[encoded data removed]",
      "text/plain": [
       "<Figure size 720x576 with 1 Axes>"
      ]
     },
     "metadata": {
      "needs_background": "light"
     },
     "output_type": "display_data"
    }
   ],
   "source": [
    "# Set the True solutions for reference\n",
    "Is_true, Ic_true = fresnel(numpy.sqrt(2.0 / numpy.pi))\n",
    "Is_true *= numpy.sqrt(2.0 * numpy.pi)\n",
    "Ic_true *= numpy.sqrt(2.0 * numpy.pi)\n",
    "\n",
    "c = lambda t: 2 * numpy.cos(t ** 2)\n",
    "s = lambda t: 2 * numpy.sin(t ** 2)\n",
    "\n",
    "N = [2**n for n in range (11)]\n",
    "plot_quad_convergence(c, 0., 1., N, Ic_true, 'Ic')\n",
    "plot_quad_convergence(s, 0., 1., N, Is_true, 'Is')"
   ]
  },
  {
   "cell_type": "markdown",
   "metadata": {
    "deletable": false,
    "nbgrader": {
     "cell_type": "markdown",
     "checksum": "6ce23a474c27cd96722f8c415b9bc5d4",
     "grade": true,
     "grade_id": "cell-7860584774817940",
     "locked": false,
     "points": 2,
     "schema_version": 3,
     "solution": true
    }
   },
   "source": [
    "After the transformation, the singularity at x = 0 no longer exists for cos so the function is now \"well behaved\" so that we can estimate both functions pretty well. Clearly GL3 is the most accurate method to calculate these functions. "
   ]
  },
  {
   "cell_type": "markdown",
   "metadata": {
    "deletable": false,
    "editable": false,
    "nbgrader": {
     "cell_type": "markdown",
     "checksum": "8ff3a571b95813b0d047e77d2037d05a",
     "grade": false,
     "grade_id": "cell-3224734890563854",
     "locked": true,
     "schema_version": 3,
     "solution": false
    }
   },
   "source": [
    "## Question 3\n",
    "\n",
    "We can often reformulate finite difference approximations as matrix-vector products.  For the following problem, assume that the data considered are equispaced points $(x_i, y_i)$, i.e. $\\Delta x$ is uniform.  \n",
    "\n",
    "Here we will construct a matrix   $D$  such that multiplying a vector of $\\mathbf{y}$ values would lead to a second order approximation of the First derivative for the given data. \n",
    "\n",
    "In other words for  $y_i = f(x_i)$\n",
    "\n",
    "$$\n",
    "f'(x) \\approx D\\mathbf{y}\n",
    "$$"
   ]
  },
  {
   "cell_type": "markdown",
   "metadata": {
    "deletable": false,
    "editable": false,
    "nbgrader": {
     "cell_type": "markdown",
     "checksum": "1743cfa3a244b89aab30f1e8702fe2e0",
     "grade": false,
     "grade_id": "cell-5c735e9080300d72",
     "locked": true,
     "schema_version": 3,
     "solution": false
    }
   },
   "source": [
    "**(a)** [8] Derive the forward, centered and  backward second order finite difference approximations to the first derivative using the method of your choice.\n",
    "\n",
    "I.e. given 3 equispaced points $x_i, x_{i+1}, x_{i+2}$  calculate the consistent 2nd order, *1st derivative* operator evaluated at each point.  \n",
    "\n",
    "* hint 1:  consider the interpolating polynomial $P_2(x)$ through those 3 points and calculate $P'_2(x)$ at each point.\n",
    "* hint 2:  the method of undetermined coefficients on Taylor's series can be useful here as well\n",
    "\n",
    "**Extra Credit**: Find the consistent 2nd order *2nd derivative* evaluated at each point"
   ]
  },
  {
   "cell_type": "markdown",
   "metadata": {
    "deletable": false,
    "nbgrader": {
     "cell_type": "markdown",
     "checksum": "87bcfa8c438a47431963124416ad954f",
     "grade": true,
     "grade_id": "cell-88d2d6f7dba4237d",
     "locked": false,
     "points": 8,
     "schema_version": 3,
     "solution": true
    }
   },
   "source": [
    "All discrete approximations to derivatives are linear combinations of functional values at the nodes:\n",
    "\n",
    "$$ f_i^p = \\frac{a\\alpha f\\alpha + a\\beta f\\beta + \\dots + a\\mu f\\mu}{h^p} + E $$\n",
    "\n",
    "Forward second order accurate approximation to the first derivative requires: \n",
    "\n",
    "    forward difference formula for fi(1) that is accurate up to E = O(h)^2\n",
    "    \n",
    "Therefore: \n",
    "    \n",
    "    Lets reference this equation as eq1 in the future: \n",
    "\n",
    "$$ E = \\frac{\\alpha_1 f_i + \\alpha_2 f_{i + 1} + \\alpha_3 f_{i + 2} }{h}$$\n",
    "\n",
    "Taylor Series expansions about $x_i$ are:\n",
    "\n",
    "$$ f_i = f_i $$\n",
    "\n",
    "$$ f_{i + 1} = f_i + hf_i^{(1)} + \\frac{h^2}{2}f_i^{(2)} + \\frac{h^3}{6}f_i^{(3)} + O(h)^4 $$\n",
    "\n",
    "$$ f_{i + 2} = f_i + 2hf_i^{(1)} + 2h^2f_i^{(2)} + \\frac{4}{3}h^3f_i^{(3)} + O(h)^4 $$\n",
    "\n",
    "Substituting into our assumed form of $f_i^1$ and re-arranging\n",
    "\n",
    "$$ \\frac{\\alpha_1 f_i + \\alpha_2 f_{i + 1} + \\alpha_3 f_{i + 2} }{h} = $$\n",
    "\n",
    "$$ \\frac{(\\alpha_1 + \\alpha_2 + \\alpha_3)}{h}f_i + (\\alpha_2+ 2\\alpha_3)f_i^{(1)} + (\\frac{\\alpha_2}{2} + 2\\alpha_3)hf_i^{(2)} + (\\frac{1}{6} \\alpha_2 + \\frac{4}{3}\\alpha_3)h^2f_i^{(3)} + O(h)^3$$\n",
    "\n",
    "We can set a system of equations to solve for $\\alpha_1, \\alpha_2, \\alpha_3$\n",
    "\n",
    "$$ \\frac{\\alpha_1 + \\alpha_2 + \\alpha_3}{h} = 0 $$\n",
    "\n",
    "$$ \\alpha_2+ 2\\alpha_3 = 1 $$\n",
    "\n",
    "$$ \\frac{\\alpha_2}{2} + 2\\alpha_3 = 0$$\n",
    "\n",
    "    Which gives us: \n",
    "\n",
    "$$ \\alpha_1 = -\\frac{3}{2} $$\n",
    "\n",
    "$$ \\alpha_2 = 2 $$\n",
    "\n",
    "$$ \\alpha_3 = -\\frac{1}{2} $$\n",
    "\n",
    "Now we plug in the values into eq1 and manipulate the equation\n",
    "\n",
    "    We get that the forward difference is:\n",
    "\n",
    "$$ f_1^{(1)} = \\frac{-3f_i + 4f_{i + 1} - f_{i + 2}}{2h} $$\n",
    "\n",
    "    We can use the same coefficients for the backwards difference: \n",
    "    \n",
    "$$ f_1^{(1)} = \\frac{3f_i - 4f_{i - 1} + f_{i - 2}}{2h} $$\n",
    "\n",
    "\n",
    "For the central difference we will subtract the backward's difference from the forward difference\n",
    "    \n",
    "    We discover that the central difference is: \n",
    "    \n",
    "$$ f_1^{(1)} = \\frac{f_{i + 1} - f_{i - 1}}{2h} $$\n"
   ]
  },
  {
   "cell_type": "markdown",
   "metadata": {
    "deletable": false,
    "editable": false,
    "nbgrader": {
     "cell_type": "markdown",
     "checksum": "ea21c54117d48517420295aefbcf2c1f",
     "grade": false,
     "grade_id": "cell-7885120873385504",
     "locked": true,
     "schema_version": 3,
     "solution": false
    }
   },
   "source": [
    "**(b)** [4] Now consider an equispaced set of points  $y_i = f(x_i)$, can you describe the structure of a consistent 2nd order, first derivative matrix $D$,  such that \n",
    "\n",
    "$$\n",
    "    f'(x) \\approx D\\mathbf{y}\n",
    "$$\n",
    "\n",
    "returns the consistent 1st derivative at every point (including the end points)"
   ]
  },
  {
   "cell_type": "markdown",
   "metadata": {
    "deletable": false,
    "nbgrader": {
     "cell_type": "markdown",
     "checksum": "615db92a0cea0a438f8d1bcb1b304b11",
     "grade": true,
     "grade_id": "cell-2125755949784286",
     "locked": false,
     "points": 4,
     "schema_version": 3,
     "solution": true
    }
   },
   "source": [
    "Building the matrix D row by row: \n",
    "\n",
    "    The first row must account for the fact that there are no points to the left of the graph. Hence, we use the forward difference equation we found earlier. \n",
    "    \n",
    "$$  \\frac{1}{2h} \\begin{bmatrix}\n",
    "    -3 & 4 & -1 & \\dots & 0 \\\\\n",
    "    x_{21} & x_{22} & x_{23} & \\dots  & x_{2n} \\\\\n",
    "    \\vdots & \\vdots & \\vdots & \\ddots & \\vdots \\\\\n",
    "    x_{d1} & x_{d2} & x_{d3} & \\dots  & x_{dn}\n",
    "    \\end{bmatrix}\n",
    "$$    \n",
    "\n",
    "    For the rest of the points, except the very last, the 1st derivative can be found using the centeral difference formula derived in the previous problem. \n",
    "    \n",
    "$$  \\frac{1}{2h} \\begin{bmatrix}\n",
    "    -3 & 4 & -1 & \\dots & 0 \\\\\n",
    "    -1 & 0 & 1 & \\dots  & 0 \\\\\n",
    "    \\vdots & \\vdots & \\vdots & \\ddots & \\vdots \\\\\n",
    "    x_{d1} & x_{d2} & x_{d3} & \\dots  & x_{dn}\n",
    "    \\end{bmatrix}\n",
    "$$    \n",
    "\n",
    "    However, notice that when we move towards subsequent points, we are utilizing new points and disregarding previous points. This means that every new derivative needs to be calculating with the next point. So the \"middle\" rows will look as such:\n",
    "    \n",
    "$$  \\frac{1}{2h} \\begin{bmatrix}\n",
    "    -3 & 4 & -1 & 0 & 0 & 0 & 0 & \\dots & 0 \\\\\n",
    "    -1 & 0 & 1 & 0 & 0 & 0 & 0 & \\dots  & 0 \\\\\n",
    "    0 & -1 & 0 & 1 & 0 & 0 & 0 & \\dots  & 0 \\\\\n",
    "    0 & 0 & -1 & 0 & 1 & 0 & 0 &\\dots  & 0 \\\\\n",
    "    0 & 0 & 0 & -1 & 0 & 1 & 0 &\\dots  & 0 \\\\\n",
    "    \\vdots & \\ddots & \\ddots & \\ddots & \\ddots & \\ddots & \\ddots & \\ddots & \\vdots \\\\\n",
    "    x_{d1} & x_{d2} & x_{d3}  & x_{d4} & x_{d5} & x_{d6} & x_{d7} & x_{d8} & \\dots \n",
    "    \\end{bmatrix}\n",
    "$$\n",
    "    \n",
    "    Finally, for the final point, we know that there will be no points to the right of the point at which we want to calculate the derivative. Hence, we must use the backwards difference formula. \n",
    "    \n",
    "$$  \\frac{1}{2h} \\begin{bmatrix}\n",
    "    -3 & 4 & -1 & 0 & 0 & 0 & 0 & \\dots & 0 \\\\\n",
    "    -1 & 0 & 1 & 0 & 0 & 0 & 0 & \\dots  & 0 \\\\\n",
    "    0 & -1 & 0 & 1 & 0 & 0 & 0 & \\dots  & 0 \\\\\n",
    "    0 & 0 & -1 & 0 & 1 & 0 & 0 &\\dots  & 0 \\\\\n",
    "    0 & 0 & 0 & -1 & 0 & 1 & 0 &\\dots  & 0 \\\\\n",
    "    0 & 0 & 0 & 0 & -1 & 0 & 1 &\\dots  & 0 \\\\\n",
    "    \\vdots & \\ddots & \\ddots & \\ddots & \\ddots & \\ddots & \\ddots & \\ddots & \\vdots \\\\\n",
    "    0 & 0 & 0 & 0 & 0 & 0 & 1 & -4 & 3 \n",
    "    \\end{bmatrix}\n",
    "$$\n",
    "    \n",
    "\n",
    "\n",
    "\n",
    "    \n",
    "    "
   ]
  },
  {
   "cell_type": "markdown",
   "metadata": {
    "deletable": false,
    "editable": false,
    "nbgrader": {
     "cell_type": "markdown",
     "checksum": "a1fcf4e790d7edff124196d5ff1f924a",
     "grade": false,
     "grade_id": "cell-8815784455777695",
     "locked": true,
     "schema_version": 3,
     "solution": false
    }
   },
   "source": [
    "**(c)** [8] Write a function that takes in the number of data points $N$ and returns the matrix $D$ (which is a 2-D numpy array of size $N\\times N$).  Here assume we are on the interval $[-1, 1]$.  Note that inside your function \n",
    "$$\n",
    "    \\Delta x = \\frac{2}{N - 1}\n",
    "$$\n",
    "to match the `linspace` command.\n",
    "\n",
    "Beyond being convenient (once you construct the matrix you can apply it to any set of data) this operation is much faster than using loops.  *Hint:* The command `numpy.diag` may be extremely helpful."
   ]
  },
  {
   "cell_type": "code",
   "execution_count": null,
   "metadata": {
    "deletable": false,
    "nbgrader": {
     "cell_type": "code",
     "checksum": "08cef2157f573181b72e409343a13c87",
     "grade": false,
     "grade_id": "cell-5516025382221234",
     "locked": false,
     "schema_version": 3,
     "solution": true
    }
   },
   "outputs": [],
   "source": [
    "def diff_matrix(N):\n",
    "    \n",
    "    if(N < 3):\n",
    "        raise ValueError('You have not supplied sufficient points to approximate the integral') \n",
    "    \n",
    "    D = numpy.zeros([N, N], dtype = int)\n",
    "    \n",
    "    # first row  \n",
    "    D[0, 0] = -3\n",
    "    D[0, 1] = 4\n",
    "    D[0, 2] = -1\n",
    "    \n",
    "    # last row \n",
    "    D[N - 1, N - 1] = 3\n",
    "    D[N - 1, N - 2] = -4\n",
    "    D[N - 1, N - 3] = 1\n",
    "    \n",
    "    i = 1\n",
    "    j = 0 \n",
    "    \n",
    "    while i is not N - 1:\n",
    "        D[i, j] = -1\n",
    "        D[i, j + 2] = 1\n",
    "        \n",
    "        j += 1\n",
    "        i += 1\n",
    "        \n",
    "    x = (N - 1) / 4\n",
    "    D = D * x\n",
    "    \n",
    "    return D"
   ]
  },
  {
   "cell_type": "code",
   "execution_count": null,
   "metadata": {
    "deletable": false,
    "editable": false,
    "nbgrader": {
     "cell_type": "code",
     "checksum": "e47e1ac514c76269a81c12e251c90091",
     "grade": true,
     "grade_id": "cell-7511846809958937",
     "locked": true,
     "points": 8,
     "schema_version": 3,
     "solution": false
    }
   },
   "outputs": [],
   "source": [
    "# Let's test this using f(x) = exp(2.*x) and 100 points\n",
    "\n",
    "N = 100\n",
    "x = numpy.linspace(-1, 1, N)\n",
    "y = numpy.exp(2.0 * x)\n",
    "y_prime = 2.*numpy.exp(2. * x)\n",
    "\n",
    "numpy.testing.assert_allclose(numpy.dot(diff_matrix(N), y), y_prime, rtol=1e-2)\n",
    "print(\"Success!\")"
   ]
  },
  {
   "cell_type": "markdown",
   "metadata": {
    "deletable": false,
    "editable": false,
    "nbgrader": {
     "cell_type": "markdown",
     "checksum": "ef47381570cceaa86b0fc67e2628c6b1",
     "grade": false,
     "grade_id": "cell-1283048126092389",
     "locked": true,
     "schema_version": 3,
     "solution": false
    }
   },
   "source": [
    "**(c)** [4] Suppose we knew the *first derivative* of a function $f(x)$ at a discrete set of points and wanted to solve for the discrete function itself.  i.e.  ideally given $D$ and vector $\\mathbf{y} = f'(\\mathbf{x})$,  we would like to be able to solve the linear algebra problem\n",
    "\n",
    "$$\n",
    "    D\\mathbf{f} = \\mathbf{y}\n",
    "$$\n",
    "\n",
    "for $\\mathbf{f}\\approx f(\\bf{x})$.  Discuss any issues we might have with this approach."
   ]
  },
  {
   "cell_type": "markdown",
   "metadata": {
    "deletable": false,
    "nbgrader": {
     "cell_type": "markdown",
     "checksum": "4796062ad226b5075c548c9202ba07fe",
     "grade": true,
     "grade_id": "cell-3816704844311840",
     "locked": false,
     "points": 4,
     "schema_version": 3,
     "solution": true
    }
   },
   "source": [
    "Our D matrix currently has a (non-trivial) null space which means that D is not invertible. We also only know f up to a constant, and that constant is a null space. To make unique solutions we need at least one more constraint in terms of the boundery or we need an initial condition that will make D invertible. "
   ]
  },
  {
   "cell_type": "code",
   "execution_count": null,
   "metadata": {},
   "outputs": [],
   "source": []
  }
 ],
 "metadata": {
  "kernelspec": {
   "display_name": "Python 3",
   "language": "python",
   "name": "python3"
  },
  "language_info": {
   "codemirror_mode": {
    "name": "ipython",
    "version": 3
   },
   "file_extension": ".py",
   "mimetype": "text/x-python",
   "name": "python",
   "nbconvert_exporter": "python",
   "pygments_lexer": "ipython3",
   "version": "3.7.3"
  }
 },
 "nbformat": 4,
 "nbformat_minor": 1
}
